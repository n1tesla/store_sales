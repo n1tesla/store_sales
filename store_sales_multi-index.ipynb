{
 "cells": [
  {
   "cell_type": "code",
   "id": "d67c320e-851a-4116-a701-02d3731eb6bd",
   "metadata": {
    "ExecuteTime": {
     "end_time": "2024-06-15T07:36:30.814081Z",
     "start_time": "2024-06-15T07:36:30.782858Z"
    }
   },
   "source": [
    "import pandas as pd\n",
    "import numpy as np\n",
    "from pathlib import Path\n",
    "\n",
    "from warnings import simplefilter\n",
    "simplefilter(\"ignore\")"
   ],
   "outputs": [],
   "execution_count": 173
  },
  {
   "cell_type": "code",
   "id": "9ca8eb6f-3a37-4408-97df-dd4bd00c512f",
   "metadata": {
    "ExecuteTime": {
     "end_time": "2024-06-15T07:36:30.955682Z",
     "start_time": "2024-06-15T07:36:30.940019Z"
    }
   },
   "source": [
    "dataset_dir = Path(\"dataset\")"
   ],
   "outputs": [],
   "execution_count": 174
  },
  {
   "cell_type": "markdown",
   "id": "3ee12baf-08f7-4502-9850-f097e7ea2290",
   "metadata": {},
   "source": [
    "## CONFIG "
   ]
  },
  {
   "cell_type": "code",
   "id": "6b57b1f4-1d56-4f4b-bb82-c5b8c6eb82a3",
   "metadata": {
    "ExecuteTime": {
     "end_time": "2024-06-15T07:36:30.977747Z",
     "start_time": "2024-06-15T07:36:30.955682Z"
    }
   },
   "source": [
    "filter_store_nbr = [str(i) for i in range(55)]\n",
    "filter_family_list = []\n",
    "val_ratio = 0.2\n",
    "train_start_date = \"2013-01-02\"\n",
    "train_end_date = \"2017-08-15\"\n",
    "test_start_date= \"2017-01-01\"\n",
    "test_end_date= \"2017-08-15\"\n",
    "\n",
    "from sktime.forecasting.base import ForecastingHorizon\n",
    "fh = ForecastingHorizon(np.arange(1,16))\n",
    "# fh = ForecastingHorizon(\n",
    "#     pd.PeriodIndex(pd.date_range('2017-08-16', periods=15, freq=\"D\")), is_relative=False\n",
    "# )\n",
    "fh"
   ],
   "outputs": [
    {
     "data": {
      "text/plain": [
       "ForecastingHorizon([1, 2, 3, 4, 5, 6, 7, 8, 9, 10, 11, 12, 13, 14, 15], dtype='int32', is_relative=True)"
      ]
     },
     "execution_count": 175,
     "metadata": {},
     "output_type": "execute_result"
    }
   ],
   "execution_count": 175
  },
  {
   "metadata": {
    "ExecuteTime": {
     "end_time": "2024-06-15T07:36:30.993368Z",
     "start_time": "2024-06-15T07:36:30.977747Z"
    }
   },
   "cell_type": "code",
   "source": [
    "def fh_calculator():\n",
    "    pass"
   ],
   "id": "e65d0ba8d98e48d1",
   "outputs": [],
   "execution_count": 176
  },
  {
   "cell_type": "code",
   "id": "b0056845-2c89-4a1b-aeeb-a9c678694226",
   "metadata": {
    "ExecuteTime": {
     "end_time": "2024-06-15T07:36:42.008188Z",
     "start_time": "2024-06-15T07:36:31.095946Z"
    }
   },
   "source": [
    "train = pd.read_csv(dataset_dir / 'train.csv',                            \n",
    "    usecols=['store_nbr', 'family', 'date', 'sales'],\n",
    "    dtype={\n",
    "        'store_nbr': 'category',\n",
    "        'family': 'category',\n",
    "        'sales': 'float32',\n",
    "        'onpromotion': 'uint32'\n",
    "    },\n",
    "    parse_dates=['date'],\n",
    "    infer_datetime_format=True,\n",
    ")\n",
    "train['date'] = train.date.dt.to_period('D')\n",
    "\n",
    "train = (train\n",
    "       .set_index(['store_nbr','family','date'])         # Setting MultiIndex to make unique identifiers for each 'sales' item\n",
    "       .sort_index()\n",
    "      )\n",
    "# train = train[train.index.isin(store_nbr_list)]"
   ],
   "outputs": [],
   "execution_count": 177
  },
  {
   "metadata": {
    "ExecuteTime": {
     "end_time": "2024-06-15T07:36:42.039391Z",
     "start_time": "2024-06-15T07:36:42.008188Z"
    }
   },
   "cell_type": "code",
   "source": [
    "def root_mean_squared_log_error_func(real, predicted):\n",
    "    sum=0.0\n",
    "    for x in range(len(predicted)):\n",
    "        if predicted[x]<0 or real[x]<0: # check for negative values\n",
    "            continue\n",
    "        p = np.log(predicted[x]+1)\n",
    "        r = np.log(real[x]+1)\n",
    "        sum = sum + (p - r)**2\n",
    "    return (sum/len(predicted))**0.5"
   ],
   "id": "7f1e98d9fb803c7c",
   "outputs": [],
   "execution_count": 178
  },
  {
   "metadata": {
    "ExecuteTime": {
     "end_time": "2024-06-15T07:36:42.055011Z",
     "start_time": "2024-06-15T07:36:42.039391Z"
    }
   },
   "cell_type": "code",
   "source": [
    "def normalize(group):\n",
    "    min_vals = group.min()\n",
    "    max_vals = group.max()\n",
    "    return (group - min_vals) / (max_vals - min_vals)\n"
   ],
   "id": "82441446ce3e74df",
   "outputs": [],
   "execution_count": 179
  },
  {
   "metadata": {
    "ExecuteTime": {
     "end_time": "2024-06-15T07:36:42.356102Z",
     "start_time": "2024-06-15T07:36:42.057020Z"
    }
   },
   "cell_type": "code",
   "source": [
    "normalized_df = train.groupby(level=\"family\").apply(normalize)\n",
    "normalized_df"
   ],
   "id": "3fab9025b2d83d6c",
   "outputs": [
    {
     "data": {
      "text/plain": [
       "                                               sales\n",
       "family     store_nbr family     date                \n",
       "AUTOMOTIVE 1         AUTOMOTIVE 2013-01-01  0.000000\n",
       "                                2013-01-02  0.007843\n",
       "                                2013-01-03  0.011765\n",
       "                                2013-01-04  0.011765\n",
       "                                2013-01-05  0.019608\n",
       "...                                              ...\n",
       "SEAFOOD    9         SEAFOOD    2017-08-11  0.086835\n",
       "                                2017-08-12  0.061431\n",
       "                                2017-08-13  0.072876\n",
       "                                2017-08-14  0.061944\n",
       "                                2017-08-15  0.058301\n",
       "\n",
       "[3000888 rows x 1 columns]"
      ],
      "text/html": [
       "<div>\n",
       "<style scoped>\n",
       "    .dataframe tbody tr th:only-of-type {\n",
       "        vertical-align: middle;\n",
       "    }\n",
       "\n",
       "    .dataframe tbody tr th {\n",
       "        vertical-align: top;\n",
       "    }\n",
       "\n",
       "    .dataframe thead th {\n",
       "        text-align: right;\n",
       "    }\n",
       "</style>\n",
       "<table border=\"1\" class=\"dataframe\">\n",
       "  <thead>\n",
       "    <tr style=\"text-align: right;\">\n",
       "      <th></th>\n",
       "      <th></th>\n",
       "      <th></th>\n",
       "      <th></th>\n",
       "      <th>sales</th>\n",
       "    </tr>\n",
       "    <tr>\n",
       "      <th>family</th>\n",
       "      <th>store_nbr</th>\n",
       "      <th>family</th>\n",
       "      <th>date</th>\n",
       "      <th></th>\n",
       "    </tr>\n",
       "  </thead>\n",
       "  <tbody>\n",
       "    <tr>\n",
       "      <th rowspan=\"5\" valign=\"top\">AUTOMOTIVE</th>\n",
       "      <th rowspan=\"5\" valign=\"top\">1</th>\n",
       "      <th rowspan=\"5\" valign=\"top\">AUTOMOTIVE</th>\n",
       "      <th>2013-01-01</th>\n",
       "      <td>0.000000</td>\n",
       "    </tr>\n",
       "    <tr>\n",
       "      <th>2013-01-02</th>\n",
       "      <td>0.007843</td>\n",
       "    </tr>\n",
       "    <tr>\n",
       "      <th>2013-01-03</th>\n",
       "      <td>0.011765</td>\n",
       "    </tr>\n",
       "    <tr>\n",
       "      <th>2013-01-04</th>\n",
       "      <td>0.011765</td>\n",
       "    </tr>\n",
       "    <tr>\n",
       "      <th>2013-01-05</th>\n",
       "      <td>0.019608</td>\n",
       "    </tr>\n",
       "    <tr>\n",
       "      <th>...</th>\n",
       "      <th>...</th>\n",
       "      <th>...</th>\n",
       "      <th>...</th>\n",
       "      <td>...</td>\n",
       "    </tr>\n",
       "    <tr>\n",
       "      <th rowspan=\"5\" valign=\"top\">SEAFOOD</th>\n",
       "      <th rowspan=\"5\" valign=\"top\">9</th>\n",
       "      <th rowspan=\"5\" valign=\"top\">SEAFOOD</th>\n",
       "      <th>2017-08-11</th>\n",
       "      <td>0.086835</td>\n",
       "    </tr>\n",
       "    <tr>\n",
       "      <th>2017-08-12</th>\n",
       "      <td>0.061431</td>\n",
       "    </tr>\n",
       "    <tr>\n",
       "      <th>2017-08-13</th>\n",
       "      <td>0.072876</td>\n",
       "    </tr>\n",
       "    <tr>\n",
       "      <th>2017-08-14</th>\n",
       "      <td>0.061944</td>\n",
       "    </tr>\n",
       "    <tr>\n",
       "      <th>2017-08-15</th>\n",
       "      <td>0.058301</td>\n",
       "    </tr>\n",
       "  </tbody>\n",
       "</table>\n",
       "<p>3000888 rows × 1 columns</p>\n",
       "</div>"
      ]
     },
     "execution_count": 180,
     "metadata": {},
     "output_type": "execute_result"
    }
   ],
   "execution_count": 180
  },
  {
   "cell_type": "markdown",
   "source": [
    "## MULTI-INDEX FILTERING"
   ],
   "metadata": {
    "collapsed": false
   },
   "id": "bdaab4452f943089"
  },
  {
   "cell_type": "code",
   "source": [
    "filter_family_list = train.index.get_level_values(1).unique().to_list()\n",
    "c1=train.index.get_level_values(0).isin(filter_store_nbr)\n",
    "c2 = train.index.get_level_values(1).isin(filter_family_list)\n",
    "df = train[c1 & c2]"
   ],
   "metadata": {
    "collapsed": false,
    "ExecuteTime": {
     "end_time": "2024-06-15T07:36:42.522867Z",
     "start_time": "2024-06-15T07:36:42.360610Z"
    }
   },
   "id": "8b1bd64a5d7c2e33",
   "outputs": [],
   "execution_count": 181
  },
  {
   "metadata": {
    "ExecuteTime": {
     "end_time": "2024-06-15T07:36:42.538495Z",
     "start_time": "2024-06-15T07:36:42.522867Z"
    }
   },
   "cell_type": "code",
   "source": "df",
   "id": "398777afd1344e15",
   "outputs": [
    {
     "data": {
      "text/plain": [
       "                                     sales\n",
       "store_nbr family     date                 \n",
       "1         AUTOMOTIVE 2013-01-01   0.000000\n",
       "                     2013-01-02   2.000000\n",
       "                     2013-01-03   3.000000\n",
       "                     2013-01-04   3.000000\n",
       "                     2013-01-05   5.000000\n",
       "...                                    ...\n",
       "9         SEAFOOD    2017-08-11  23.830999\n",
       "                     2017-08-12  16.859001\n",
       "                     2017-08-13  20.000000\n",
       "                     2017-08-14  17.000000\n",
       "                     2017-08-15  16.000000\n",
       "\n",
       "[3000888 rows x 1 columns]"
      ],
      "text/html": [
       "<div>\n",
       "<style scoped>\n",
       "    .dataframe tbody tr th:only-of-type {\n",
       "        vertical-align: middle;\n",
       "    }\n",
       "\n",
       "    .dataframe tbody tr th {\n",
       "        vertical-align: top;\n",
       "    }\n",
       "\n",
       "    .dataframe thead th {\n",
       "        text-align: right;\n",
       "    }\n",
       "</style>\n",
       "<table border=\"1\" class=\"dataframe\">\n",
       "  <thead>\n",
       "    <tr style=\"text-align: right;\">\n",
       "      <th></th>\n",
       "      <th></th>\n",
       "      <th></th>\n",
       "      <th>sales</th>\n",
       "    </tr>\n",
       "    <tr>\n",
       "      <th>store_nbr</th>\n",
       "      <th>family</th>\n",
       "      <th>date</th>\n",
       "      <th></th>\n",
       "    </tr>\n",
       "  </thead>\n",
       "  <tbody>\n",
       "    <tr>\n",
       "      <th rowspan=\"5\" valign=\"top\">1</th>\n",
       "      <th rowspan=\"5\" valign=\"top\">AUTOMOTIVE</th>\n",
       "      <th>2013-01-01</th>\n",
       "      <td>0.000000</td>\n",
       "    </tr>\n",
       "    <tr>\n",
       "      <th>2013-01-02</th>\n",
       "      <td>2.000000</td>\n",
       "    </tr>\n",
       "    <tr>\n",
       "      <th>2013-01-03</th>\n",
       "      <td>3.000000</td>\n",
       "    </tr>\n",
       "    <tr>\n",
       "      <th>2013-01-04</th>\n",
       "      <td>3.000000</td>\n",
       "    </tr>\n",
       "    <tr>\n",
       "      <th>2013-01-05</th>\n",
       "      <td>5.000000</td>\n",
       "    </tr>\n",
       "    <tr>\n",
       "      <th>...</th>\n",
       "      <th>...</th>\n",
       "      <th>...</th>\n",
       "      <td>...</td>\n",
       "    </tr>\n",
       "    <tr>\n",
       "      <th rowspan=\"5\" valign=\"top\">9</th>\n",
       "      <th rowspan=\"5\" valign=\"top\">SEAFOOD</th>\n",
       "      <th>2017-08-11</th>\n",
       "      <td>23.830999</td>\n",
       "    </tr>\n",
       "    <tr>\n",
       "      <th>2017-08-12</th>\n",
       "      <td>16.859001</td>\n",
       "    </tr>\n",
       "    <tr>\n",
       "      <th>2017-08-13</th>\n",
       "      <td>20.000000</td>\n",
       "    </tr>\n",
       "    <tr>\n",
       "      <th>2017-08-14</th>\n",
       "      <td>17.000000</td>\n",
       "    </tr>\n",
       "    <tr>\n",
       "      <th>2017-08-15</th>\n",
       "      <td>16.000000</td>\n",
       "    </tr>\n",
       "  </tbody>\n",
       "</table>\n",
       "<p>3000888 rows × 1 columns</p>\n",
       "</div>"
      ]
     },
     "execution_count": 182,
     "metadata": {},
     "output_type": "execute_result"
    }
   ],
   "execution_count": 182
  },
  {
   "metadata": {
    "ExecuteTime": {
     "end_time": "2024-06-15T07:36:42.554150Z",
     "start_time": "2024-06-15T07:36:42.538495Z"
    }
   },
   "cell_type": "code",
   "source": "",
   "id": "f0c751f74a5c86c2",
   "outputs": [],
   "execution_count": 182
  },
  {
   "metadata": {
    "ExecuteTime": {
     "end_time": "2024-06-15T07:36:42.617112Z",
     "start_time": "2024-06-15T07:36:42.554150Z"
    }
   },
   "cell_type": "code",
   "source": "df.index.get_level_values(1).unique()",
   "id": "296b8f4dd2e3af27",
   "outputs": [
    {
     "data": {
      "text/plain": [
       "CategoricalIndex(['AUTOMOTIVE', 'BABY CARE', 'BEAUTY', 'BEVERAGES', 'BOOKS',\n",
       "                  'BREAD/BAKERY', 'CELEBRATION', 'CLEANING', 'DAIRY', 'DELI',\n",
       "                  'EGGS', 'FROZEN FOODS', 'GROCERY I', 'GROCERY II',\n",
       "                  'HARDWARE', 'HOME AND KITCHEN I', 'HOME AND KITCHEN II',\n",
       "                  'HOME APPLIANCES', 'HOME CARE', 'LADIESWEAR',\n",
       "                  'LAWN AND GARDEN', 'LINGERIE', 'LIQUOR,WINE,BEER',\n",
       "                  'MAGAZINES', 'MEATS', 'PERSONAL CARE', 'PET SUPPLIES',\n",
       "                  'PLAYERS AND ELECTRONICS', 'POULTRY', 'PREPARED FOODS',\n",
       "                  'PRODUCE', 'SCHOOL AND OFFICE SUPPLIES', 'SEAFOOD'],\n",
       "                 categories=['AUTOMOTIVE', 'BABY CARE', 'BEAUTY', 'BEVERAGES', ..., 'PREPARED FOODS', 'PRODUCE', 'SCHOOL AND OFFICE SUPPLIES', 'SEAFOOD'], ordered=False, dtype='category', name='family')"
      ]
     },
     "execution_count": 183,
     "metadata": {},
     "output_type": "execute_result"
    }
   ],
   "execution_count": 183
  },
  {
   "cell_type": "markdown",
   "source": [
    "## DATE FILTERING"
   ],
   "metadata": {
    "collapsed": false
   },
   "id": "f9117c281a2bb7a5"
  },
  {
   "cell_type": "code",
   "source": [
    "filtered_train = df[(df.index.get_level_values('date') >= train_start_date) & (df.index.get_level_values('date') <= train_end_date)]\n",
    "# filtered_test = df[(df.index.get_level_values('date') >= test_start_date) & (df.index.get_level_values('date') <= test_end_date)]"
   ],
   "metadata": {
    "collapsed": false,
    "ExecuteTime": {
     "end_time": "2024-06-15T07:36:42.789767Z",
     "start_time": "2024-06-15T07:36:42.617112Z"
    }
   },
   "id": "4921036777e4c373",
   "outputs": [],
   "execution_count": 184
  },
  {
   "metadata": {
    "ExecuteTime": {
     "end_time": "2024-06-15T07:36:42.805391Z",
     "start_time": "2024-06-15T07:36:42.789767Z"
    }
   },
   "cell_type": "code",
   "source": "filtered_train",
   "id": "92fbf435bb830932",
   "outputs": [
    {
     "data": {
      "text/plain": [
       "                                     sales\n",
       "store_nbr family     date                 \n",
       "1         AUTOMOTIVE 2013-01-02   2.000000\n",
       "                     2013-01-03   3.000000\n",
       "                     2013-01-04   3.000000\n",
       "                     2013-01-05   5.000000\n",
       "                     2013-01-06   2.000000\n",
       "...                                    ...\n",
       "9         SEAFOOD    2017-08-11  23.830999\n",
       "                     2017-08-12  16.859001\n",
       "                     2017-08-13  20.000000\n",
       "                     2017-08-14  17.000000\n",
       "                     2017-08-15  16.000000\n",
       "\n",
       "[2999106 rows x 1 columns]"
      ],
      "text/html": [
       "<div>\n",
       "<style scoped>\n",
       "    .dataframe tbody tr th:only-of-type {\n",
       "        vertical-align: middle;\n",
       "    }\n",
       "\n",
       "    .dataframe tbody tr th {\n",
       "        vertical-align: top;\n",
       "    }\n",
       "\n",
       "    .dataframe thead th {\n",
       "        text-align: right;\n",
       "    }\n",
       "</style>\n",
       "<table border=\"1\" class=\"dataframe\">\n",
       "  <thead>\n",
       "    <tr style=\"text-align: right;\">\n",
       "      <th></th>\n",
       "      <th></th>\n",
       "      <th></th>\n",
       "      <th>sales</th>\n",
       "    </tr>\n",
       "    <tr>\n",
       "      <th>store_nbr</th>\n",
       "      <th>family</th>\n",
       "      <th>date</th>\n",
       "      <th></th>\n",
       "    </tr>\n",
       "  </thead>\n",
       "  <tbody>\n",
       "    <tr>\n",
       "      <th rowspan=\"5\" valign=\"top\">1</th>\n",
       "      <th rowspan=\"5\" valign=\"top\">AUTOMOTIVE</th>\n",
       "      <th>2013-01-02</th>\n",
       "      <td>2.000000</td>\n",
       "    </tr>\n",
       "    <tr>\n",
       "      <th>2013-01-03</th>\n",
       "      <td>3.000000</td>\n",
       "    </tr>\n",
       "    <tr>\n",
       "      <th>2013-01-04</th>\n",
       "      <td>3.000000</td>\n",
       "    </tr>\n",
       "    <tr>\n",
       "      <th>2013-01-05</th>\n",
       "      <td>5.000000</td>\n",
       "    </tr>\n",
       "    <tr>\n",
       "      <th>2013-01-06</th>\n",
       "      <td>2.000000</td>\n",
       "    </tr>\n",
       "    <tr>\n",
       "      <th>...</th>\n",
       "      <th>...</th>\n",
       "      <th>...</th>\n",
       "      <td>...</td>\n",
       "    </tr>\n",
       "    <tr>\n",
       "      <th rowspan=\"5\" valign=\"top\">9</th>\n",
       "      <th rowspan=\"5\" valign=\"top\">SEAFOOD</th>\n",
       "      <th>2017-08-11</th>\n",
       "      <td>23.830999</td>\n",
       "    </tr>\n",
       "    <tr>\n",
       "      <th>2017-08-12</th>\n",
       "      <td>16.859001</td>\n",
       "    </tr>\n",
       "    <tr>\n",
       "      <th>2017-08-13</th>\n",
       "      <td>20.000000</td>\n",
       "    </tr>\n",
       "    <tr>\n",
       "      <th>2017-08-14</th>\n",
       "      <td>17.000000</td>\n",
       "    </tr>\n",
       "    <tr>\n",
       "      <th>2017-08-15</th>\n",
       "      <td>16.000000</td>\n",
       "    </tr>\n",
       "  </tbody>\n",
       "</table>\n",
       "<p>2999106 rows × 1 columns</p>\n",
       "</div>"
      ]
     },
     "execution_count": 185,
     "metadata": {},
     "output_type": "execute_result"
    }
   ],
   "execution_count": 185
  },
  {
   "cell_type": "code",
   "id": "23b3122d-764a-427e-a616-636112091d83",
   "metadata": {
    "scrolled": true,
    "ExecuteTime": {
     "end_time": "2024-06-15T07:36:42.899584Z",
     "start_time": "2024-06-15T07:36:42.805391Z"
    }
   },
   "source": [
    "test = pd.read_csv(dataset_dir/'test.csv',\n",
    "    dtype={\n",
    "        'store_nbr': 'category',\n",
    "        'family': 'category',\n",
    "    },\n",
    "    parse_dates=['date'],\n",
    "    infer_datetime_format=True,\n",
    ")\n",
    "test['date'] = test.date.dt.to_period('D')\n",
    "test = (test\n",
    "       .set_index(['store_nbr','family','date'])         # Setting MultiIndex to make unique identifiers for each 'sales' item\n",
    "       .sort_index()\n",
    "      )"
   ],
   "outputs": [],
   "execution_count": 186
  },
  {
   "cell_type": "code",
   "id": "2ca70eb3-aea7-4ca6-a313-66e1758c70f5",
   "metadata": {
    "ExecuteTime": {
     "end_time": "2024-06-15T07:36:42.915175Z",
     "start_time": "2024-06-15T07:36:42.899584Z"
    }
   },
   "source": [
    "from statsmodels.tsa.arima_model import ARIMA\n",
    "from sktime.forecasting.arima import ARIMA\n",
    "class ForecastingProcess:\n",
    "    def __init__(self):\n",
    "        pass\n",
    "\n",
    "    def build_model(self,model_name,**kwargs):\n",
    "        model = None\n",
    "        if model_name == \"ARIMA\":\n",
    "            from sktime.forecasting.arima import ARIMA\n",
    "            model=ARIMA()\n",
    "        elif model_name == \"AutoARIMA\":\n",
    "            from sktime.forecasting.arima import AutoARIMA \n",
    "            model=AutoARIMA()\n",
    "        elif model_name == \"SARIMAX\":\n",
    "            from sktime.forecasting.sarimax import SARIMAX\n",
    "            model=SARIMAX()\n",
    "        elif model_name == \"BATS\":\n",
    "            from sktime.forecasting.bats import BATS\n",
    "            model=BATS()\n",
    "        elif model_name == \"TBATS\":\n",
    "            from sktime.forecasting.tbats import TBATS\n",
    "            model=TBATS()\n",
    "        elif model_name == \"StatsForecastArima\":\n",
    "            from sktime.forecasting.statsforecast import StatsForecastAutoARIMA\n",
    "            model=StatsForecastAutoARIMA()\n",
    "        elif model_name == \"StatsForecastTheta\":\n",
    "            from sktime.forecasting.statsforecast import StatsForecastAutoTheta\n",
    "            model=StatsForecastAutoTheta()\n",
    "        elif model_name == \"ExpSmoothing\":\n",
    "            from sktime.forecasting.exp_smoothing import ExponentialSmoothing\n",
    "            model=ExponentialSmoothing()\n",
    "            \n",
    "        elif model_name == \"structural\":\n",
    "            from sktime.forecasting.structural import UnobservedComponents\n",
    "            model = UnobservedComponents()\n",
    "\n",
    "         \n",
    "        return model\n",
    "    \n",
    "    def train_model(self, model, y_train, fh=None):\n",
    "            \n",
    "        model.fit(y_train)\n",
    "        return model\n",
    "    \n",
    "    def test_model(self,model, fh, y_test=None,submission=None):\n",
    "        y_pred = model.predict(fh)\n",
    "        print(np.sum((y_pred[\"sales\"]<0).values.ravel()))\n",
    "        print(y_pred[\"sales\"])\n",
    "        y_pred[\"sales\"] = np.abs(y_pred[\"sales\"])\n",
    "        \n",
    "        if submission is None:\n",
    "            from sklearn.metrics import mean_absolute_error, mean_squared_error, root_mean_squared_log_error,mean_absolute_percentage_error\n",
    "            \n",
    "            print(f\"MAPE: {mean_absolute_percentage_error(y_test,y_pred)}\")\n",
    "            print(f'MAE:  {mean_absolute_error(y_test, y_pred)}')\n",
    "            print(f'MSE:  {mean_squared_error(y_test, y_pred)}')\n",
    "            print(f'RMSE: {np.sqrt(mean_squared_error(y_test, y_pred))}')\n",
    "            #print(f\"RMSLE_func: {root_mean_squared_log_error_func(y_test,y_pred)}\")\n",
    "            print(f\"RMSLE: {root_mean_squared_log_error(y_test,y_pred)}\")\n",
    "        return y_pred\n",
    "\n",
    "    def tune_model(self,model, param_grid, y_train):\n",
    "        from sktime.forecasting.model_selection import ForecastingGridSearchCV\n",
    "        from sktime.split import SlidingWindowSplitter\n",
    "\n",
    "        cv = SlidingWindowSplitter(initial_window=int(len(y_train) * 0.8), window_length=20)\n",
    "        gscv = ForecastingGridSearchCV(\n",
    "            model, strategy=\"refit\", cv=cv, param_grid=param_grid\n",
    "        )\n",
    "        gscv.fit(y_train)\n",
    "        print(f\"gscv best params: {gscv.best_params_}\")\n",
    "        return gscv"
   ],
   "outputs": [],
   "execution_count": 187
  },
  {
   "metadata": {},
   "cell_type": "markdown",
   "source": "## ARIMA",
   "id": "6015b84b4c99eb4"
  },
  {
   "cell_type": "code",
   "id": "171d733f-8db9-47de-bcb8-3868ee7964be",
   "metadata": {
    "ExecuteTime": {
     "end_time": "2024-06-15T07:39:11.677349Z",
     "start_time": "2024-06-15T07:36:42.915175Z"
    }
   },
   "source": [
    "forecasting = ForecastingProcess()\n",
    "arima = forecasting.build_model(\"ARIMA\")\n",
    "arima= forecasting.train_model(arima,filtered_train)"
   ],
   "outputs": [],
   "execution_count": 188
  },
  {
   "metadata": {
    "ExecuteTime": {
     "end_time": "2024-06-15T07:39:11.693007Z",
     "start_time": "2024-06-15T07:39:11.677349Z"
    }
   },
   "cell_type": "code",
   "source": "",
   "id": "f3a950618596fc86",
   "outputs": [],
   "execution_count": 188
  },
  {
   "metadata": {
    "ExecuteTime": {
     "end_time": "2024-06-15T07:40:53.906682Z",
     "start_time": "2024-06-15T07:40:53.891057Z"
    }
   },
   "cell_type": "code",
   "source": "fh = ForecastingHorizon(np.arange(1,17))",
   "id": "35a7d176860c6457",
   "outputs": [],
   "execution_count": 191
  },
  {
   "metadata": {
    "ExecuteTime": {
     "end_time": "2024-06-15T07:41:09.704918Z",
     "start_time": "2024-06-15T07:40:54.151447Z"
    }
   },
   "cell_type": "code",
   "source": "y_pred = forecasting.test_model(arima, fh,submission=True)",
   "id": "89168f13b6a2c475",
   "outputs": [
    {
     "name": "stdout",
     "output_type": "stream",
     "text": [
      "848\n",
      "store_nbr  family      date      \n",
      "1          AUTOMOTIVE  2017-08-16     3.327836\n",
      "                       2017-08-17     3.260719\n",
      "                       2017-08-18     3.254017\n",
      "                       2017-08-19     3.253347\n",
      "                       2017-08-20     3.253281\n",
      "                                       ...    \n",
      "9          SEAFOOD     2017-08-27    16.895777\n",
      "                       2017-08-28    16.895777\n",
      "                       2017-08-29    16.895777\n",
      "                       2017-08-30    16.895777\n",
      "                       2017-08-31    16.895777\n",
      "Name: sales, Length: 28512, dtype: float64\n"
     ]
    }
   ],
   "execution_count": 192
  },
  {
   "metadata": {
    "ExecuteTime": {
     "end_time": "2024-06-15T07:41:20.700975Z",
     "start_time": "2024-06-15T07:41:20.560471Z"
    }
   },
   "cell_type": "code",
   "source": "y_pred.to_csv(\"y_pred.csv\")",
   "id": "e221f10f4472a4fd",
   "outputs": [],
   "execution_count": 193
  },
  {
   "metadata": {
    "ExecuteTime": {
     "end_time": "2024-06-15T07:57:39.069408Z",
     "start_time": "2024-06-15T07:57:39.037764Z"
    }
   },
   "cell_type": "code",
   "source": "test# filtered_test.index.get_level_values(1).unique()",
   "id": "a8727d841b12bcb8",
   "outputs": [
    {
     "data": {
      "text/plain": [
       "                                      id  onpromotion\n",
       "store_nbr family     date                            \n",
       "1         AUTOMOTIVE 2017-08-16  3000888            0\n",
       "                     2017-08-17  3002670            0\n",
       "                     2017-08-18  3004452            0\n",
       "                     2017-08-19  3006234            0\n",
       "                     2017-08-20  3008016            0\n",
       "...                                  ...          ...\n",
       "9         SEAFOOD    2017-08-27  3022271            0\n",
       "                     2017-08-28  3024053            0\n",
       "                     2017-08-29  3025835            0\n",
       "                     2017-08-30  3027617            0\n",
       "                     2017-08-31  3029399            0\n",
       "\n",
       "[28512 rows x 2 columns]"
      ],
      "text/html": [
       "<div>\n",
       "<style scoped>\n",
       "    .dataframe tbody tr th:only-of-type {\n",
       "        vertical-align: middle;\n",
       "    }\n",
       "\n",
       "    .dataframe tbody tr th {\n",
       "        vertical-align: top;\n",
       "    }\n",
       "\n",
       "    .dataframe thead th {\n",
       "        text-align: right;\n",
       "    }\n",
       "</style>\n",
       "<table border=\"1\" class=\"dataframe\">\n",
       "  <thead>\n",
       "    <tr style=\"text-align: right;\">\n",
       "      <th></th>\n",
       "      <th></th>\n",
       "      <th></th>\n",
       "      <th>id</th>\n",
       "      <th>onpromotion</th>\n",
       "    </tr>\n",
       "    <tr>\n",
       "      <th>store_nbr</th>\n",
       "      <th>family</th>\n",
       "      <th>date</th>\n",
       "      <th></th>\n",
       "      <th></th>\n",
       "    </tr>\n",
       "  </thead>\n",
       "  <tbody>\n",
       "    <tr>\n",
       "      <th rowspan=\"5\" valign=\"top\">1</th>\n",
       "      <th rowspan=\"5\" valign=\"top\">AUTOMOTIVE</th>\n",
       "      <th>2017-08-16</th>\n",
       "      <td>3000888</td>\n",
       "      <td>0</td>\n",
       "    </tr>\n",
       "    <tr>\n",
       "      <th>2017-08-17</th>\n",
       "      <td>3002670</td>\n",
       "      <td>0</td>\n",
       "    </tr>\n",
       "    <tr>\n",
       "      <th>2017-08-18</th>\n",
       "      <td>3004452</td>\n",
       "      <td>0</td>\n",
       "    </tr>\n",
       "    <tr>\n",
       "      <th>2017-08-19</th>\n",
       "      <td>3006234</td>\n",
       "      <td>0</td>\n",
       "    </tr>\n",
       "    <tr>\n",
       "      <th>2017-08-20</th>\n",
       "      <td>3008016</td>\n",
       "      <td>0</td>\n",
       "    </tr>\n",
       "    <tr>\n",
       "      <th>...</th>\n",
       "      <th>...</th>\n",
       "      <th>...</th>\n",
       "      <td>...</td>\n",
       "      <td>...</td>\n",
       "    </tr>\n",
       "    <tr>\n",
       "      <th rowspan=\"5\" valign=\"top\">9</th>\n",
       "      <th rowspan=\"5\" valign=\"top\">SEAFOOD</th>\n",
       "      <th>2017-08-27</th>\n",
       "      <td>3022271</td>\n",
       "      <td>0</td>\n",
       "    </tr>\n",
       "    <tr>\n",
       "      <th>2017-08-28</th>\n",
       "      <td>3024053</td>\n",
       "      <td>0</td>\n",
       "    </tr>\n",
       "    <tr>\n",
       "      <th>2017-08-29</th>\n",
       "      <td>3025835</td>\n",
       "      <td>0</td>\n",
       "    </tr>\n",
       "    <tr>\n",
       "      <th>2017-08-30</th>\n",
       "      <td>3027617</td>\n",
       "      <td>0</td>\n",
       "    </tr>\n",
       "    <tr>\n",
       "      <th>2017-08-31</th>\n",
       "      <td>3029399</td>\n",
       "      <td>0</td>\n",
       "    </tr>\n",
       "  </tbody>\n",
       "</table>\n",
       "<p>28512 rows × 2 columns</p>\n",
       "</div>"
      ]
     },
     "execution_count": 195,
     "metadata": {},
     "output_type": "execute_result"
    }
   ],
   "execution_count": 195
  },
  {
   "cell_type": "code",
   "id": "d03b3012-5058-4296-8844-d67d9f74c59d",
   "metadata": {},
   "source": "",
   "outputs": [],
   "execution_count": null
  },
  {
   "cell_type": "code",
   "id": "e36fa3c0-c99f-4634-b904-0721e6467865",
   "metadata": {},
   "source": "",
   "outputs": [],
   "execution_count": null
  },
  {
   "cell_type": "code",
   "id": "849fbe3c-1b08-4028-96ba-86154639e6d7",
   "metadata": {},
   "source": "",
   "outputs": [],
   "execution_count": null
  },
  {
   "cell_type": "code",
   "id": "cf452a12-5e6b-4d34-9155-37d3c0feb309",
   "metadata": {},
   "source": [],
   "outputs": [],
   "execution_count": null
  },
  {
   "cell_type": "code",
   "id": "25671c04-a8f5-408a-9ad7-fc5e85a0cb5d",
   "metadata": {},
   "source": [],
   "outputs": [],
   "execution_count": null
  }
 ],
 "metadata": {
  "kernelspec": {
   "display_name": "Python 3 (ipykernel)",
   "language": "python",
   "name": "python3"
  },
  "language_info": {
   "codemirror_mode": {
    "name": "ipython",
    "version": 3
   },
   "file_extension": ".py",
   "mimetype": "text/x-python",
   "name": "python",
   "nbconvert_exporter": "python",
   "pygments_lexer": "ipython3",
   "version": "3.9.7"
  }
 },
 "nbformat": 4,
 "nbformat_minor": 5
}
