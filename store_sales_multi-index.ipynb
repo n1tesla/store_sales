{
 "cells": [
  {
   "cell_type": "code",
   "execution_count": 2,
   "id": "d67c320e-851a-4116-a701-02d3731eb6bd",
   "metadata": {},
   "outputs": [],
   "source": [
    "import pandas as pd\n",
    "import numpy as np\n",
    "from pathlib import Path\n",
    "import joblib\n",
    "\n",
    "from sklearn.linear_model import LinearRegression\n",
    "from sklearn.metrics import mean_squared_log_error\n",
    "from sklearn.model_selection import train_test_split\n",
    "from warnings import simplefilter\n",
    "simplefilter(\"ignore\")"
   ]
  },
  {
   "cell_type": "code",
   "execution_count": 3,
   "id": "9ca8eb6f-3a37-4408-97df-dd4bd00c512f",
   "metadata": {},
   "outputs": [],
   "source": [
    "dataset_dir = Path(\"dataset\")"
   ]
  },
  {
   "cell_type": "markdown",
   "id": "3ee12baf-08f7-4502-9850-f097e7ea2290",
   "metadata": {},
   "source": [
    "## CONFIG "
   ]
  },
  {
   "cell_type": "code",
   "execution_count": 97,
   "id": "6b57b1f4-1d56-4f4b-bb82-c5b8c6eb82a3",
   "metadata": {},
   "outputs": [],
   "source": [
    "store_nbr_list = [\"1\",\"2\"]\n",
    "family_list = [\"AUTOMATIVE\", \"SEAFOOD\"]\n",
    "val_ratio = 0.2"
   ]
  },
  {
   "cell_type": "code",
   "execution_count": 106,
   "id": "b0056845-2c89-4a1b-aeeb-a9c678694226",
   "metadata": {},
   "outputs": [
    {
     "ename": "ValueError",
     "evalue": "expr must be a string to be evaluated, <class 'bool'> given",
     "output_type": "error",
     "traceback": [
      "\u001b[1;31m---------------------------------------------------------------------------\u001b[0m",
      "\u001b[1;31mValueError\u001b[0m                                Traceback (most recent call last)",
      "\u001b[1;32m~\\AppData\\Local\\Temp\\ipykernel_21704\\3798982228.py\u001b[0m in \u001b[0;36m?\u001b[1;34m()\u001b[0m\n\u001b[1;32m---> 18\u001b[1;33m train = pd.read_csv(dataset_dir / 'train.csv',                            \n\u001b[0m\u001b[0;32m     19\u001b[0m     \u001b[0musecols\u001b[0m\u001b[1;33m=\u001b[0m\u001b[1;33m[\u001b[0m\u001b[1;34m'store_nbr'\u001b[0m\u001b[1;33m,\u001b[0m \u001b[1;34m'family'\u001b[0m\u001b[1;33m,\u001b[0m \u001b[1;34m'date'\u001b[0m\u001b[1;33m,\u001b[0m \u001b[1;34m'sales'\u001b[0m\u001b[1;33m,\u001b[0m \u001b[1;34m'onpromotion'\u001b[0m\u001b[1;33m]\u001b[0m\u001b[1;33m,\u001b[0m\u001b[1;33m\u001b[0m\u001b[1;33m\u001b[0m\u001b[0m\n\u001b[0;32m     20\u001b[0m     dtype={\n\u001b[0;32m     21\u001b[0m         \u001b[1;34m'store_nbr'\u001b[0m\u001b[1;33m:\u001b[0m \u001b[1;34m'category'\u001b[0m\u001b[1;33m,\u001b[0m\u001b[1;33m\u001b[0m\u001b[1;33m\u001b[0m\u001b[0m\n",
      "\u001b[1;32m~\\Desktop\\kaggle_projects\\store_sales\\.venv\\lib\\site-packages\\pandas\\core\\frame.py\u001b[0m in \u001b[0;36m?\u001b[1;34m(self, expr, inplace, **kwargs)\u001b[0m\n\u001b[0;32m   4816\u001b[0m         \"\"\"\n\u001b[0;32m   4817\u001b[0m         \u001b[0minplace\u001b[0m \u001b[1;33m=\u001b[0m \u001b[0mvalidate_bool_kwarg\u001b[0m\u001b[1;33m(\u001b[0m\u001b[0minplace\u001b[0m\u001b[1;33m,\u001b[0m \u001b[1;34m\"inplace\"\u001b[0m\u001b[1;33m)\u001b[0m\u001b[1;33m\u001b[0m\u001b[1;33m\u001b[0m\u001b[0m\n\u001b[0;32m   4818\u001b[0m         \u001b[1;32mif\u001b[0m \u001b[1;32mnot\u001b[0m \u001b[0misinstance\u001b[0m\u001b[1;33m(\u001b[0m\u001b[0mexpr\u001b[0m\u001b[1;33m,\u001b[0m \u001b[0mstr\u001b[0m\u001b[1;33m)\u001b[0m\u001b[1;33m:\u001b[0m\u001b[1;33m\u001b[0m\u001b[1;33m\u001b[0m\u001b[0m\n\u001b[0;32m   4819\u001b[0m             \u001b[0mmsg\u001b[0m \u001b[1;33m=\u001b[0m \u001b[1;34mf\"expr must be a string to be evaluated, {type(expr)} given\"\u001b[0m\u001b[1;33m\u001b[0m\u001b[1;33m\u001b[0m\u001b[0m\n\u001b[1;32m-> 4820\u001b[1;33m             \u001b[1;32mraise\u001b[0m \u001b[0mValueError\u001b[0m\u001b[1;33m(\u001b[0m\u001b[0mmsg\u001b[0m\u001b[1;33m)\u001b[0m\u001b[1;33m\u001b[0m\u001b[1;33m\u001b[0m\u001b[0m\n\u001b[0m\u001b[0;32m   4821\u001b[0m         \u001b[0mkwargs\u001b[0m\u001b[1;33m[\u001b[0m\u001b[1;34m\"level\"\u001b[0m\u001b[1;33m]\u001b[0m \u001b[1;33m=\u001b[0m \u001b[0mkwargs\u001b[0m\u001b[1;33m.\u001b[0m\u001b[0mpop\u001b[0m\u001b[1;33m(\u001b[0m\u001b[1;34m\"level\"\u001b[0m\u001b[1;33m,\u001b[0m \u001b[1;36m0\u001b[0m\u001b[1;33m)\u001b[0m \u001b[1;33m+\u001b[0m \u001b[1;36m1\u001b[0m\u001b[1;33m\u001b[0m\u001b[1;33m\u001b[0m\u001b[0m\n\u001b[0;32m   4822\u001b[0m         \u001b[0mkwargs\u001b[0m\u001b[1;33m[\u001b[0m\u001b[1;34m\"target\"\u001b[0m\u001b[1;33m]\u001b[0m \u001b[1;33m=\u001b[0m \u001b[1;32mNone\u001b[0m\u001b[1;33m\u001b[0m\u001b[1;33m\u001b[0m\u001b[0m\n\u001b[0;32m   4823\u001b[0m         \u001b[0mres\u001b[0m \u001b[1;33m=\u001b[0m \u001b[0mself\u001b[0m\u001b[1;33m.\u001b[0m\u001b[0meval\u001b[0m\u001b[1;33m(\u001b[0m\u001b[0mexpr\u001b[0m\u001b[1;33m,\u001b[0m \u001b[1;33m**\u001b[0m\u001b[0mkwargs\u001b[0m\u001b[1;33m)\u001b[0m\u001b[1;33m\u001b[0m\u001b[1;33m\u001b[0m\u001b[0m\n",
      "\u001b[1;31mValueError\u001b[0m: expr must be a string to be evaluated, <class 'bool'> given"
     ]
    }
   ],
   "source": [
    "train = pd.read_csv(dataset_dir / 'train.csv',                            \n",
    "    usecols=['store_nbr', 'family', 'date', 'sales', 'onpromotion'],\n",
    "    dtype={\n",
    "        'store_nbr': 'category',\n",
    "        'family': 'category',\n",
    "        'sales': 'float32',\n",
    "        'onpromotion': 'uint32'\n",
    "    },\n",
    "    parse_dates=['date'],\n",
    "    infer_datetime_format=True,\n",
    ")\n",
    "train['date'] = train.date.dt.to_period('D')\n",
    "\n",
    "train = (train\n",
    "       .set_index(['store_nbr','family','date'])         # Setting MultiIndex to make unique identifiers for each 'sales' item\n",
    "       .sort_index()\n",
    "      )\n",
    "train = train.set_index(['store_nbr','family','date']).sort_index()\n",
    "train = train[train.index.isin(store_nbr_list)]\n",
    "train"
   ]
  },
  {
   "cell_type": "code",
   "execution_count": 70,
   "id": "23b3122d-764a-427e-a616-636112091d83",
   "metadata": {
    "scrolled": true
   },
   "outputs": [
    {
     "data": {
      "text/html": [
       "<div>\n",
       "<style scoped>\n",
       "    .dataframe tbody tr th:only-of-type {\n",
       "        vertical-align: middle;\n",
       "    }\n",
       "\n",
       "    .dataframe tbody tr th {\n",
       "        vertical-align: top;\n",
       "    }\n",
       "\n",
       "    .dataframe thead th {\n",
       "        text-align: right;\n",
       "    }\n",
       "</style>\n",
       "<table border=\"1\" class=\"dataframe\">\n",
       "  <thead>\n",
       "    <tr style=\"text-align: right;\">\n",
       "      <th></th>\n",
       "      <th></th>\n",
       "      <th></th>\n",
       "      <th>id</th>\n",
       "      <th>onpromotion</th>\n",
       "    </tr>\n",
       "    <tr>\n",
       "      <th>store_nbr</th>\n",
       "      <th>family</th>\n",
       "      <th>date</th>\n",
       "      <th></th>\n",
       "      <th></th>\n",
       "    </tr>\n",
       "  </thead>\n",
       "  <tbody>\n",
       "    <tr>\n",
       "      <th rowspan=\"5\" valign=\"top\">1</th>\n",
       "      <th rowspan=\"5\" valign=\"top\">AUTOMOTIVE</th>\n",
       "      <th>2017-08-16</th>\n",
       "      <td>3000888</td>\n",
       "      <td>0</td>\n",
       "    </tr>\n",
       "    <tr>\n",
       "      <th>2017-08-17</th>\n",
       "      <td>3002670</td>\n",
       "      <td>0</td>\n",
       "    </tr>\n",
       "    <tr>\n",
       "      <th>2017-08-18</th>\n",
       "      <td>3004452</td>\n",
       "      <td>0</td>\n",
       "    </tr>\n",
       "    <tr>\n",
       "      <th>2017-08-19</th>\n",
       "      <td>3006234</td>\n",
       "      <td>0</td>\n",
       "    </tr>\n",
       "    <tr>\n",
       "      <th>2017-08-20</th>\n",
       "      <td>3008016</td>\n",
       "      <td>0</td>\n",
       "    </tr>\n",
       "    <tr>\n",
       "      <th>...</th>\n",
       "      <th>...</th>\n",
       "      <th>...</th>\n",
       "      <td>...</td>\n",
       "      <td>...</td>\n",
       "    </tr>\n",
       "    <tr>\n",
       "      <th rowspan=\"5\" valign=\"top\">2</th>\n",
       "      <th rowspan=\"5\" valign=\"top\">SEAFOOD</th>\n",
       "      <th>2017-08-27</th>\n",
       "      <td>3020885</td>\n",
       "      <td>1</td>\n",
       "    </tr>\n",
       "    <tr>\n",
       "      <th>2017-08-28</th>\n",
       "      <td>3022667</td>\n",
       "      <td>0</td>\n",
       "    </tr>\n",
       "    <tr>\n",
       "      <th>2017-08-29</th>\n",
       "      <td>3024449</td>\n",
       "      <td>1</td>\n",
       "    </tr>\n",
       "    <tr>\n",
       "      <th>2017-08-30</th>\n",
       "      <td>3026231</td>\n",
       "      <td>1</td>\n",
       "    </tr>\n",
       "    <tr>\n",
       "      <th>2017-08-31</th>\n",
       "      <td>3028013</td>\n",
       "      <td>0</td>\n",
       "    </tr>\n",
       "  </tbody>\n",
       "</table>\n",
       "<p>1056 rows × 2 columns</p>\n",
       "</div>"
      ],
      "text/plain": [
       "                                      id  onpromotion\n",
       "store_nbr family     date                            \n",
       "1         AUTOMOTIVE 2017-08-16  3000888            0\n",
       "                     2017-08-17  3002670            0\n",
       "                     2017-08-18  3004452            0\n",
       "                     2017-08-19  3006234            0\n",
       "                     2017-08-20  3008016            0\n",
       "...                                  ...          ...\n",
       "2         SEAFOOD    2017-08-27  3020885            1\n",
       "                     2017-08-28  3022667            0\n",
       "                     2017-08-29  3024449            1\n",
       "                     2017-08-30  3026231            1\n",
       "                     2017-08-31  3028013            0\n",
       "\n",
       "[1056 rows x 2 columns]"
      ]
     },
     "execution_count": 70,
     "metadata": {},
     "output_type": "execute_result"
    }
   ],
   "source": [
    "test = pd.read_csv(dataset_dir/'test.csv',\n",
    "    dtype={\n",
    "        'store_nbr': 'category',\n",
    "        'family': 'category',\n",
    "        'onpromotion': 'uint32',\n",
    "    },\n",
    "    parse_dates=['date'],\n",
    "    infer_datetime_format=True,\n",
    ")\n",
    "test['date'] = test.date.dt.to_period('D')\n",
    "test = test.set_index(['store_nbr','family','date']).sort_index()\n",
    "test = test[test.index.isin(store_nbr_list)]\n",
    "test"
   ]
  },
  {
   "cell_type": "code",
   "execution_count": 96,
   "id": "2647837c-9e21-447a-8ffa-1708815340bf",
   "metadata": {},
   "outputs": [
    {
     "name": "stdout",
     "output_type": "stream",
     "text": [
      "                                      id  onpromotion\n",
      "store_nbr family     date                            \n",
      "1         AUTOMOTIVE 2017-08-16  3000888            0\n",
      "                     2017-08-17  3002670            0\n",
      "                     2017-08-18  3004452            0\n",
      "                     2017-08-19  3006234            0\n",
      "                     2017-08-20  3008016            0\n",
      "...                                  ...          ...\n",
      "          SEAFOOD    2017-08-27  3020522            0\n",
      "                     2017-08-28  3022304            1\n",
      "                     2017-08-29  3024086            0\n",
      "                     2017-08-30  3025868            1\n",
      "                     2017-08-31  3027650            0\n",
      "\n",
      "[528 rows x 2 columns]\n",
      "                                      id  onpromotion\n",
      "store_nbr family     date                            \n",
      "2         AUTOMOTIVE 2017-08-16  3001251            0\n",
      "                     2017-08-17  3003033            0\n",
      "                     2017-08-18  3004815            0\n",
      "                     2017-08-19  3006597            0\n",
      "                     2017-08-20  3008379            0\n",
      "...                                  ...          ...\n",
      "          SEAFOOD    2017-08-27  3020885            1\n",
      "                     2017-08-28  3022667            0\n",
      "                     2017-08-29  3024449            1\n",
      "                     2017-08-30  3026231            1\n",
      "                     2017-08-31  3028013            0\n",
      "\n",
      "[528 rows x 2 columns]\n"
     ]
    }
   ],
   "source": [
    "df_test = pd.DataFrame([])\n",
    "for store_nbr in store_nbr_list:\n",
    "    df = test[test.index.isin([store_nbr])]\n",
    "    "
   ]
  },
  {
   "cell_type": "code",
   "execution_count": null,
   "id": "e99ede83-6be6-4fac-a02b-39b606f11c1a",
   "metadata": {},
   "outputs": [],
   "source": [
    "def split():\n",
    "    "
   ]
  },
  {
   "cell_type": "code",
   "execution_count": null,
   "id": "2ca70eb3-aea7-4ca6-a313-66e1758c70f5",
   "metadata": {},
   "outputs": [],
   "source": [
    "class MODELS:\n",
    "    def __init__(model_name):\n",
    "        pass\n",
    "        "
   ]
  },
  {
   "cell_type": "code",
   "execution_count": 75,
   "id": "f5b12323-ce8d-4125-9090-bcaeaf5e8922",
   "metadata": {},
   "outputs": [],
   "source": [
    "from sktime.forecasting.exp_smoothing import ExponentialSmoothing\n",
    "from sktime.forecasting.sarimax import SARIMAX\n",
    "from sktime.forecasting.arima import AutoARIMA\n",
    "from sktime.split import temporal_train_test_split\n",
    "from sktime.forecasting.base import ForecastingHorizon"
   ]
  },
  {
   "cell_type": "code",
   "execution_count": 86,
   "id": "171d733f-8db9-47de-bcb8-3868ee7964be",
   "metadata": {},
   "outputs": [
    {
     "data": {
      "text/plain": [
       "ForecastingHorizon(['2017-08-16', '2017-08-17', '2017-08-18', '2017-08-19',\n",
       "             '2017-08-20', '2017-08-21', '2017-08-22', '2017-08-23',\n",
       "             '2017-08-24', '2017-08-25', '2017-08-26', '2017-08-27',\n",
       "             '2017-08-28', '2017-08-29', '2017-08-30'],\n",
       "            dtype='period[D]', is_relative=False)"
      ]
     },
     "execution_count": 86,
     "metadata": {},
     "output_type": "execute_result"
    }
   ],
   "source": [
    "fh = ForecastingHorizon(\n",
    "    pd.PeriodIndex(pd.date_range('2017-08-16', periods=15, freq=\"D\")), is_relative=False\n",
    ")\n",
    "fh"
   ]
  },
  {
   "cell_type": "code",
   "execution_count": 88,
   "id": "f29dd1d6-1f56-4d97-9bde-de9c7c6eca8c",
   "metadata": {},
   "outputs": [
    {
     "data": {
      "text/plain": [
       "ForecastingHorizon([1, 2, 3, 4, 5, 6, 7, 8, 9, 10, 11, 12, 13, 14, 15], dtype='int32', is_relative=True)"
      ]
     },
     "execution_count": 88,
     "metadata": {},
     "output_type": "execute_result"
    }
   ],
   "source": [
    "fh2 = ForecastingHorizon(np.arange(1,16))\n",
    "fh2"
   ]
  },
  {
   "cell_type": "code",
   "execution_count": 90,
   "id": "8534a9b2-225f-4126-b3da-49b3734c1764",
   "metadata": {},
   "outputs": [
    {
     "name": "stderr",
     "output_type": "stream",
     "text": [
      "C:\\Users\\takyol\\Desktop\\kaggle_projects\\store_sales\\.venv\\lib\\site-packages\\statsmodels\\tsa\\holtwinters\\model.py:918: ConvergenceWarning: Optimization failed to converge. Check mle_retvals.\n",
      "  warnings.warn(\n",
      "C:\\Users\\takyol\\Desktop\\kaggle_projects\\store_sales\\.venv\\lib\\site-packages\\statsmodels\\tsa\\holtwinters\\model.py:918: ConvergenceWarning: Optimization failed to converge. Check mle_retvals.\n",
      "  warnings.warn(\n",
      "C:\\Users\\takyol\\Desktop\\kaggle_projects\\store_sales\\.venv\\lib\\site-packages\\statsmodels\\tsa\\holtwinters\\model.py:918: ConvergenceWarning: Optimization failed to converge. Check mle_retvals.\n",
      "  warnings.warn(\n",
      "C:\\Users\\takyol\\Desktop\\kaggle_projects\\store_sales\\.venv\\lib\\site-packages\\statsmodels\\tsa\\holtwinters\\model.py:918: ConvergenceWarning: Optimization failed to converge. Check mle_retvals.\n",
      "  warnings.warn(\n",
      "C:\\Users\\takyol\\Desktop\\kaggle_projects\\store_sales\\.venv\\lib\\site-packages\\statsmodels\\tsa\\holtwinters\\model.py:918: ConvergenceWarning: Optimization failed to converge. Check mle_retvals.\n",
      "  warnings.warn(\n",
      "C:\\Users\\takyol\\Desktop\\kaggle_projects\\store_sales\\.venv\\lib\\site-packages\\statsmodels\\tsa\\holtwinters\\model.py:918: ConvergenceWarning: Optimization failed to converge. Check mle_retvals.\n",
      "  warnings.warn(\n",
      "C:\\Users\\takyol\\Desktop\\kaggle_projects\\store_sales\\.venv\\lib\\site-packages\\statsmodels\\tsa\\holtwinters\\model.py:918: ConvergenceWarning: Optimization failed to converge. Check mle_retvals.\n",
      "  warnings.warn(\n",
      "C:\\Users\\takyol\\Desktop\\kaggle_projects\\store_sales\\.venv\\lib\\site-packages\\statsmodels\\tsa\\holtwinters\\model.py:918: ConvergenceWarning: Optimization failed to converge. Check mle_retvals.\n",
      "  warnings.warn(\n",
      "C:\\Users\\takyol\\Desktop\\kaggle_projects\\store_sales\\.venv\\lib\\site-packages\\statsmodels\\tsa\\holtwinters\\model.py:918: ConvergenceWarning: Optimization failed to converge. Check mle_retvals.\n",
      "  warnings.warn(\n",
      "C:\\Users\\takyol\\Desktop\\kaggle_projects\\store_sales\\.venv\\lib\\site-packages\\statsmodels\\tsa\\holtwinters\\model.py:918: ConvergenceWarning: Optimization failed to converge. Check mle_retvals.\n",
      "  warnings.warn(\n"
     ]
    },
    {
     "data": {
      "text/html": [
       "<style>#sk-cea12da8-53f5-412f-8784-012264f3827c {color: black;background-color: white;}#sk-cea12da8-53f5-412f-8784-012264f3827c pre{padding: 0;}#sk-cea12da8-53f5-412f-8784-012264f3827c div.sk-toggleable {background-color: white;}#sk-cea12da8-53f5-412f-8784-012264f3827c label.sk-toggleable__label {cursor: pointer;display: block;width: 100%;margin-bottom: 0;padding: 0.3em;box-sizing: border-box;text-align: center;}#sk-cea12da8-53f5-412f-8784-012264f3827c label.sk-toggleable__label-arrow:before {content: \"▸\";float: left;margin-right: 0.25em;color: #696969;}#sk-cea12da8-53f5-412f-8784-012264f3827c label.sk-toggleable__label-arrow:hover:before {color: black;}#sk-cea12da8-53f5-412f-8784-012264f3827c div.sk-estimator:hover label.sk-toggleable__label-arrow:before {color: black;}#sk-cea12da8-53f5-412f-8784-012264f3827c div.sk-toggleable__content {max-height: 0;max-width: 0;overflow: hidden;text-align: left;background-color: #f0f8ff;}#sk-cea12da8-53f5-412f-8784-012264f3827c div.sk-toggleable__content pre {margin: 0.2em;color: black;border-radius: 0.25em;background-color: #f0f8ff;}#sk-cea12da8-53f5-412f-8784-012264f3827c input.sk-toggleable__control:checked~div.sk-toggleable__content {max-height: 200px;max-width: 100%;overflow: auto;}#sk-cea12da8-53f5-412f-8784-012264f3827c input.sk-toggleable__control:checked~label.sk-toggleable__label-arrow:before {content: \"▾\";}#sk-cea12da8-53f5-412f-8784-012264f3827c div.sk-estimator input.sk-toggleable__control:checked~label.sk-toggleable__label {background-color: #d4ebff;}#sk-cea12da8-53f5-412f-8784-012264f3827c div.sk-label input.sk-toggleable__control:checked~label.sk-toggleable__label {background-color: #d4ebff;}#sk-cea12da8-53f5-412f-8784-012264f3827c input.sk-hidden--visually {border: 0;clip: rect(1px 1px 1px 1px);clip: rect(1px, 1px, 1px, 1px);height: 1px;margin: -1px;overflow: hidden;padding: 0;position: absolute;width: 1px;}#sk-cea12da8-53f5-412f-8784-012264f3827c div.sk-estimator {font-family: monospace;background-color: #f0f8ff;border: 1px dotted black;border-radius: 0.25em;box-sizing: border-box;margin-bottom: 0.5em;}#sk-cea12da8-53f5-412f-8784-012264f3827c div.sk-estimator:hover {background-color: #d4ebff;}#sk-cea12da8-53f5-412f-8784-012264f3827c div.sk-parallel-item::after {content: \"\";width: 100%;border-bottom: 1px solid gray;flex-grow: 1;}#sk-cea12da8-53f5-412f-8784-012264f3827c div.sk-label:hover label.sk-toggleable__label {background-color: #d4ebff;}#sk-cea12da8-53f5-412f-8784-012264f3827c div.sk-serial::before {content: \"\";position: absolute;border-left: 1px solid gray;box-sizing: border-box;top: 2em;bottom: 0;left: 50%;}#sk-cea12da8-53f5-412f-8784-012264f3827c div.sk-serial {display: flex;flex-direction: column;align-items: center;background-color: white;padding-right: 0.2em;padding-left: 0.2em;}#sk-cea12da8-53f5-412f-8784-012264f3827c div.sk-item {z-index: 1;}#sk-cea12da8-53f5-412f-8784-012264f3827c div.sk-parallel {display: flex;align-items: stretch;justify-content: center;background-color: white;}#sk-cea12da8-53f5-412f-8784-012264f3827c div.sk-parallel::before {content: \"\";position: absolute;border-left: 1px solid gray;box-sizing: border-box;top: 2em;bottom: 0;left: 50%;}#sk-cea12da8-53f5-412f-8784-012264f3827c div.sk-parallel-item {display: flex;flex-direction: column;position: relative;background-color: white;}#sk-cea12da8-53f5-412f-8784-012264f3827c div.sk-parallel-item:first-child::after {align-self: flex-end;width: 50%;}#sk-cea12da8-53f5-412f-8784-012264f3827c div.sk-parallel-item:last-child::after {align-self: flex-start;width: 50%;}#sk-cea12da8-53f5-412f-8784-012264f3827c div.sk-parallel-item:only-child::after {width: 0;}#sk-cea12da8-53f5-412f-8784-012264f3827c div.sk-dashed-wrapped {border: 1px dashed gray;margin: 0 0.4em 0.5em 0.4em;box-sizing: border-box;padding-bottom: 0.4em;background-color: white;position: relative;}#sk-cea12da8-53f5-412f-8784-012264f3827c div.sk-label label {font-family: monospace;font-weight: bold;background-color: white;display: inline-block;line-height: 1.2em;}#sk-cea12da8-53f5-412f-8784-012264f3827c div.sk-label-container {position: relative;z-index: 2;text-align: center;}#sk-cea12da8-53f5-412f-8784-012264f3827c div.sk-container {/* jupyter's `normalize.less` sets `[hidden] { display: none; }` but bootstrap.min.css set `[hidden] { display: none !important; }` so we also need the `!important` here to be able to override the default hidden behavior on the sphinx rendered scikit-learn.org. See: https://github.com/scikit-learn/scikit-learn/issues/21755 */display: inline-block !important;position: relative;}#sk-cea12da8-53f5-412f-8784-012264f3827c div.sk-text-repr-fallback {display: none;}</style><div id='sk-cea12da8-53f5-412f-8784-012264f3827c' class=\"sk-top-container\"><div class=\"sk-text-repr-fallback\"><pre>ExponentialSmoothing(seasonal=&#x27;additive&#x27;, sp=12, trend=&#x27;add&#x27;)</pre><b>Please rerun this cell to show the HTML repr or trust the notebook.</b></div><div class=\"sk-container\" hidden><div class='sk-item'><div class=\"sk-estimator sk-toggleable\"><input class=\"sk-toggleable__control sk-hidden--visually\" id=UUID('ac264f4d-a240-4d31-8442-08ffb2fd6da7') type=\"checkbox\" checked><label for=UUID('ac264f4d-a240-4d31-8442-08ffb2fd6da7') class='sk-toggleable__label sk-toggleable__label-arrow'>ExponentialSmoothing</label><div class=\"sk-toggleable__content\"><pre>ExponentialSmoothing(seasonal=&#x27;additive&#x27;, sp=12, trend=&#x27;add&#x27;)</pre></div></div></div></div></div>"
      ],
      "text/plain": [
       "ExponentialSmoothing(seasonal='additive', sp=12, trend='add')"
      ]
     },
     "execution_count": 90,
     "metadata": {},
     "output_type": "execute_result"
    }
   ],
   "source": [
    "forecaster =  ExponentialSmoothing(trend=\"add\", seasonal=\"additive\", sp=12)\n",
    "forecaster.fit(train)"
   ]
  },
  {
   "cell_type": "code",
   "execution_count": 91,
   "id": "d03b3012-5058-4296-8844-d67d9f74c59d",
   "metadata": {},
   "outputs": [],
   "source": [
    "y_pred = forecaster.predict(fh)"
   ]
  },
  {
   "cell_type": "code",
   "execution_count": 92,
   "id": "e36fa3c0-c99f-4634-b904-0721e6467865",
   "metadata": {},
   "outputs": [
    {
     "data": {
      "text/html": [
       "<div>\n",
       "<style scoped>\n",
       "    .dataframe tbody tr th:only-of-type {\n",
       "        vertical-align: middle;\n",
       "    }\n",
       "\n",
       "    .dataframe tbody tr th {\n",
       "        vertical-align: top;\n",
       "    }\n",
       "\n",
       "    .dataframe thead th {\n",
       "        text-align: right;\n",
       "    }\n",
       "</style>\n",
       "<table border=\"1\" class=\"dataframe\">\n",
       "  <thead>\n",
       "    <tr style=\"text-align: right;\">\n",
       "      <th></th>\n",
       "      <th></th>\n",
       "      <th></th>\n",
       "      <th>sales</th>\n",
       "      <th>onpromotion</th>\n",
       "    </tr>\n",
       "    <tr>\n",
       "      <th>store_nbr</th>\n",
       "      <th>family</th>\n",
       "      <th>date</th>\n",
       "      <th></th>\n",
       "      <th></th>\n",
       "    </tr>\n",
       "  </thead>\n",
       "  <tbody>\n",
       "    <tr>\n",
       "      <th rowspan=\"5\" valign=\"top\">1</th>\n",
       "      <th rowspan=\"5\" valign=\"top\">AUTOMOTIVE</th>\n",
       "      <th>2017-08-16</th>\n",
       "      <td>4.184816</td>\n",
       "      <td>-0.008264</td>\n",
       "    </tr>\n",
       "    <tr>\n",
       "      <th>2017-08-17</th>\n",
       "      <td>4.548707</td>\n",
       "      <td>-0.001126</td>\n",
       "    </tr>\n",
       "    <tr>\n",
       "      <th>2017-08-18</th>\n",
       "      <td>4.776941</td>\n",
       "      <td>0.006004</td>\n",
       "    </tr>\n",
       "    <tr>\n",
       "      <th>2017-08-19</th>\n",
       "      <td>4.811494</td>\n",
       "      <td>-0.001111</td>\n",
       "    </tr>\n",
       "    <tr>\n",
       "      <th>2017-08-20</th>\n",
       "      <td>4.825580</td>\n",
       "      <td>-0.008236</td>\n",
       "    </tr>\n",
       "    <tr>\n",
       "      <th>...</th>\n",
       "      <th>...</th>\n",
       "      <th>...</th>\n",
       "      <td>...</td>\n",
       "      <td>...</td>\n",
       "    </tr>\n",
       "    <tr>\n",
       "      <th rowspan=\"5\" valign=\"top\">2</th>\n",
       "      <th rowspan=\"5\" valign=\"top\">SEAFOOD</th>\n",
       "      <th>2017-08-26</th>\n",
       "      <td>35.416426</td>\n",
       "      <td>1.009510</td>\n",
       "    </tr>\n",
       "    <tr>\n",
       "      <th>2017-08-27</th>\n",
       "      <td>35.851301</td>\n",
       "      <td>1.066283</td>\n",
       "    </tr>\n",
       "    <tr>\n",
       "      <th>2017-08-28</th>\n",
       "      <td>34.986016</td>\n",
       "      <td>0.975691</td>\n",
       "    </tr>\n",
       "    <tr>\n",
       "      <th>2017-08-29</th>\n",
       "      <td>35.131448</td>\n",
       "      <td>1.161207</td>\n",
       "    </tr>\n",
       "    <tr>\n",
       "      <th>2017-08-30</th>\n",
       "      <td>33.237516</td>\n",
       "      <td>0.924279</td>\n",
       "    </tr>\n",
       "  </tbody>\n",
       "</table>\n",
       "<p>990 rows × 2 columns</p>\n",
       "</div>"
      ],
      "text/plain": [
       "                                     sales  onpromotion\n",
       "store_nbr family     date                              \n",
       "1         AUTOMOTIVE 2017-08-16   4.184816    -0.008264\n",
       "                     2017-08-17   4.548707    -0.001126\n",
       "                     2017-08-18   4.776941     0.006004\n",
       "                     2017-08-19   4.811494    -0.001111\n",
       "                     2017-08-20   4.825580    -0.008236\n",
       "...                                    ...          ...\n",
       "2         SEAFOOD    2017-08-26  35.416426     1.009510\n",
       "                     2017-08-27  35.851301     1.066283\n",
       "                     2017-08-28  34.986016     0.975691\n",
       "                     2017-08-29  35.131448     1.161207\n",
       "                     2017-08-30  33.237516     0.924279\n",
       "\n",
       "[990 rows x 2 columns]"
      ]
     },
     "execution_count": 92,
     "metadata": {},
     "output_type": "execute_result"
    }
   ],
   "source": [
    "y_pred"
   ]
  },
  {
   "cell_type": "code",
   "execution_count": 37,
   "id": "849fbe3c-1b08-4028-96ba-86154639e6d7",
   "metadata": {},
   "outputs": [
    {
     "data": {
      "text/html": [
       "<div>\n",
       "<style scoped>\n",
       "    .dataframe tbody tr th:only-of-type {\n",
       "        vertical-align: middle;\n",
       "    }\n",
       "\n",
       "    .dataframe tbody tr th {\n",
       "        vertical-align: top;\n",
       "    }\n",
       "\n",
       "    .dataframe thead tr th {\n",
       "        text-align: left;\n",
       "    }\n",
       "\n",
       "    .dataframe thead tr:last-of-type th {\n",
       "        text-align: right;\n",
       "    }\n",
       "</style>\n",
       "<table border=\"1\" class=\"dataframe\">\n",
       "  <thead>\n",
       "    <tr>\n",
       "      <th>family</th>\n",
       "      <th colspan=\"10\" halign=\"left\">AUTOMOTIVE</th>\n",
       "      <th>...</th>\n",
       "      <th colspan=\"10\" halign=\"left\">SEAFOOD</th>\n",
       "    </tr>\n",
       "    <tr>\n",
       "      <th>family</th>\n",
       "      <th colspan=\"10\" halign=\"left\">AUTOMOTIVE</th>\n",
       "      <th>...</th>\n",
       "      <th colspan=\"10\" halign=\"left\">SEAFOOD</th>\n",
       "    </tr>\n",
       "    <tr>\n",
       "      <th>store_nbr</th>\n",
       "      <th>1</th>\n",
       "      <th>10</th>\n",
       "      <th>11</th>\n",
       "      <th>12</th>\n",
       "      <th>13</th>\n",
       "      <th>14</th>\n",
       "      <th>15</th>\n",
       "      <th>16</th>\n",
       "      <th>17</th>\n",
       "      <th>18</th>\n",
       "      <th>...</th>\n",
       "      <th>5</th>\n",
       "      <th>50</th>\n",
       "      <th>51</th>\n",
       "      <th>52</th>\n",
       "      <th>53</th>\n",
       "      <th>54</th>\n",
       "      <th>6</th>\n",
       "      <th>7</th>\n",
       "      <th>8</th>\n",
       "      <th>9</th>\n",
       "    </tr>\n",
       "    <tr>\n",
       "      <th>date</th>\n",
       "      <th></th>\n",
       "      <th></th>\n",
       "      <th></th>\n",
       "      <th></th>\n",
       "      <th></th>\n",
       "      <th></th>\n",
       "      <th></th>\n",
       "      <th></th>\n",
       "      <th></th>\n",
       "      <th></th>\n",
       "      <th></th>\n",
       "      <th></th>\n",
       "      <th></th>\n",
       "      <th></th>\n",
       "      <th></th>\n",
       "      <th></th>\n",
       "      <th></th>\n",
       "      <th></th>\n",
       "      <th></th>\n",
       "      <th></th>\n",
       "      <th></th>\n",
       "    </tr>\n",
       "  </thead>\n",
       "  <tbody>\n",
       "    <tr>\n",
       "      <th>2017-08-25</th>\n",
       "      <td>4.483274</td>\n",
       "      <td>1.811184</td>\n",
       "      <td>7.89436</td>\n",
       "      <td>5.932794</td>\n",
       "      <td>5.003217</td>\n",
       "      <td>3.829323</td>\n",
       "      <td>3.946422</td>\n",
       "      <td>4.902763</td>\n",
       "      <td>9.191286</td>\n",
       "      <td>4.312973</td>\n",
       "      <td>...</td>\n",
       "      <td>9.746943</td>\n",
       "      <td>19.963582</td>\n",
       "      <td>50.982105</td>\n",
       "      <td>9.403427</td>\n",
       "      <td>4.284481</td>\n",
       "      <td>2.579434</td>\n",
       "      <td>37.288262</td>\n",
       "      <td>43.194023</td>\n",
       "      <td>35.799047</td>\n",
       "      <td>17.768955</td>\n",
       "    </tr>\n",
       "  </tbody>\n",
       "</table>\n",
       "<p>1 rows × 1782 columns</p>\n",
       "</div>"
      ],
      "text/plain": [
       "family     AUTOMOTIVE                                                   \\\n",
       "family     AUTOMOTIVE                                                    \n",
       "store_nbr           1        10       11        12        13        14   \n",
       "date                                                                     \n",
       "2017-08-25   4.483274  1.811184  7.89436  5.932794  5.003217  3.829323   \n",
       "\n",
       "family                                              ...   SEAFOOD             \\\n",
       "family                                              ...   SEAFOOD              \n",
       "store_nbr         15        16        17        18  ...         5         50   \n",
       "date                                                ...                        \n",
       "2017-08-25  3.946422  4.902763  9.191286  4.312973  ...  9.746943  19.963582   \n",
       "\n",
       "family                                                                     \\\n",
       "family                                                                      \n",
       "store_nbr          51        52        53        54          6          7   \n",
       "date                                                                        \n",
       "2017-08-25  50.982105  9.403427  4.284481  2.579434  37.288262  43.194023   \n",
       "\n",
       "family                            \n",
       "family                            \n",
       "store_nbr           8          9  \n",
       "date                              \n",
       "2017-08-25  35.799047  17.768955  \n",
       "\n",
       "[1 rows x 1782 columns]"
      ]
     },
     "execution_count": 37,
     "metadata": {},
     "output_type": "execute_result"
    }
   ],
   "source": [
    "y_pred"
   ]
  },
  {
   "cell_type": "code",
   "execution_count": 47,
   "id": "cf452a12-5e6b-4d34-9155-37d3c0feb309",
   "metadata": {},
   "outputs": [
    {
     "data": {
      "text/plain": [
       "MultiIndex([('AUTOMOTIVE', 'AUTOMOTIVE',  '1'),\n",
       "            ('AUTOMOTIVE', 'AUTOMOTIVE', '10'),\n",
       "            ('AUTOMOTIVE', 'AUTOMOTIVE', '11'),\n",
       "            ('AUTOMOTIVE', 'AUTOMOTIVE', '12'),\n",
       "            ('AUTOMOTIVE', 'AUTOMOTIVE', '13'),\n",
       "            ('AUTOMOTIVE', 'AUTOMOTIVE', '14'),\n",
       "            ('AUTOMOTIVE', 'AUTOMOTIVE', '15'),\n",
       "            ('AUTOMOTIVE', 'AUTOMOTIVE', '16'),\n",
       "            ('AUTOMOTIVE', 'AUTOMOTIVE', '17'),\n",
       "            ('AUTOMOTIVE', 'AUTOMOTIVE', '18'),\n",
       "            ...\n",
       "            (   'SEAFOOD',    'SEAFOOD',  '5'),\n",
       "            (   'SEAFOOD',    'SEAFOOD', '50'),\n",
       "            (   'SEAFOOD',    'SEAFOOD', '51'),\n",
       "            (   'SEAFOOD',    'SEAFOOD', '52'),\n",
       "            (   'SEAFOOD',    'SEAFOOD', '53'),\n",
       "            (   'SEAFOOD',    'SEAFOOD', '54'),\n",
       "            (   'SEAFOOD',    'SEAFOOD',  '6'),\n",
       "            (   'SEAFOOD',    'SEAFOOD',  '7'),\n",
       "            (   'SEAFOOD',    'SEAFOOD',  '8'),\n",
       "            (   'SEAFOOD',    'SEAFOOD',  '9')],\n",
       "           names=['family', 'family', 'store_nbr'], length=1782)"
      ]
     },
     "execution_count": 47,
     "metadata": {},
     "output_type": "execute_result"
    }
   ],
   "source": []
  },
  {
   "cell_type": "code",
   "execution_count": null,
   "id": "25671c04-a8f5-408a-9ad7-fc5e85a0cb5d",
   "metadata": {},
   "outputs": [],
   "source": []
  }
 ],
 "metadata": {
  "kernelspec": {
   "display_name": "Python 3 (ipykernel)",
   "language": "python",
   "name": "python3"
  },
  "language_info": {
   "codemirror_mode": {
    "name": "ipython",
    "version": 3
   },
   "file_extension": ".py",
   "mimetype": "text/x-python",
   "name": "python",
   "nbconvert_exporter": "python",
   "pygments_lexer": "ipython3",
   "version": "3.9.7"
  }
 },
 "nbformat": 4,
 "nbformat_minor": 5
}
