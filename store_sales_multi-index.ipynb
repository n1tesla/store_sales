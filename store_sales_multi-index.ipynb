{
 "cells": [
  {
   "cell_type": "code",
   "id": "d67c320e-851a-4116-a701-02d3731eb6bd",
   "metadata": {
    "ExecuteTime": {
     "end_time": "2024-06-14T14:47:18.912939Z",
     "start_time": "2024-06-14T14:47:18.900967Z"
    }
   },
   "source": [
    "import pandas as pd\n",
    "import numpy as np\n",
    "from pathlib import Path\n",
    "\n",
    "from warnings import simplefilter\n",
    "simplefilter(\"ignore\")"
   ],
   "outputs": [],
   "execution_count": 117
  },
  {
   "cell_type": "code",
   "id": "9ca8eb6f-3a37-4408-97df-dd4bd00c512f",
   "metadata": {
    "ExecuteTime": {
     "end_time": "2024-06-14T14:47:19.266473Z",
     "start_time": "2024-06-14T14:47:19.259133Z"
    }
   },
   "source": [
    "dataset_dir = Path(\"dataset\")"
   ],
   "outputs": [],
   "execution_count": 118
  },
  {
   "cell_type": "markdown",
   "id": "3ee12baf-08f7-4502-9850-f097e7ea2290",
   "metadata": {},
   "source": [
    "## CONFIG "
   ]
  },
  {
   "cell_type": "code",
   "id": "6b57b1f4-1d56-4f4b-bb82-c5b8c6eb82a3",
   "metadata": {
    "ExecuteTime": {
     "end_time": "2024-06-14T14:47:37.336669Z",
     "start_time": "2024-06-14T14:47:37.327669Z"
    }
   },
   "source": [
    "filter_store_nbr = [str(i) for i in range(55)]\n",
    "filter_family_list = [\"AUTOMOTIVE\", \"SEAFOOD\"]\n",
    "val_ratio = 0.2\n",
    "train_start_date = \"2013-01-02\"\n",
    "train_end_date = \"2016-12-30\"\n",
    "test_start_date= \"2017-01-01\"\n",
    "test_end_date= \"2017-08-15\"\n",
    "\n",
    "from sktime.forecasting.base import ForecastingHorizon\n",
    "fh = ForecastingHorizon(np.arange(1,228))\n",
    "# fh = ForecastingHorizon(\n",
    "#     pd.PeriodIndex(pd.date_range('2017-08-16', periods=15, freq=\"D\")), is_relative=False\n",
    "# )\n",
    "fh"
   ],
   "outputs": [
    {
     "data": {
      "text/plain": [
       "ForecastingHorizon([  1,   2,   3,   4,   5,   6,   7,   8,   9,  10,\n",
       "       ...\n",
       "       218, 219, 220, 221, 222, 223, 224, 225, 226, 227],\n",
       "      dtype='int32', length=227, is_relative=True)"
      ]
     },
     "execution_count": 122,
     "metadata": {},
     "output_type": "execute_result"
    }
   ],
   "execution_count": 122
  },
  {
   "metadata": {},
   "cell_type": "code",
   "outputs": [],
   "execution_count": null,
   "source": [
    "def fh_calculator():\n",
    "    pass"
   ],
   "id": "e65d0ba8d98e48d1"
  },
  {
   "cell_type": "code",
   "id": "b0056845-2c89-4a1b-aeeb-a9c678694226",
   "metadata": {
    "ExecuteTime": {
     "end_time": "2024-06-14T14:47:52.905211Z",
     "start_time": "2024-06-14T14:47:43.454373Z"
    }
   },
   "source": [
    "train = pd.read_csv(dataset_dir / 'train.csv',                            \n",
    "    usecols=['store_nbr', 'family', 'date', 'sales'],\n",
    "    dtype={\n",
    "        'store_nbr': 'category',\n",
    "        'family': 'category',\n",
    "        'sales': 'float32',\n",
    "        'onpromotion': 'uint32'\n",
    "    },\n",
    "    parse_dates=['date'],\n",
    "    infer_datetime_format=True,\n",
    ")\n",
    "train['date'] = train.date.dt.to_period('D')\n",
    "\n",
    "train = (train\n",
    "       .set_index(['store_nbr','family','date'])         # Setting MultiIndex to make unique identifiers for each 'sales' item\n",
    "       .sort_index()\n",
    "      )\n",
    "# train = train[train.index.isin(store_nbr_list)]"
   ],
   "outputs": [],
   "execution_count": 123
  },
  {
   "metadata": {
    "ExecuteTime": {
     "end_time": "2024-06-14T14:00:34.037838Z",
     "start_time": "2024-06-14T14:00:34.026071Z"
    }
   },
   "cell_type": "code",
   "source": [
    "# store_nbr_list = train['store_nbr'].unique()\n",
    "# family_list = train['family'].unique()\n",
    "# train.groupby([\"store_nbr\",\"family\"]).count()"
   ],
   "id": "82441446ce3e74df",
   "outputs": [],
   "execution_count": 98
  },
  {
   "cell_type": "markdown",
   "source": [
    "## MULTI-INDEX FILTERING"
   ],
   "metadata": {
    "collapsed": false
   },
   "id": "bdaab4452f943089"
  },
  {
   "cell_type": "code",
   "source": [
    "c1=train.index.get_level_values(0).isin(filter_store_nbr)\n",
    "c2 = train.index.get_level_values(1).isin(filter_family_list)\n",
    "df = train[c1 & c2]"
   ],
   "metadata": {
    "collapsed": false,
    "ExecuteTime": {
     "end_time": "2024-06-14T14:47:56.899884Z",
     "start_time": "2024-06-14T14:47:56.812744Z"
    }
   },
   "id": "8b1bd64a5d7c2e33",
   "outputs": [],
   "execution_count": 124
  },
  {
   "metadata": {
    "ExecuteTime": {
     "end_time": "2024-06-14T14:47:57.599218Z",
     "start_time": "2024-06-14T14:47:57.583673Z"
    }
   },
   "cell_type": "code",
   "source": "df",
   "id": "398777afd1344e15",
   "outputs": [
    {
     "data": {
      "text/plain": [
       "                                     sales\n",
       "store_nbr family     date                 \n",
       "1         AUTOMOTIVE 2013-01-01   0.000000\n",
       "                     2013-01-02   2.000000\n",
       "                     2013-01-03   3.000000\n",
       "                     2013-01-04   3.000000\n",
       "                     2013-01-05   5.000000\n",
       "...                                    ...\n",
       "9         SEAFOOD    2017-08-11  23.830999\n",
       "                     2017-08-12  16.859001\n",
       "                     2017-08-13  20.000000\n",
       "                     2017-08-14  17.000000\n",
       "                     2017-08-15  16.000000\n",
       "\n",
       "[181872 rows x 1 columns]"
      ],
      "text/html": [
       "<div>\n",
       "<style scoped>\n",
       "    .dataframe tbody tr th:only-of-type {\n",
       "        vertical-align: middle;\n",
       "    }\n",
       "\n",
       "    .dataframe tbody tr th {\n",
       "        vertical-align: top;\n",
       "    }\n",
       "\n",
       "    .dataframe thead th {\n",
       "        text-align: right;\n",
       "    }\n",
       "</style>\n",
       "<table border=\"1\" class=\"dataframe\">\n",
       "  <thead>\n",
       "    <tr style=\"text-align: right;\">\n",
       "      <th></th>\n",
       "      <th></th>\n",
       "      <th></th>\n",
       "      <th>sales</th>\n",
       "    </tr>\n",
       "    <tr>\n",
       "      <th>store_nbr</th>\n",
       "      <th>family</th>\n",
       "      <th>date</th>\n",
       "      <th></th>\n",
       "    </tr>\n",
       "  </thead>\n",
       "  <tbody>\n",
       "    <tr>\n",
       "      <th rowspan=\"5\" valign=\"top\">1</th>\n",
       "      <th rowspan=\"5\" valign=\"top\">AUTOMOTIVE</th>\n",
       "      <th>2013-01-01</th>\n",
       "      <td>0.000000</td>\n",
       "    </tr>\n",
       "    <tr>\n",
       "      <th>2013-01-02</th>\n",
       "      <td>2.000000</td>\n",
       "    </tr>\n",
       "    <tr>\n",
       "      <th>2013-01-03</th>\n",
       "      <td>3.000000</td>\n",
       "    </tr>\n",
       "    <tr>\n",
       "      <th>2013-01-04</th>\n",
       "      <td>3.000000</td>\n",
       "    </tr>\n",
       "    <tr>\n",
       "      <th>2013-01-05</th>\n",
       "      <td>5.000000</td>\n",
       "    </tr>\n",
       "    <tr>\n",
       "      <th>...</th>\n",
       "      <th>...</th>\n",
       "      <th>...</th>\n",
       "      <td>...</td>\n",
       "    </tr>\n",
       "    <tr>\n",
       "      <th rowspan=\"5\" valign=\"top\">9</th>\n",
       "      <th rowspan=\"5\" valign=\"top\">SEAFOOD</th>\n",
       "      <th>2017-08-11</th>\n",
       "      <td>23.830999</td>\n",
       "    </tr>\n",
       "    <tr>\n",
       "      <th>2017-08-12</th>\n",
       "      <td>16.859001</td>\n",
       "    </tr>\n",
       "    <tr>\n",
       "      <th>2017-08-13</th>\n",
       "      <td>20.000000</td>\n",
       "    </tr>\n",
       "    <tr>\n",
       "      <th>2017-08-14</th>\n",
       "      <td>17.000000</td>\n",
       "    </tr>\n",
       "    <tr>\n",
       "      <th>2017-08-15</th>\n",
       "      <td>16.000000</td>\n",
       "    </tr>\n",
       "  </tbody>\n",
       "</table>\n",
       "<p>181872 rows × 1 columns</p>\n",
       "</div>"
      ]
     },
     "execution_count": 125,
     "metadata": {},
     "output_type": "execute_result"
    }
   ],
   "execution_count": 125
  },
  {
   "metadata": {
    "ExecuteTime": {
     "end_time": "2024-06-14T14:48:02.497281Z",
     "start_time": "2024-06-14T14:48:02.476553Z"
    }
   },
   "cell_type": "code",
   "source": "df.index.get_level_values(1).unique()",
   "id": "296b8f4dd2e3af27",
   "outputs": [
    {
     "data": {
      "text/plain": [
       "CategoricalIndex(['AUTOMOTIVE', 'SEAFOOD'], categories=['AUTOMOTIVE', 'BABY CARE', 'BEAUTY', 'BEVERAGES', ..., 'PREPARED FOODS', 'PRODUCE', 'SCHOOL AND OFFICE SUPPLIES', 'SEAFOOD'], ordered=False, dtype='category', name='family')"
      ]
     },
     "execution_count": 126,
     "metadata": {},
     "output_type": "execute_result"
    }
   ],
   "execution_count": 126
  },
  {
   "cell_type": "markdown",
   "source": [
    "## DATE FILTERING"
   ],
   "metadata": {
    "collapsed": false
   },
   "id": "f9117c281a2bb7a5"
  },
  {
   "cell_type": "code",
   "source": [
    "filtered_train = df[(df.index.get_level_values('date') >= train_start_date) & (df.index.get_level_values('date') <= train_end_date)]\n",
    "filtered_test = df[(df.index.get_level_values('date') >= test_start_date) & (df.index.get_level_values('date') <= test_end_date)]"
   ],
   "metadata": {
    "collapsed": false,
    "ExecuteTime": {
     "end_time": "2024-06-14T14:48:14.377Z",
     "start_time": "2024-06-14T14:48:14.036371Z"
    }
   },
   "id": "4921036777e4c373",
   "outputs": [],
   "execution_count": 128
  },
  {
   "metadata": {
    "ExecuteTime": {
     "end_time": "2024-06-14T14:48:14.594118Z",
     "start_time": "2024-06-14T14:48:14.568818Z"
    }
   },
   "cell_type": "code",
   "source": "filtered_train",
   "id": "92fbf435bb830932",
   "outputs": [
    {
     "data": {
      "text/plain": [
       "                                 sales\n",
       "store_nbr family     date             \n",
       "1         AUTOMOTIVE 2013-01-02    2.0\n",
       "                     2013-01-03    3.0\n",
       "                     2013-01-04    3.0\n",
       "                     2013-01-05    5.0\n",
       "                     2013-01-06    2.0\n",
       "...                                ...\n",
       "9         SEAFOOD    2016-12-26   12.0\n",
       "                     2016-12-27   10.0\n",
       "                     2016-12-28    7.0\n",
       "                     2016-12-29    8.0\n",
       "                     2016-12-30   15.0\n",
       "\n",
       "[157140 rows x 1 columns]"
      ],
      "text/html": [
       "<div>\n",
       "<style scoped>\n",
       "    .dataframe tbody tr th:only-of-type {\n",
       "        vertical-align: middle;\n",
       "    }\n",
       "\n",
       "    .dataframe tbody tr th {\n",
       "        vertical-align: top;\n",
       "    }\n",
       "\n",
       "    .dataframe thead th {\n",
       "        text-align: right;\n",
       "    }\n",
       "</style>\n",
       "<table border=\"1\" class=\"dataframe\">\n",
       "  <thead>\n",
       "    <tr style=\"text-align: right;\">\n",
       "      <th></th>\n",
       "      <th></th>\n",
       "      <th></th>\n",
       "      <th>sales</th>\n",
       "    </tr>\n",
       "    <tr>\n",
       "      <th>store_nbr</th>\n",
       "      <th>family</th>\n",
       "      <th>date</th>\n",
       "      <th></th>\n",
       "    </tr>\n",
       "  </thead>\n",
       "  <tbody>\n",
       "    <tr>\n",
       "      <th rowspan=\"5\" valign=\"top\">1</th>\n",
       "      <th rowspan=\"5\" valign=\"top\">AUTOMOTIVE</th>\n",
       "      <th>2013-01-02</th>\n",
       "      <td>2.0</td>\n",
       "    </tr>\n",
       "    <tr>\n",
       "      <th>2013-01-03</th>\n",
       "      <td>3.0</td>\n",
       "    </tr>\n",
       "    <tr>\n",
       "      <th>2013-01-04</th>\n",
       "      <td>3.0</td>\n",
       "    </tr>\n",
       "    <tr>\n",
       "      <th>2013-01-05</th>\n",
       "      <td>5.0</td>\n",
       "    </tr>\n",
       "    <tr>\n",
       "      <th>2013-01-06</th>\n",
       "      <td>2.0</td>\n",
       "    </tr>\n",
       "    <tr>\n",
       "      <th>...</th>\n",
       "      <th>...</th>\n",
       "      <th>...</th>\n",
       "      <td>...</td>\n",
       "    </tr>\n",
       "    <tr>\n",
       "      <th rowspan=\"5\" valign=\"top\">9</th>\n",
       "      <th rowspan=\"5\" valign=\"top\">SEAFOOD</th>\n",
       "      <th>2016-12-26</th>\n",
       "      <td>12.0</td>\n",
       "    </tr>\n",
       "    <tr>\n",
       "      <th>2016-12-27</th>\n",
       "      <td>10.0</td>\n",
       "    </tr>\n",
       "    <tr>\n",
       "      <th>2016-12-28</th>\n",
       "      <td>7.0</td>\n",
       "    </tr>\n",
       "    <tr>\n",
       "      <th>2016-12-29</th>\n",
       "      <td>8.0</td>\n",
       "    </tr>\n",
       "    <tr>\n",
       "      <th>2016-12-30</th>\n",
       "      <td>15.0</td>\n",
       "    </tr>\n",
       "  </tbody>\n",
       "</table>\n",
       "<p>157140 rows × 1 columns</p>\n",
       "</div>"
      ]
     },
     "execution_count": 129,
     "metadata": {},
     "output_type": "execute_result"
    }
   ],
   "execution_count": 129
  },
  {
   "metadata": {
    "ExecuteTime": {
     "end_time": "2024-06-14T14:48:15.930999Z",
     "start_time": "2024-06-14T14:48:15.913252Z"
    }
   },
   "cell_type": "code",
   "source": "filtered_test",
   "id": "fbfe37d33a32b92",
   "outputs": [
    {
     "data": {
      "text/plain": [
       "                                     sales\n",
       "store_nbr family     date                 \n",
       "1         AUTOMOTIVE 2017-01-01   0.000000\n",
       "                     2017-01-02   5.000000\n",
       "                     2017-01-03   4.000000\n",
       "                     2017-01-04   1.000000\n",
       "                     2017-01-05   2.000000\n",
       "...                                    ...\n",
       "9         SEAFOOD    2017-08-11  23.830999\n",
       "                     2017-08-12  16.859001\n",
       "                     2017-08-13  20.000000\n",
       "                     2017-08-14  17.000000\n",
       "                     2017-08-15  16.000000\n",
       "\n",
       "[24516 rows x 1 columns]"
      ],
      "text/html": [
       "<div>\n",
       "<style scoped>\n",
       "    .dataframe tbody tr th:only-of-type {\n",
       "        vertical-align: middle;\n",
       "    }\n",
       "\n",
       "    .dataframe tbody tr th {\n",
       "        vertical-align: top;\n",
       "    }\n",
       "\n",
       "    .dataframe thead th {\n",
       "        text-align: right;\n",
       "    }\n",
       "</style>\n",
       "<table border=\"1\" class=\"dataframe\">\n",
       "  <thead>\n",
       "    <tr style=\"text-align: right;\">\n",
       "      <th></th>\n",
       "      <th></th>\n",
       "      <th></th>\n",
       "      <th>sales</th>\n",
       "    </tr>\n",
       "    <tr>\n",
       "      <th>store_nbr</th>\n",
       "      <th>family</th>\n",
       "      <th>date</th>\n",
       "      <th></th>\n",
       "    </tr>\n",
       "  </thead>\n",
       "  <tbody>\n",
       "    <tr>\n",
       "      <th rowspan=\"5\" valign=\"top\">1</th>\n",
       "      <th rowspan=\"5\" valign=\"top\">AUTOMOTIVE</th>\n",
       "      <th>2017-01-01</th>\n",
       "      <td>0.000000</td>\n",
       "    </tr>\n",
       "    <tr>\n",
       "      <th>2017-01-02</th>\n",
       "      <td>5.000000</td>\n",
       "    </tr>\n",
       "    <tr>\n",
       "      <th>2017-01-03</th>\n",
       "      <td>4.000000</td>\n",
       "    </tr>\n",
       "    <tr>\n",
       "      <th>2017-01-04</th>\n",
       "      <td>1.000000</td>\n",
       "    </tr>\n",
       "    <tr>\n",
       "      <th>2017-01-05</th>\n",
       "      <td>2.000000</td>\n",
       "    </tr>\n",
       "    <tr>\n",
       "      <th>...</th>\n",
       "      <th>...</th>\n",
       "      <th>...</th>\n",
       "      <td>...</td>\n",
       "    </tr>\n",
       "    <tr>\n",
       "      <th rowspan=\"5\" valign=\"top\">9</th>\n",
       "      <th rowspan=\"5\" valign=\"top\">SEAFOOD</th>\n",
       "      <th>2017-08-11</th>\n",
       "      <td>23.830999</td>\n",
       "    </tr>\n",
       "    <tr>\n",
       "      <th>2017-08-12</th>\n",
       "      <td>16.859001</td>\n",
       "    </tr>\n",
       "    <tr>\n",
       "      <th>2017-08-13</th>\n",
       "      <td>20.000000</td>\n",
       "    </tr>\n",
       "    <tr>\n",
       "      <th>2017-08-14</th>\n",
       "      <td>17.000000</td>\n",
       "    </tr>\n",
       "    <tr>\n",
       "      <th>2017-08-15</th>\n",
       "      <td>16.000000</td>\n",
       "    </tr>\n",
       "  </tbody>\n",
       "</table>\n",
       "<p>24516 rows × 1 columns</p>\n",
       "</div>"
      ]
     },
     "execution_count": 130,
     "metadata": {},
     "output_type": "execute_result"
    }
   ],
   "execution_count": 130
  },
  {
   "cell_type": "code",
   "id": "23b3122d-764a-427e-a616-636112091d83",
   "metadata": {
    "scrolled": true,
    "ExecuteTime": {
     "end_time": "2024-06-14T14:48:37.149376Z",
     "start_time": "2024-06-14T14:48:37.058661Z"
    }
   },
   "source": [
    "test = pd.read_csv(dataset_dir/'test.csv',\n",
    "    dtype={\n",
    "        'store_nbr': 'category',\n",
    "        'family': 'category',\n",
    "    },\n",
    "    parse_dates=['date'],\n",
    "    infer_datetime_format=True,\n",
    ")\n",
    "test['date'] = test.date.dt.to_period('D')\n",
    "test = (test\n",
    "       .set_index(['store_nbr','family','date'])         # Setting MultiIndex to make unique identifiers for each 'sales' item\n",
    "       .sort_index()\n",
    "      )"
   ],
   "outputs": [],
   "execution_count": 131
  },
  {
   "cell_type": "code",
   "id": "2ca70eb3-aea7-4ca6-a313-66e1758c70f5",
   "metadata": {
    "ExecuteTime": {
     "end_time": "2024-06-14T14:48:38.096969Z",
     "start_time": "2024-06-14T14:48:38.077972Z"
    }
   },
   "source": [
    "class ForecastingProcess:\n",
    "    def __init__(self):\n",
    "        pass\n",
    "\n",
    "    def build_model(self,model_name,**kwargs):\n",
    "        model = None\n",
    "        if model_name == \"ARIMA\":\n",
    "            from sktime.forecasting.arima import ARIMA\n",
    "            model=ARIMA()\n",
    "        elif model_name == \"AutoARIMA\":\n",
    "            from sktime.forecasting.arima import AutoARIMA \n",
    "            model=AutoARIMA()\n",
    "        elif model_name == \"SARIMAX\":\n",
    "            from sktime.forecasting.sarimax import SARIMAX\n",
    "            model=SARIMAX()\n",
    "        elif model_name == \"BATS\":\n",
    "            from sktime.forecasting.bats import BATS\n",
    "            model=BATS()\n",
    "        elif model_name == \"TBATS\":\n",
    "            from sktime.forecasting.tbats import TBATS\n",
    "            model=TBATS()\n",
    "        elif model_name == \"StatsForecastArima\":\n",
    "            from sktime.forecasting.statsforecast import StatsForecastAutoARIMA\n",
    "            model=StatsForecastAutoARIMA()\n",
    "        elif model_name == \"StatsForecastTheta\":\n",
    "            from sktime.forecasting.statsforecast import StatsForecastAutoTheta\n",
    "            model=StatsForecastAutoTheta()\n",
    "        elif model_name == \"ExpSmoothing\":\n",
    "            from sktime.forecasting.exp_smoothing import ExponentialSmoothing\n",
    "            model=ExponentialSmoothing()\n",
    "            \n",
    "        elif model_name == \"structural\":\n",
    "            from sktime.forecasting.structural import UnobservedComponents\n",
    "            model = UnobservedComponents()\n",
    "            \n",
    "        return model\n",
    "    \n",
    "    def train_model(self, model, y_train, fh=None):\n",
    "            \n",
    "        model.fit(y_train)\n",
    "        return model\n",
    "    \n",
    "    def test_model(self,model,y_test,fh=None):\n",
    "        y_pred = model.predict(fh)\n",
    "        print(y_pred)\n",
    "        # \n",
    "        from sklearn.metrics import mean_absolute_error, mean_squared_error, root_mean_squared_log_error,mean_absolute_percentage_error\n",
    "\n",
    "        print(f\"MAPE: {mean_absolute_percentage_error(y_test,y_pred)}\")\n",
    "        print(f'MAE:  {mean_absolute_error(y_test, y_pred)}')\n",
    "        print(f'MSE:  {mean_squared_error(y_test, y_pred)}')\n",
    "        print(f'RMSE: {np.sqrt(mean_squared_error(y_test, y_pred))}')\n",
    "        print(f\"RMSLE: {root_mean_squared_log_error(y_test,y_pred)}\")\n",
    "    \n",
    "    def tune_model(self,model, param_grid, y_train):\n",
    "        from sktime.forecasting.model_selection import ForecastingGridSearchCV\n",
    "        from sktime.split import SlidingWindowSplitter\n",
    "\n",
    "        cv = SlidingWindowSplitter(initial_window=int(len(y_train) * 0.8), window_length=20)\n",
    "        gscv = ForecastingGridSearchCV(\n",
    "            model, strategy=\"refit\", cv=cv, param_grid=param_grid\n",
    "        )\n",
    "        gscv.fit(y_train)\n",
    "        print(f\"gscv best params: {gscv.best_params_}\")\n",
    "        return gscv"
   ],
   "outputs": [],
   "execution_count": 132
  },
  {
   "metadata": {},
   "cell_type": "markdown",
   "source": "## ARIMA",
   "id": "6015b84b4c99eb4"
  },
  {
   "cell_type": "code",
   "id": "171d733f-8db9-47de-bcb8-3868ee7964be",
   "metadata": {
    "ExecuteTime": {
     "end_time": "2024-06-14T14:53:24.476351Z",
     "start_time": "2024-06-14T14:53:15.989135Z"
    }
   },
   "source": [
    "forecasting = ForecastingProcess()\n",
    "arima = forecasting.build_model(\"ARIMA\")\n",
    "arima= forecasting.train_model(arima,filtered_train)"
   ],
   "outputs": [],
   "execution_count": 142
  },
  {
   "metadata": {
    "ExecuteTime": {
     "end_time": "2024-06-14T14:54:05.774167Z",
     "start_time": "2024-06-14T14:54:05.761804Z"
    }
   },
   "cell_type": "code",
   "source": "fh = ForecastingHorizon(np.arange(1,228))",
   "id": "35a7d176860c6457",
   "outputs": [],
   "execution_count": 143
  },
  {
   "metadata": {
    "ExecuteTime": {
     "end_time": "2024-06-14T14:54:08.064040Z",
     "start_time": "2024-06-14T14:54:06.435746Z"
    }
   },
   "cell_type": "code",
   "source": "forecasting.test_model(arima, filtered_test, fh)",
   "id": "89168f13b6a2c475",
   "outputs": [
    {
     "name": "stdout",
     "output_type": "stream",
     "text": [
      "                                     sales\n",
      "store_nbr family     date                 \n",
      "1         AUTOMOTIVE 2016-12-31   3.204962\n",
      "                     2017-01-01   3.133669\n",
      "                     2017-01-02   3.127276\n",
      "                     2017-01-03   3.126703\n",
      "                     2017-01-04   3.126651\n",
      "...                                    ...\n",
      "9         SEAFOOD    2017-08-10  16.731863\n",
      "                     2017-08-11  16.731863\n",
      "                     2017-08-12  16.731863\n",
      "                     2017-08-13  16.731863\n",
      "                     2017-08-14  16.731863\n",
      "\n",
      "[24516 rows x 1 columns]\n",
      "MAPE: 864930941807896.5\n",
      "MAE:  5.924748922520457\n",
      "MSE:  110.76892220528092\n",
      "RMSE: 10.524681572631113\n"
     ]
    },
    {
     "ename": "ValueError",
     "evalue": "Root Mean Squared Logarithmic Error cannot be used when targets contain negative values.",
     "output_type": "error",
     "traceback": [
      "\u001B[1;31m---------------------------------------------------------------------------\u001B[0m",
      "\u001B[1;31mValueError\u001B[0m                                Traceback (most recent call last)",
      "Cell \u001B[1;32mIn[144], line 1\u001B[0m\n\u001B[1;32m----> 1\u001B[0m \u001B[43mforecasting\u001B[49m\u001B[38;5;241;43m.\u001B[39;49m\u001B[43mtest_model\u001B[49m\u001B[43m(\u001B[49m\u001B[43marima\u001B[49m\u001B[43m,\u001B[49m\u001B[43m \u001B[49m\u001B[43mfiltered_test\u001B[49m\u001B[43m,\u001B[49m\u001B[43m \u001B[49m\u001B[43mfh\u001B[49m\u001B[43m)\u001B[49m\n",
      "Cell \u001B[1;32mIn[132], line 53\u001B[0m, in \u001B[0;36mForecastingProcess.test_model\u001B[1;34m(self, model, y_test, fh)\u001B[0m\n\u001B[0;32m     51\u001B[0m \u001B[38;5;28mprint\u001B[39m(\u001B[38;5;124mf\u001B[39m\u001B[38;5;124m'\u001B[39m\u001B[38;5;124mMSE:  \u001B[39m\u001B[38;5;132;01m{\u001B[39;00mmean_squared_error(y_test,\u001B[38;5;250m \u001B[39my_pred)\u001B[38;5;132;01m}\u001B[39;00m\u001B[38;5;124m'\u001B[39m)\n\u001B[0;32m     52\u001B[0m \u001B[38;5;28mprint\u001B[39m(\u001B[38;5;124mf\u001B[39m\u001B[38;5;124m'\u001B[39m\u001B[38;5;124mRMSE: \u001B[39m\u001B[38;5;132;01m{\u001B[39;00mnp\u001B[38;5;241m.\u001B[39msqrt(mean_squared_error(y_test,\u001B[38;5;250m \u001B[39my_pred))\u001B[38;5;132;01m}\u001B[39;00m\u001B[38;5;124m'\u001B[39m)\n\u001B[1;32m---> 53\u001B[0m \u001B[38;5;28mprint\u001B[39m(\u001B[38;5;124mf\u001B[39m\u001B[38;5;124m\"\u001B[39m\u001B[38;5;124mRMSLE: \u001B[39m\u001B[38;5;132;01m{\u001B[39;00mroot_mean_squared_log_error(y_test,y_pred)\u001B[38;5;132;01m}\u001B[39;00m\u001B[38;5;124m\"\u001B[39m)\n",
      "File \u001B[1;32m~\\Desktop\\projects\\store_sales\\venv\\lib\\site-packages\\sklearn\\utils\\_param_validation.py:213\u001B[0m, in \u001B[0;36mvalidate_params.<locals>.decorator.<locals>.wrapper\u001B[1;34m(*args, **kwargs)\u001B[0m\n\u001B[0;32m    207\u001B[0m \u001B[38;5;28;01mtry\u001B[39;00m:\n\u001B[0;32m    208\u001B[0m     \u001B[38;5;28;01mwith\u001B[39;00m config_context(\n\u001B[0;32m    209\u001B[0m         skip_parameter_validation\u001B[38;5;241m=\u001B[39m(\n\u001B[0;32m    210\u001B[0m             prefer_skip_nested_validation \u001B[38;5;129;01mor\u001B[39;00m global_skip_validation\n\u001B[0;32m    211\u001B[0m         )\n\u001B[0;32m    212\u001B[0m     ):\n\u001B[1;32m--> 213\u001B[0m         \u001B[38;5;28;01mreturn\u001B[39;00m func(\u001B[38;5;241m*\u001B[39margs, \u001B[38;5;241m*\u001B[39m\u001B[38;5;241m*\u001B[39mkwargs)\n\u001B[0;32m    214\u001B[0m \u001B[38;5;28;01mexcept\u001B[39;00m InvalidParameterError \u001B[38;5;28;01mas\u001B[39;00m e:\n\u001B[0;32m    215\u001B[0m     \u001B[38;5;66;03m# When the function is just a wrapper around an estimator, we allow\u001B[39;00m\n\u001B[0;32m    216\u001B[0m     \u001B[38;5;66;03m# the function to delegate validation to the estimator, but we replace\u001B[39;00m\n\u001B[0;32m    217\u001B[0m     \u001B[38;5;66;03m# the name of the estimator by the name of the function in the error\u001B[39;00m\n\u001B[0;32m    218\u001B[0m     \u001B[38;5;66;03m# message to avoid confusion.\u001B[39;00m\n\u001B[0;32m    219\u001B[0m     msg \u001B[38;5;241m=\u001B[39m re\u001B[38;5;241m.\u001B[39msub(\n\u001B[0;32m    220\u001B[0m         \u001B[38;5;124mr\u001B[39m\u001B[38;5;124m\"\u001B[39m\u001B[38;5;124mparameter of \u001B[39m\u001B[38;5;124m\\\u001B[39m\u001B[38;5;124mw+ must be\u001B[39m\u001B[38;5;124m\"\u001B[39m,\n\u001B[0;32m    221\u001B[0m         \u001B[38;5;124mf\u001B[39m\u001B[38;5;124m\"\u001B[39m\u001B[38;5;124mparameter of \u001B[39m\u001B[38;5;132;01m{\u001B[39;00mfunc\u001B[38;5;241m.\u001B[39m\u001B[38;5;18m__qualname__\u001B[39m\u001B[38;5;132;01m}\u001B[39;00m\u001B[38;5;124m must be\u001B[39m\u001B[38;5;124m\"\u001B[39m,\n\u001B[0;32m    222\u001B[0m         \u001B[38;5;28mstr\u001B[39m(e),\n\u001B[0;32m    223\u001B[0m     )\n",
      "File \u001B[1;32m~\\Desktop\\projects\\store_sales\\venv\\lib\\site-packages\\sklearn\\metrics\\_regression.py:768\u001B[0m, in \u001B[0;36mroot_mean_squared_log_error\u001B[1;34m(y_true, y_pred, sample_weight, multioutput)\u001B[0m\n\u001B[0;32m    758\u001B[0m \u001B[38;5;28;01mif\u001B[39;00m (y_true \u001B[38;5;241m<\u001B[39m \u001B[38;5;241m0\u001B[39m)\u001B[38;5;241m.\u001B[39many() \u001B[38;5;129;01mor\u001B[39;00m (y_pred \u001B[38;5;241m<\u001B[39m \u001B[38;5;241m0\u001B[39m)\u001B[38;5;241m.\u001B[39many():\n\u001B[0;32m    759\u001B[0m     \u001B[38;5;28;01mraise\u001B[39;00m \u001B[38;5;167;01mValueError\u001B[39;00m(\n\u001B[0;32m    760\u001B[0m         \u001B[38;5;124m\"\u001B[39m\u001B[38;5;124mRoot Mean Squared Logarithmic Error cannot be used when \u001B[39m\u001B[38;5;124m\"\u001B[39m\n\u001B[0;32m    761\u001B[0m         \u001B[38;5;124m\"\u001B[39m\u001B[38;5;124mtargets contain negative values.\u001B[39m\u001B[38;5;124m\"\u001B[39m\n\u001B[0;32m    762\u001B[0m     )\n\u001B[0;32m    764\u001B[0m \u001B[38;5;28;01mreturn\u001B[39;00m root_mean_squared_error(\n\u001B[0;32m    765\u001B[0m     np\u001B[38;5;241m.\u001B[39mlog1p(y_true),\n\u001B[0;32m    766\u001B[0m     np\u001B[38;5;241m.\u001B[39mlog1p(y_pred),\n\u001B[0;32m    767\u001B[0m     sample_weight\u001B[38;5;241m=\u001B[39msample_weight,\n\u001B[1;32m--> 768\u001B[0m     multioutput\u001B[38;5;241m=\u001B[39mmultioutput,\n\u001B[0;32m    769\u001B[0m )\n",
      "\u001B[1;31mValueError\u001B[0m: Root Mean Squared Logarithmic Error cannot be used when targets contain negative values."
     ]
    }
   ],
   "execution_count": 144
  },
  {
   "metadata": {
    "ExecuteTime": {
     "end_time": "2024-06-14T13:56:31.598885Z",
     "start_time": "2024-06-14T13:56:31.583313Z"
    }
   },
   "cell_type": "code",
   "source": "filtered_test.index.get_level_values(1).unique()",
   "id": "a8727d841b12bcb8",
   "outputs": [
    {
     "data": {
      "text/plain": [
       "CategoricalIndex(['SEAFOOD'], categories=['AUTOMOTIVE', 'BABY CARE', 'BEAUTY', 'BEVERAGES', ..., 'PREPARED FOODS', 'PRODUCE', 'SCHOOL AND OFFICE SUPPLIES', 'SEAFOOD'], ordered=False, dtype='category', name='family')"
      ]
     },
     "execution_count": 79,
     "metadata": {},
     "output_type": "execute_result"
    }
   ],
   "execution_count": 79
  },
  {
   "cell_type": "code",
   "execution_count": 79,
   "id": "d03b3012-5058-4296-8844-d67d9f74c59d",
   "metadata": {
    "ExecuteTime": {
     "end_time": "2024-06-10T19:07:30.686845900Z",
     "start_time": "2024-06-10T19:07:30.605270300Z"
    }
   },
   "outputs": [],
   "source": ""
  },
  {
   "cell_type": "code",
   "id": "e36fa3c0-c99f-4634-b904-0721e6467865",
   "metadata": {
    "ExecuteTime": {
     "end_time": "2024-06-14T13:30:19.986780Z",
     "start_time": "2024-06-14T13:30:19.974834Z"
    }
   },
   "source": "",
   "outputs": [],
   "execution_count": 60
  },
  {
   "cell_type": "code",
   "id": "849fbe3c-1b08-4028-96ba-86154639e6d7",
   "metadata": {
    "ExecuteTime": {
     "end_time": "2024-06-14T13:30:20.001827Z",
     "start_time": "2024-06-14T13:30:19.988825Z"
    }
   },
   "source": "",
   "outputs": [],
   "execution_count": 60
  },
  {
   "cell_type": "code",
   "id": "cf452a12-5e6b-4d34-9155-37d3c0feb309",
   "metadata": {
    "ExecuteTime": {
     "end_time": "2024-06-14T13:30:20.017827Z",
     "start_time": "2024-06-14T13:30:20.003826Z"
    }
   },
   "source": [],
   "outputs": [],
   "execution_count": 60
  },
  {
   "cell_type": "code",
   "execution_count": null,
   "id": "25671c04-a8f5-408a-9ad7-fc5e85a0cb5d",
   "metadata": {},
   "outputs": [],
   "source": []
  }
 ],
 "metadata": {
  "kernelspec": {
   "display_name": "Python 3 (ipykernel)",
   "language": "python",
   "name": "python3"
  },
  "language_info": {
   "codemirror_mode": {
    "name": "ipython",
    "version": 3
   },
   "file_extension": ".py",
   "mimetype": "text/x-python",
   "name": "python",
   "nbconvert_exporter": "python",
   "pygments_lexer": "ipython3",
   "version": "3.9.7"
  }
 },
 "nbformat": 4,
 "nbformat_minor": 5
}
