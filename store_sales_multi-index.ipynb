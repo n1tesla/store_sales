{
 "cells": [
  {
   "cell_type": "code",
   "execution_count": 1,
   "id": "d67c320e-851a-4116-a701-02d3731eb6bd",
   "metadata": {
    "ExecuteTime": {
     "end_time": "2024-06-10T17:21:48.432175600Z",
     "start_time": "2024-06-10T17:21:46.700874400Z"
    }
   },
   "outputs": [],
   "source": [
    "import pandas as pd\n",
    "import numpy as np\n",
    "from pathlib import Path\n",
    "import joblib\n",
    "\n",
    "from sklearn.linear_model import LinearRegression\n",
    "from sklearn.metrics import mean_squared_log_error\n",
    "from sklearn.model_selection import train_test_split\n",
    "from warnings import simplefilter\n",
    "simplefilter(\"ignore\")"
   ]
  },
  {
   "cell_type": "code",
   "execution_count": 5,
   "id": "9ca8eb6f-3a37-4408-97df-dd4bd00c512f",
   "metadata": {
    "ExecuteTime": {
     "end_time": "2024-06-10T17:22:03.128693800Z",
     "start_time": "2024-06-10T17:22:03.115676100Z"
    }
   },
   "outputs": [],
   "source": [
    "dataset_dir = Path(\"dataset\")"
   ]
  },
  {
   "cell_type": "markdown",
   "id": "3ee12baf-08f7-4502-9850-f097e7ea2290",
   "metadata": {},
   "source": [
    "## CONFIG "
   ]
  },
  {
   "cell_type": "code",
   "execution_count": 3,
   "id": "6b57b1f4-1d56-4f4b-bb82-c5b8c6eb82a3",
   "metadata": {
    "ExecuteTime": {
     "end_time": "2024-06-10T17:21:54.219426700Z",
     "start_time": "2024-06-10T17:21:54.196275400Z"
    }
   },
   "outputs": [],
   "source": [
    "store_nbr_list = [\"1\",\"2\"]\n",
    "family_list = [\"AUTOMATIVE\", \"SEAFOOD\"]\n",
    "val_ratio = 0.2"
   ]
  },
  {
   "cell_type": "code",
   "execution_count": 50,
   "id": "b0056845-2c89-4a1b-aeeb-a9c678694226",
   "metadata": {
    "ExecuteTime": {
     "end_time": "2024-06-10T18:43:09.156571600Z",
     "start_time": "2024-06-10T18:43:07.494047500Z"
    }
   },
   "outputs": [
    {
     "data": {
      "text/plain": "                                     sales  onpromotion\nstore_nbr family     date                              \n1         AUTOMOTIVE 2013-01-01   0.000000            0\n                     2013-01-02   2.000000            0\n                     2013-01-03   3.000000            0\n                     2013-01-04   3.000000            0\n                     2013-01-05   5.000000            0\n...                                    ...          ...\n9         SEAFOOD    2017-08-11  23.830999            0\n                     2017-08-12  16.859001            4\n                     2017-08-13  20.000000            0\n                     2017-08-14  17.000000            0\n                     2017-08-15  16.000000            0\n\n[3000888 rows x 2 columns]",
      "text/html": "<div>\n<style scoped>\n    .dataframe tbody tr th:only-of-type {\n        vertical-align: middle;\n    }\n\n    .dataframe tbody tr th {\n        vertical-align: top;\n    }\n\n    .dataframe thead th {\n        text-align: right;\n    }\n</style>\n<table border=\"1\" class=\"dataframe\">\n  <thead>\n    <tr style=\"text-align: right;\">\n      <th></th>\n      <th></th>\n      <th></th>\n      <th>sales</th>\n      <th>onpromotion</th>\n    </tr>\n    <tr>\n      <th>store_nbr</th>\n      <th>family</th>\n      <th>date</th>\n      <th></th>\n      <th></th>\n    </tr>\n  </thead>\n  <tbody>\n    <tr>\n      <th rowspan=\"5\" valign=\"top\">1</th>\n      <th rowspan=\"5\" valign=\"top\">AUTOMOTIVE</th>\n      <th>2013-01-01</th>\n      <td>0.000000</td>\n      <td>0</td>\n    </tr>\n    <tr>\n      <th>2013-01-02</th>\n      <td>2.000000</td>\n      <td>0</td>\n    </tr>\n    <tr>\n      <th>2013-01-03</th>\n      <td>3.000000</td>\n      <td>0</td>\n    </tr>\n    <tr>\n      <th>2013-01-04</th>\n      <td>3.000000</td>\n      <td>0</td>\n    </tr>\n    <tr>\n      <th>2013-01-05</th>\n      <td>5.000000</td>\n      <td>0</td>\n    </tr>\n    <tr>\n      <th>...</th>\n      <th>...</th>\n      <th>...</th>\n      <td>...</td>\n      <td>...</td>\n    </tr>\n    <tr>\n      <th rowspan=\"5\" valign=\"top\">9</th>\n      <th rowspan=\"5\" valign=\"top\">SEAFOOD</th>\n      <th>2017-08-11</th>\n      <td>23.830999</td>\n      <td>0</td>\n    </tr>\n    <tr>\n      <th>2017-08-12</th>\n      <td>16.859001</td>\n      <td>4</td>\n    </tr>\n    <tr>\n      <th>2017-08-13</th>\n      <td>20.000000</td>\n      <td>0</td>\n    </tr>\n    <tr>\n      <th>2017-08-14</th>\n      <td>17.000000</td>\n      <td>0</td>\n    </tr>\n    <tr>\n      <th>2017-08-15</th>\n      <td>16.000000</td>\n      <td>0</td>\n    </tr>\n  </tbody>\n</table>\n<p>3000888 rows × 2 columns</p>\n</div>"
     },
     "execution_count": 50,
     "metadata": {},
     "output_type": "execute_result"
    }
   ],
   "source": [
    "train = pd.read_csv(dataset_dir / 'train.csv',                            \n",
    "    usecols=['store_nbr', 'family', 'date', 'sales', 'onpromotion'],\n",
    "    dtype={\n",
    "        'store_nbr': 'category',\n",
    "        'family': 'category',\n",
    "        'sales': 'float32',\n",
    "        'onpromotion': 'uint32'\n",
    "    },\n",
    "    parse_dates=['date'],\n",
    "    infer_datetime_format=True,\n",
    ")\n",
    "train['date'] = train.date.dt.to_period('D')\n",
    "\n",
    "train = (train\n",
    "       .set_index(['store_nbr','family','date'])         # Setting MultiIndex to make unique identifiers for each 'sales' item\n",
    "       .sort_index()\n",
    "      )\n",
    "# train = train[train.index.isin(store_nbr_list)]\n",
    "train"
   ]
  },
  {
   "cell_type": "code",
   "execution_count": 53,
   "outputs": [
    {
     "data": {
      "text/plain": "                                     sales  onpromotion\nstore_nbr family     date                              \n1         AUTOMOTIVE 2013-01-01   0.000000            0\n                     2013-01-02   2.000000            0\n                     2013-01-03   3.000000            0\n                     2013-01-04   3.000000            0\n                     2013-01-05   5.000000            0\n...                                    ...          ...\n3         SEAFOOD    2017-08-11  94.312996            7\n                     2017-08-12  71.917000            0\n                     2017-08-13  77.398003            0\n                     2017-08-14  86.451996            0\n                     2017-08-15  71.060997            0\n\n[10104 rows x 2 columns]",
      "text/html": "<div>\n<style scoped>\n    .dataframe tbody tr th:only-of-type {\n        vertical-align: middle;\n    }\n\n    .dataframe tbody tr th {\n        vertical-align: top;\n    }\n\n    .dataframe thead th {\n        text-align: right;\n    }\n</style>\n<table border=\"1\" class=\"dataframe\">\n  <thead>\n    <tr style=\"text-align: right;\">\n      <th></th>\n      <th></th>\n      <th></th>\n      <th>sales</th>\n      <th>onpromotion</th>\n    </tr>\n    <tr>\n      <th>store_nbr</th>\n      <th>family</th>\n      <th>date</th>\n      <th></th>\n      <th></th>\n    </tr>\n  </thead>\n  <tbody>\n    <tr>\n      <th rowspan=\"5\" valign=\"top\">1</th>\n      <th rowspan=\"5\" valign=\"top\">AUTOMOTIVE</th>\n      <th>2013-01-01</th>\n      <td>0.000000</td>\n      <td>0</td>\n    </tr>\n    <tr>\n      <th>2013-01-02</th>\n      <td>2.000000</td>\n      <td>0</td>\n    </tr>\n    <tr>\n      <th>2013-01-03</th>\n      <td>3.000000</td>\n      <td>0</td>\n    </tr>\n    <tr>\n      <th>2013-01-04</th>\n      <td>3.000000</td>\n      <td>0</td>\n    </tr>\n    <tr>\n      <th>2013-01-05</th>\n      <td>5.000000</td>\n      <td>0</td>\n    </tr>\n    <tr>\n      <th>...</th>\n      <th>...</th>\n      <th>...</th>\n      <td>...</td>\n      <td>...</td>\n    </tr>\n    <tr>\n      <th rowspan=\"5\" valign=\"top\">3</th>\n      <th rowspan=\"5\" valign=\"top\">SEAFOOD</th>\n      <th>2017-08-11</th>\n      <td>94.312996</td>\n      <td>7</td>\n    </tr>\n    <tr>\n      <th>2017-08-12</th>\n      <td>71.917000</td>\n      <td>0</td>\n    </tr>\n    <tr>\n      <th>2017-08-13</th>\n      <td>77.398003</td>\n      <td>0</td>\n    </tr>\n    <tr>\n      <th>2017-08-14</th>\n      <td>86.451996</td>\n      <td>0</td>\n    </tr>\n    <tr>\n      <th>2017-08-15</th>\n      <td>71.060997</td>\n      <td>0</td>\n    </tr>\n  </tbody>\n</table>\n<p>10104 rows × 2 columns</p>\n</div>"
     },
     "execution_count": 53,
     "metadata": {},
     "output_type": "execute_result"
    }
   ],
   "source": [
    "c1=train.index.get_level_values(0).isin(['1', '2', '3'])\n",
    "c2 = train.index.get_level_values(1).isin([\"AUTOMOTIVE\",\"SEAFOOD\"])\n",
    "c3 = train.index.get_level_values(2).isin([])\n",
    "train = train[c1 & c2]\n"
   ],
   "metadata": {
    "collapsed": false,
    "ExecuteTime": {
     "end_time": "2024-06-10T18:46:40.084104Z",
     "start_time": "2024-06-10T18:46:40.057593800Z"
    }
   },
   "id": "8b1bd64a5d7c2e33"
  },
  {
   "cell_type": "code",
   "execution_count": 60,
   "outputs": [],
   "source": [
    "\n",
    "start_date = \"2013-01-02\"\n",
    "end_date = \"2013-01-06\"\n",
    "filtered_df = train[(train.index.get_level_values('date') >= start_date) & (train.index.get_level_values('date') <= end_date)]\n",
    "filtered_df.to_csv('filtered_df.csv')"
   ],
   "metadata": {
    "collapsed": false,
    "ExecuteTime": {
     "end_time": "2024-06-10T18:52:34.945189800Z",
     "start_time": "2024-06-10T18:52:34.925571100Z"
    }
   },
   "id": "4921036777e4c373"
  },
  {
   "cell_type": "code",
   "execution_count": 37,
   "outputs": [
    {
     "ename": "KeyError",
     "evalue": "('1', '2')",
     "output_type": "error",
     "traceback": [
      "\u001B[1;31m---------------------------------------------------------------------------\u001B[0m",
      "\u001B[1;31mTypeError\u001B[0m                                 Traceback (most recent call last)",
      "File \u001B[1;32m~\\sktime3.8\\lib\\site-packages\\pandas\\core\\indexes\\multi.py:2695\u001B[0m, in \u001B[0;36mMultiIndex._partial_tup_index\u001B[1;34m(self, tup, side)\u001B[0m\n\u001B[0;32m   2694\u001B[0m \u001B[38;5;28;01mtry\u001B[39;00m:\n\u001B[1;32m-> 2695\u001B[0m     loc \u001B[38;5;241m=\u001B[39m \u001B[43malgos\u001B[49m\u001B[38;5;241;43m.\u001B[39;49m\u001B[43msearchsorted\u001B[49m\u001B[43m(\u001B[49m\u001B[43mlev\u001B[49m\u001B[43m,\u001B[49m\u001B[43m \u001B[49m\u001B[43mlab\u001B[49m\u001B[43m,\u001B[49m\u001B[43m \u001B[49m\u001B[43mside\u001B[49m\u001B[38;5;241;43m=\u001B[39;49m\u001B[43mside\u001B[49m\u001B[43m)\u001B[49m\n\u001B[0;32m   2696\u001B[0m \u001B[38;5;28;01mexcept\u001B[39;00m \u001B[38;5;167;01mTypeError\u001B[39;00m \u001B[38;5;28;01mas\u001B[39;00m err:\n\u001B[0;32m   2697\u001B[0m     \u001B[38;5;66;03m# non-comparable e.g. test_slice_locs_with_type_mismatch\u001B[39;00m\n",
      "File \u001B[1;32m~\\sktime3.8\\lib\\site-packages\\pandas\\core\\algorithms.py:1348\u001B[0m, in \u001B[0;36msearchsorted\u001B[1;34m(arr, value, side, sorter)\u001B[0m\n\u001B[0;32m   1346\u001B[0m \u001B[38;5;66;03m# Argument 1 to \"searchsorted\" of \"ndarray\" has incompatible type\u001B[39;00m\n\u001B[0;32m   1347\u001B[0m \u001B[38;5;66;03m# \"Union[NumpyValueArrayLike, ExtensionArray]\"; expected \"NumpyValueArrayLike\"\u001B[39;00m\n\u001B[1;32m-> 1348\u001B[0m \u001B[38;5;28;01mreturn\u001B[39;00m \u001B[43marr\u001B[49m\u001B[38;5;241;43m.\u001B[39;49m\u001B[43msearchsorted\u001B[49m\u001B[43m(\u001B[49m\u001B[43mvalue\u001B[49m\u001B[43m,\u001B[49m\u001B[43m \u001B[49m\u001B[43mside\u001B[49m\u001B[38;5;241;43m=\u001B[39;49m\u001B[43mside\u001B[49m\u001B[43m,\u001B[49m\u001B[43m \u001B[49m\u001B[43msorter\u001B[49m\u001B[38;5;241;43m=\u001B[39;49m\u001B[43msorter\u001B[49m\u001B[43m)\u001B[49m\n",
      "File \u001B[1;32m~\\sktime3.8\\lib\\site-packages\\pandas\\core\\indexes\\extension.py:98\u001B[0m, in \u001B[0;36m_inherit_from_data.<locals>.method\u001B[1;34m(self, *args, **kwargs)\u001B[0m\n\u001B[0;32m     97\u001B[0m     \u001B[38;5;28;01mraise\u001B[39;00m \u001B[38;5;167;01mValueError\u001B[39;00m(\u001B[38;5;124mf\u001B[39m\u001B[38;5;124m\"\u001B[39m\u001B[38;5;124mcannot use inplace with \u001B[39m\u001B[38;5;132;01m{\u001B[39;00m\u001B[38;5;28mtype\u001B[39m(\u001B[38;5;28mself\u001B[39m)\u001B[38;5;241m.\u001B[39m\u001B[38;5;18m__name__\u001B[39m\u001B[38;5;132;01m}\u001B[39;00m\u001B[38;5;124m\"\u001B[39m)\n\u001B[1;32m---> 98\u001B[0m result \u001B[38;5;241m=\u001B[39m \u001B[43mattr\u001B[49m\u001B[43m(\u001B[49m\u001B[38;5;28;43mself\u001B[39;49m\u001B[38;5;241;43m.\u001B[39;49m\u001B[43m_data\u001B[49m\u001B[43m,\u001B[49m\u001B[43m \u001B[49m\u001B[38;5;241;43m*\u001B[39;49m\u001B[43margs\u001B[49m\u001B[43m,\u001B[49m\u001B[43m \u001B[49m\u001B[38;5;241;43m*\u001B[39;49m\u001B[38;5;241;43m*\u001B[39;49m\u001B[43mkwargs\u001B[49m\u001B[43m)\u001B[49m\n\u001B[0;32m     99\u001B[0m \u001B[38;5;28;01mif\u001B[39;00m wrap:\n",
      "File \u001B[1;32m~\\sktime3.8\\lib\\site-packages\\pandas\\core\\arrays\\_mixins.py:237\u001B[0m, in \u001B[0;36mNDArrayBackedExtensionArray.searchsorted\u001B[1;34m(self, value, side, sorter)\u001B[0m\n\u001B[0;32m    230\u001B[0m \u001B[38;5;129m@doc\u001B[39m(ExtensionArray\u001B[38;5;241m.\u001B[39msearchsorted)\n\u001B[0;32m    231\u001B[0m \u001B[38;5;28;01mdef\u001B[39;00m \u001B[38;5;21msearchsorted\u001B[39m(\n\u001B[0;32m    232\u001B[0m     \u001B[38;5;28mself\u001B[39m,\n\u001B[1;32m   (...)\u001B[0m\n\u001B[0;32m    235\u001B[0m     sorter: NumpySorter \u001B[38;5;241m=\u001B[39m \u001B[38;5;28;01mNone\u001B[39;00m,\n\u001B[0;32m    236\u001B[0m ) \u001B[38;5;241m-\u001B[39m\u001B[38;5;241m>\u001B[39m npt\u001B[38;5;241m.\u001B[39mNDArray[np\u001B[38;5;241m.\u001B[39mintp] \u001B[38;5;241m|\u001B[39m np\u001B[38;5;241m.\u001B[39mintp:\n\u001B[1;32m--> 237\u001B[0m     npvalue \u001B[38;5;241m=\u001B[39m \u001B[38;5;28;43mself\u001B[39;49m\u001B[38;5;241;43m.\u001B[39;49m\u001B[43m_validate_setitem_value\u001B[49m\u001B[43m(\u001B[49m\u001B[43mvalue\u001B[49m\u001B[43m)\u001B[49m\n\u001B[0;32m    238\u001B[0m     \u001B[38;5;28;01mreturn\u001B[39;00m \u001B[38;5;28mself\u001B[39m\u001B[38;5;241m.\u001B[39m_ndarray\u001B[38;5;241m.\u001B[39msearchsorted(npvalue, side\u001B[38;5;241m=\u001B[39mside, sorter\u001B[38;5;241m=\u001B[39msorter)\n",
      "File \u001B[1;32m~\\sktime3.8\\lib\\site-packages\\pandas\\core\\arrays\\categorical.py:1297\u001B[0m, in \u001B[0;36mCategorical._validate_setitem_value\u001B[1;34m(self, value)\u001B[0m\n\u001B[0;32m   1296\u001B[0m \u001B[38;5;28;01melse\u001B[39;00m:\n\u001B[1;32m-> 1297\u001B[0m     \u001B[38;5;28;01mreturn\u001B[39;00m \u001B[38;5;28;43mself\u001B[39;49m\u001B[38;5;241;43m.\u001B[39;49m\u001B[43m_validate_scalar\u001B[49m\u001B[43m(\u001B[49m\u001B[43mvalue\u001B[49m\u001B[43m)\u001B[49m\n",
      "File \u001B[1;32m~\\sktime3.8\\lib\\site-packages\\pandas\\core\\arrays\\categorical.py:1322\u001B[0m, in \u001B[0;36mCategorical._validate_scalar\u001B[1;34m(self, fill_value)\u001B[0m\n\u001B[0;32m   1321\u001B[0m \u001B[38;5;28;01melse\u001B[39;00m:\n\u001B[1;32m-> 1322\u001B[0m     \u001B[38;5;28;01mraise\u001B[39;00m \u001B[38;5;167;01mTypeError\u001B[39;00m(\n\u001B[0;32m   1323\u001B[0m         \u001B[38;5;124m\"\u001B[39m\u001B[38;5;124mCannot setitem on a Categorical with a new \u001B[39m\u001B[38;5;124m\"\u001B[39m\n\u001B[0;32m   1324\u001B[0m         \u001B[38;5;124mf\u001B[39m\u001B[38;5;124m\"\u001B[39m\u001B[38;5;124mcategory (\u001B[39m\u001B[38;5;132;01m{\u001B[39;00mfill_value\u001B[38;5;132;01m}\u001B[39;00m\u001B[38;5;124m), set the categories first\u001B[39m\u001B[38;5;124m\"\u001B[39m\n\u001B[0;32m   1325\u001B[0m     ) \u001B[38;5;28;01mfrom\u001B[39;00m \u001B[38;5;28;01mNone\u001B[39;00m\n\u001B[0;32m   1326\u001B[0m \u001B[38;5;28;01mreturn\u001B[39;00m fill_value\n",
      "\u001B[1;31mTypeError\u001B[0m: Cannot setitem on a Categorical with a new category (2), set the categories first",
      "\nThe above exception was the direct cause of the following exception:\n",
      "\u001B[1;31mTypeError\u001B[0m                                 Traceback (most recent call last)",
      "File \u001B[1;32m~\\sktime3.8\\lib\\site-packages\\pandas\\core\\indexes\\multi.py:2843\u001B[0m, in \u001B[0;36mMultiIndex.get_loc\u001B[1;34m(self, key)\u001B[0m\n\u001B[0;32m   2842\u001B[0m \u001B[38;5;28;01mtry\u001B[39;00m:\n\u001B[1;32m-> 2843\u001B[0m     start, stop \u001B[38;5;241m=\u001B[39m \u001B[38;5;28;43mself\u001B[39;49m\u001B[38;5;241;43m.\u001B[39;49m\u001B[43mslice_locs\u001B[49m\u001B[43m(\u001B[49m\u001B[43mlead_key\u001B[49m\u001B[43m,\u001B[49m\u001B[43m \u001B[49m\u001B[43mlead_key\u001B[49m\u001B[43m)\u001B[49m\n\u001B[0;32m   2844\u001B[0m \u001B[38;5;28;01mexcept\u001B[39;00m \u001B[38;5;167;01mTypeError\u001B[39;00m \u001B[38;5;28;01mas\u001B[39;00m err:\n\u001B[0;32m   2845\u001B[0m     \u001B[38;5;66;03m# e.g. test_groupby_example key = ((0, 0, 1, 2), \"new_col\")\u001B[39;00m\n\u001B[0;32m   2846\u001B[0m     \u001B[38;5;66;03m#  when self has 5 integer levels\u001B[39;00m\n",
      "File \u001B[1;32m~\\sktime3.8\\lib\\site-packages\\pandas\\core\\indexes\\multi.py:2677\u001B[0m, in \u001B[0;36mMultiIndex.slice_locs\u001B[1;34m(self, start, end, step)\u001B[0m\n\u001B[0;32m   2675\u001B[0m \u001B[38;5;66;03m# This function adds nothing to its parent implementation (the magic\u001B[39;00m\n\u001B[0;32m   2676\u001B[0m \u001B[38;5;66;03m# happens in get_slice_bound method), but it adds meaningful doc.\u001B[39;00m\n\u001B[1;32m-> 2677\u001B[0m \u001B[38;5;28;01mreturn\u001B[39;00m \u001B[38;5;28;43msuper\u001B[39;49m\u001B[43m(\u001B[49m\u001B[43m)\u001B[49m\u001B[38;5;241;43m.\u001B[39;49m\u001B[43mslice_locs\u001B[49m\u001B[43m(\u001B[49m\u001B[43mstart\u001B[49m\u001B[43m,\u001B[49m\u001B[43m \u001B[49m\u001B[43mend\u001B[49m\u001B[43m,\u001B[49m\u001B[43m \u001B[49m\u001B[43mstep\u001B[49m\u001B[43m)\u001B[49m\n",
      "File \u001B[1;32m~\\sktime3.8\\lib\\site-packages\\pandas\\core\\indexes\\base.py:6537\u001B[0m, in \u001B[0;36mIndex.slice_locs\u001B[1;34m(self, start, end, step)\u001B[0m\n\u001B[0;32m   6536\u001B[0m \u001B[38;5;28;01mif\u001B[39;00m start \u001B[38;5;129;01mis\u001B[39;00m \u001B[38;5;129;01mnot\u001B[39;00m \u001B[38;5;28;01mNone\u001B[39;00m:\n\u001B[1;32m-> 6537\u001B[0m     start_slice \u001B[38;5;241m=\u001B[39m \u001B[38;5;28;43mself\u001B[39;49m\u001B[38;5;241;43m.\u001B[39;49m\u001B[43mget_slice_bound\u001B[49m\u001B[43m(\u001B[49m\u001B[43mstart\u001B[49m\u001B[43m,\u001B[49m\u001B[43m \u001B[49m\u001B[38;5;124;43m\"\u001B[39;49m\u001B[38;5;124;43mleft\u001B[39;49m\u001B[38;5;124;43m\"\u001B[39;49m\u001B[43m)\u001B[49m\n\u001B[0;32m   6538\u001B[0m \u001B[38;5;28;01mif\u001B[39;00m start_slice \u001B[38;5;129;01mis\u001B[39;00m \u001B[38;5;28;01mNone\u001B[39;00m:\n",
      "File \u001B[1;32m~\\sktime3.8\\lib\\site-packages\\pandas\\core\\indexes\\multi.py:2621\u001B[0m, in \u001B[0;36mMultiIndex.get_slice_bound\u001B[1;34m(self, label, side)\u001B[0m\n\u001B[0;32m   2620\u001B[0m     label \u001B[38;5;241m=\u001B[39m (label,)\n\u001B[1;32m-> 2621\u001B[0m \u001B[38;5;28;01mreturn\u001B[39;00m \u001B[38;5;28;43mself\u001B[39;49m\u001B[38;5;241;43m.\u001B[39;49m\u001B[43m_partial_tup_index\u001B[49m\u001B[43m(\u001B[49m\u001B[43mlabel\u001B[49m\u001B[43m,\u001B[49m\u001B[43m \u001B[49m\u001B[43mside\u001B[49m\u001B[38;5;241;43m=\u001B[39;49m\u001B[43mside\u001B[49m\u001B[43m)\u001B[49m\n",
      "File \u001B[1;32m~\\sktime3.8\\lib\\site-packages\\pandas\\core\\indexes\\multi.py:2698\u001B[0m, in \u001B[0;36mMultiIndex._partial_tup_index\u001B[1;34m(self, tup, side)\u001B[0m\n\u001B[0;32m   2696\u001B[0m \u001B[38;5;28;01mexcept\u001B[39;00m \u001B[38;5;167;01mTypeError\u001B[39;00m \u001B[38;5;28;01mas\u001B[39;00m err:\n\u001B[0;32m   2697\u001B[0m     \u001B[38;5;66;03m# non-comparable e.g. test_slice_locs_with_type_mismatch\u001B[39;00m\n\u001B[1;32m-> 2698\u001B[0m     \u001B[38;5;28;01mraise\u001B[39;00m \u001B[38;5;167;01mTypeError\u001B[39;00m(\u001B[38;5;124mf\u001B[39m\u001B[38;5;124m\"\u001B[39m\u001B[38;5;124mLevel type mismatch: \u001B[39m\u001B[38;5;132;01m{\u001B[39;00mlab\u001B[38;5;132;01m}\u001B[39;00m\u001B[38;5;124m\"\u001B[39m) \u001B[38;5;28;01mfrom\u001B[39;00m \u001B[38;5;21;01merr\u001B[39;00m\n\u001B[0;32m   2699\u001B[0m \u001B[38;5;28;01mif\u001B[39;00m \u001B[38;5;129;01mnot\u001B[39;00m is_integer(loc):\n\u001B[0;32m   2700\u001B[0m     \u001B[38;5;66;03m# non-comparable level, e.g. test_groupby_example\u001B[39;00m\n",
      "\u001B[1;31mTypeError\u001B[0m: Level type mismatch: 2",
      "\nThe above exception was the direct cause of the following exception:\n",
      "\u001B[1;31mKeyError\u001B[0m                                  Traceback (most recent call last)",
      "Cell \u001B[1;32mIn[37], line 1\u001B[0m\n\u001B[1;32m----> 1\u001B[0m train\u001B[38;5;241m=\u001B[39m\u001B[43mtrain\u001B[49m\u001B[38;5;241;43m.\u001B[39;49m\u001B[43mxs\u001B[49m\u001B[43m(\u001B[49m\u001B[43m(\u001B[49m\u001B[43m[\u001B[49m\u001B[38;5;124;43m\"\u001B[39;49m\u001B[38;5;124;43m1\u001B[39;49m\u001B[38;5;124;43m\"\u001B[39;49m\u001B[43m,\u001B[49m\u001B[38;5;124;43m\"\u001B[39;49m\u001B[38;5;124;43m2\u001B[39;49m\u001B[38;5;124;43m\"\u001B[39;49m\u001B[43m]\u001B[49m\u001B[43m,\u001B[49m\u001B[38;5;124;43m\"\u001B[39;49m\u001B[38;5;124;43mAUTOMOTIVE\u001B[39;49m\u001B[38;5;124;43m\"\u001B[39;49m\u001B[43m)\u001B[49m\u001B[43m,\u001B[49m\u001B[43mlevel\u001B[49m\u001B[38;5;241;43m=\u001B[39;49m\u001B[43m(\u001B[49m\u001B[38;5;124;43m\"\u001B[39;49m\u001B[38;5;124;43mstore_nbr\u001B[39;49m\u001B[38;5;124;43m\"\u001B[39;49m\u001B[43m,\u001B[49m\u001B[38;5;124;43m\"\u001B[39;49m\u001B[38;5;124;43mfamily\u001B[39;49m\u001B[38;5;124;43m\"\u001B[39;49m\u001B[43m)\u001B[49m\u001B[43m)\u001B[49m\n\u001B[0;32m      2\u001B[0m train\n",
      "File \u001B[1;32m~\\sktime3.8\\lib\\site-packages\\pandas\\core\\generic.py:4069\u001B[0m, in \u001B[0;36mNDFrame.xs\u001B[1;34m(self, key, axis, level, drop_level)\u001B[0m\n\u001B[0;32m   4067\u001B[0m \u001B[38;5;28;01mif\u001B[39;00m \u001B[38;5;129;01mnot\u001B[39;00m \u001B[38;5;28misinstance\u001B[39m(labels, MultiIndex):\n\u001B[0;32m   4068\u001B[0m     \u001B[38;5;28;01mraise\u001B[39;00m \u001B[38;5;167;01mTypeError\u001B[39;00m(\u001B[38;5;124m\"\u001B[39m\u001B[38;5;124mIndex must be a MultiIndex\u001B[39m\u001B[38;5;124m\"\u001B[39m)\n\u001B[1;32m-> 4069\u001B[0m loc, new_ax \u001B[38;5;241m=\u001B[39m \u001B[43mlabels\u001B[49m\u001B[38;5;241;43m.\u001B[39;49m\u001B[43mget_loc_level\u001B[49m\u001B[43m(\u001B[49m\u001B[43mkey\u001B[49m\u001B[43m,\u001B[49m\u001B[43m \u001B[49m\u001B[43mlevel\u001B[49m\u001B[38;5;241;43m=\u001B[39;49m\u001B[43mlevel\u001B[49m\u001B[43m,\u001B[49m\u001B[43m \u001B[49m\u001B[43mdrop_level\u001B[49m\u001B[38;5;241;43m=\u001B[39;49m\u001B[43mdrop_level\u001B[49m\u001B[43m)\u001B[49m\n\u001B[0;32m   4071\u001B[0m \u001B[38;5;66;03m# create the tuple of the indexer\u001B[39;00m\n\u001B[0;32m   4072\u001B[0m _indexer \u001B[38;5;241m=\u001B[39m [\u001B[38;5;28mslice\u001B[39m(\u001B[38;5;28;01mNone\u001B[39;00m)] \u001B[38;5;241m*\u001B[39m \u001B[38;5;28mself\u001B[39m\u001B[38;5;241m.\u001B[39mndim\n",
      "File \u001B[1;32m~\\sktime3.8\\lib\\site-packages\\pandas\\core\\indexes\\multi.py:2920\u001B[0m, in \u001B[0;36mMultiIndex.get_loc_level\u001B[1;34m(self, key, level, drop_level)\u001B[0m\n\u001B[0;32m   2917\u001B[0m \u001B[38;5;28;01melse\u001B[39;00m:\n\u001B[0;32m   2918\u001B[0m     level \u001B[38;5;241m=\u001B[39m [\u001B[38;5;28mself\u001B[39m\u001B[38;5;241m.\u001B[39m_get_level_number(lev) \u001B[38;5;28;01mfor\u001B[39;00m lev \u001B[38;5;129;01min\u001B[39;00m level]\n\u001B[1;32m-> 2920\u001B[0m loc, mi \u001B[38;5;241m=\u001B[39m \u001B[38;5;28;43mself\u001B[39;49m\u001B[38;5;241;43m.\u001B[39;49m\u001B[43m_get_loc_level\u001B[49m\u001B[43m(\u001B[49m\u001B[43mkey\u001B[49m\u001B[43m,\u001B[49m\u001B[43m \u001B[49m\u001B[43mlevel\u001B[49m\u001B[38;5;241;43m=\u001B[39;49m\u001B[43mlevel\u001B[49m\u001B[43m)\u001B[49m\n\u001B[0;32m   2921\u001B[0m \u001B[38;5;28;01mif\u001B[39;00m \u001B[38;5;129;01mnot\u001B[39;00m drop_level:\n\u001B[0;32m   2922\u001B[0m     \u001B[38;5;28;01mif\u001B[39;00m lib\u001B[38;5;241m.\u001B[39mis_integer(loc):\n",
      "File \u001B[1;32m~\\sktime3.8\\lib\\site-packages\\pandas\\core\\indexes\\multi.py:2953\u001B[0m, in \u001B[0;36mMultiIndex._get_loc_level\u001B[1;34m(self, key, level)\u001B[0m\n\u001B[0;32m   2951\u001B[0m result \u001B[38;5;241m=\u001B[39m \u001B[38;5;28;01mNone\u001B[39;00m\n\u001B[0;32m   2952\u001B[0m \u001B[38;5;28;01mfor\u001B[39;00m lev, k \u001B[38;5;129;01min\u001B[39;00m \u001B[38;5;28mzip\u001B[39m(level, key):\n\u001B[1;32m-> 2953\u001B[0m     loc, new_index \u001B[38;5;241m=\u001B[39m \u001B[38;5;28;43mself\u001B[39;49m\u001B[38;5;241;43m.\u001B[39;49m\u001B[43m_get_loc_level\u001B[49m\u001B[43m(\u001B[49m\u001B[43mk\u001B[49m\u001B[43m,\u001B[49m\u001B[43m \u001B[49m\u001B[43mlevel\u001B[49m\u001B[38;5;241;43m=\u001B[39;49m\u001B[43mlev\u001B[49m\u001B[43m)\u001B[49m\n\u001B[0;32m   2954\u001B[0m     \u001B[38;5;28;01mif\u001B[39;00m \u001B[38;5;28misinstance\u001B[39m(loc, \u001B[38;5;28mslice\u001B[39m):\n\u001B[0;32m   2955\u001B[0m         mask \u001B[38;5;241m=\u001B[39m np\u001B[38;5;241m.\u001B[39mzeros(\u001B[38;5;28mlen\u001B[39m(\u001B[38;5;28mself\u001B[39m), dtype\u001B[38;5;241m=\u001B[39m\u001B[38;5;28mbool\u001B[39m)\n",
      "File \u001B[1;32m~\\sktime3.8\\lib\\site-packages\\pandas\\core\\indexes\\multi.py:2998\u001B[0m, in \u001B[0;36mMultiIndex._get_loc_level\u001B[1;34m(self, key, level)\u001B[0m\n\u001B[0;32m   2995\u001B[0m         \u001B[38;5;28;01mpass\u001B[39;00m\n\u001B[0;32m   2997\u001B[0m \u001B[38;5;66;03m# partial selection\u001B[39;00m\n\u001B[1;32m-> 2998\u001B[0m indexer \u001B[38;5;241m=\u001B[39m \u001B[38;5;28;43mself\u001B[39;49m\u001B[38;5;241;43m.\u001B[39;49m\u001B[43mget_loc\u001B[49m\u001B[43m(\u001B[49m\u001B[43mkey\u001B[49m\u001B[43m)\u001B[49m\n\u001B[0;32m   2999\u001B[0m ilevels \u001B[38;5;241m=\u001B[39m [i \u001B[38;5;28;01mfor\u001B[39;00m i \u001B[38;5;129;01min\u001B[39;00m \u001B[38;5;28mrange\u001B[39m(\u001B[38;5;28mlen\u001B[39m(key)) \u001B[38;5;28;01mif\u001B[39;00m key[i] \u001B[38;5;241m!=\u001B[39m \u001B[38;5;28mslice\u001B[39m(\u001B[38;5;28;01mNone\u001B[39;00m, \u001B[38;5;28;01mNone\u001B[39;00m)]\n\u001B[0;32m   3000\u001B[0m \u001B[38;5;28;01mif\u001B[39;00m \u001B[38;5;28mlen\u001B[39m(ilevels) \u001B[38;5;241m==\u001B[39m \u001B[38;5;28mself\u001B[39m\u001B[38;5;241m.\u001B[39mnlevels:\n",
      "File \u001B[1;32m~\\sktime3.8\\lib\\site-packages\\pandas\\core\\indexes\\multi.py:2847\u001B[0m, in \u001B[0;36mMultiIndex.get_loc\u001B[1;34m(self, key)\u001B[0m\n\u001B[0;32m   2843\u001B[0m         start, stop \u001B[38;5;241m=\u001B[39m \u001B[38;5;28mself\u001B[39m\u001B[38;5;241m.\u001B[39mslice_locs(lead_key, lead_key)\n\u001B[0;32m   2844\u001B[0m     \u001B[38;5;28;01mexcept\u001B[39;00m \u001B[38;5;167;01mTypeError\u001B[39;00m \u001B[38;5;28;01mas\u001B[39;00m err:\n\u001B[0;32m   2845\u001B[0m         \u001B[38;5;66;03m# e.g. test_groupby_example key = ((0, 0, 1, 2), \"new_col\")\u001B[39;00m\n\u001B[0;32m   2846\u001B[0m         \u001B[38;5;66;03m#  when self has 5 integer levels\u001B[39;00m\n\u001B[1;32m-> 2847\u001B[0m         \u001B[38;5;28;01mraise\u001B[39;00m \u001B[38;5;167;01mKeyError\u001B[39;00m(key) \u001B[38;5;28;01mfrom\u001B[39;00m \u001B[38;5;21;01merr\u001B[39;00m\n\u001B[0;32m   2849\u001B[0m \u001B[38;5;28;01mif\u001B[39;00m start \u001B[38;5;241m==\u001B[39m stop:\n\u001B[0;32m   2850\u001B[0m     \u001B[38;5;28;01mraise\u001B[39;00m \u001B[38;5;167;01mKeyError\u001B[39;00m(key)\n",
      "\u001B[1;31mKeyError\u001B[0m: ('1', '2')"
     ]
    }
   ],
   "source": [
    "train=train.xs(([\"1\",\"2\"],\"AUTOMOTIVE\"),level=(\"store_nbr\",\"family\"))\n",
    "train"
   ],
   "metadata": {
    "collapsed": false,
    "ExecuteTime": {
     "end_time": "2024-06-10T18:28:40.502304300Z",
     "start_time": "2024-06-10T18:28:40.377405600Z"
    }
   },
   "id": "edc22e2abfc5af8d"
  },
  {
   "cell_type": "code",
   "execution_count": 43,
   "outputs": [
    {
     "data": {
      "text/plain": "MultiIndex([('1', 'AUTOMOTIVE', '2013-01-01'),\n            ('1', 'AUTOMOTIVE', '2013-01-02'),\n            ('1', 'AUTOMOTIVE', '2013-01-03'),\n            ('1', 'AUTOMOTIVE', '2013-01-04'),\n            ('1', 'AUTOMOTIVE', '2013-01-05'),\n            ('1', 'AUTOMOTIVE', '2013-01-06'),\n            ('1', 'AUTOMOTIVE', '2013-01-07'),\n            ('1', 'AUTOMOTIVE', '2013-01-08'),\n            ('1', 'AUTOMOTIVE', '2013-01-09'),\n            ('1', 'AUTOMOTIVE', '2013-01-10'),\n            ...\n            ('2',    'SEAFOOD', '2017-08-06'),\n            ('2',    'SEAFOOD', '2017-08-07'),\n            ('2',    'SEAFOOD', '2017-08-08'),\n            ('2',    'SEAFOOD', '2017-08-09'),\n            ('2',    'SEAFOOD', '2017-08-10'),\n            ('2',    'SEAFOOD', '2017-08-11'),\n            ('2',    'SEAFOOD', '2017-08-12'),\n            ('2',    'SEAFOOD', '2017-08-13'),\n            ('2',    'SEAFOOD', '2017-08-14'),\n            ('2',    'SEAFOOD', '2017-08-15')],\n           names=['store_nbr', 'family', 'date'], length=111144)"
     },
     "execution_count": 43,
     "metadata": {},
     "output_type": "execute_result"
    }
   ],
   "source": [
    "m1 = train.index.get_level_values(0).isin([\"1\",\"2\"])\n",
    "m2 = train.index.get_level_values(1).isin([\"AUTOMOTIVE\"])\n",
    "train = train[m1 | m2]\n",
    "train.index"
   ],
   "metadata": {
    "collapsed": false,
    "ExecuteTime": {
     "end_time": "2024-06-10T18:32:29.504716800Z",
     "start_time": "2024-06-10T18:32:29.493719Z"
    }
   },
   "id": "a06b4626cbaee0de"
  },
  {
   "cell_type": "code",
   "execution_count": 23,
   "outputs": [
    {
     "ename": "InvalidIndexError",
     "evalue": "(array([ True,  True,  True, ..., False, False, False]), array([False, False, False, ..., False, False, False]))",
     "output_type": "error",
     "traceback": [
      "\u001B[1;31m---------------------------------------------------------------------------\u001B[0m",
      "\u001B[1;31mTypeError\u001B[0m                                 Traceback (most recent call last)",
      "File \u001B[1;32m~\\sktime3.8\\lib\\site-packages\\pandas\\core\\indexes\\base.py:3653\u001B[0m, in \u001B[0;36mIndex.get_loc\u001B[1;34m(self, key)\u001B[0m\n\u001B[0;32m   3652\u001B[0m \u001B[38;5;28;01mtry\u001B[39;00m:\n\u001B[1;32m-> 3653\u001B[0m     \u001B[38;5;28;01mreturn\u001B[39;00m \u001B[38;5;28;43mself\u001B[39;49m\u001B[38;5;241;43m.\u001B[39;49m\u001B[43m_engine\u001B[49m\u001B[38;5;241;43m.\u001B[39;49m\u001B[43mget_loc\u001B[49m\u001B[43m(\u001B[49m\u001B[43mcasted_key\u001B[49m\u001B[43m)\u001B[49m\n\u001B[0;32m   3654\u001B[0m \u001B[38;5;28;01mexcept\u001B[39;00m \u001B[38;5;167;01mKeyError\u001B[39;00m \u001B[38;5;28;01mas\u001B[39;00m err:\n",
      "File \u001B[1;32m~\\sktime3.8\\lib\\site-packages\\pandas\\_libs\\index.pyx:147\u001B[0m, in \u001B[0;36mpandas._libs.index.IndexEngine.get_loc\u001B[1;34m()\u001B[0m\n",
      "File \u001B[1;32m~\\sktime3.8\\lib\\site-packages\\pandas\\_libs\\index.pyx:153\u001B[0m, in \u001B[0;36mpandas._libs.index.IndexEngine.get_loc\u001B[1;34m()\u001B[0m\n",
      "\u001B[1;31mTypeError\u001B[0m: '(array([ True,  True,  True, ..., False, False, False]), array([False, False, False, ..., False, False, False]))' is an invalid key",
      "\nDuring handling of the above exception, another exception occurred:\n",
      "\u001B[1;31mInvalidIndexError\u001B[0m                         Traceback (most recent call last)",
      "Cell \u001B[1;32mIn[23], line 1\u001B[0m\n\u001B[1;32m----> 1\u001B[0m train \u001B[38;5;241m=\u001B[39m \u001B[43mtrain\u001B[49m\u001B[43m[\u001B[49m\u001B[43mnp\u001B[49m\u001B[38;5;241;43m.\u001B[39;49m\u001B[43min1d\u001B[49m\u001B[43m(\u001B[49m\u001B[43mtrain\u001B[49m\u001B[38;5;241;43m.\u001B[39;49m\u001B[43mindex\u001B[49m\u001B[38;5;241;43m.\u001B[39;49m\u001B[43mget_level_values\u001B[49m\u001B[43m(\u001B[49m\u001B[38;5;241;43m0\u001B[39;49m\u001B[43m)\u001B[49m\u001B[43m,\u001B[49m\u001B[43m[\u001B[49m\u001B[38;5;124;43m\"\u001B[39;49m\u001B[38;5;124;43m1\u001B[39;49m\u001B[38;5;124;43m\"\u001B[39;49m\u001B[43m,\u001B[49m\u001B[38;5;124;43m\"\u001B[39;49m\u001B[38;5;124;43m2\u001B[39;49m\u001B[38;5;124;43m\"\u001B[39;49m\u001B[43m]\u001B[49m\u001B[43m)\u001B[49m\u001B[43m,\u001B[49m\u001B[43mnp\u001B[49m\u001B[38;5;241;43m.\u001B[39;49m\u001B[43min1d\u001B[49m\u001B[43m(\u001B[49m\u001B[43mtrain\u001B[49m\u001B[38;5;241;43m.\u001B[39;49m\u001B[43mindex\u001B[49m\u001B[38;5;241;43m.\u001B[39;49m\u001B[43mget_level_values\u001B[49m\u001B[43m(\u001B[49m\u001B[38;5;241;43m1\u001B[39;49m\u001B[43m)\u001B[49m\u001B[43m,\u001B[49m\u001B[43m[\u001B[49m\u001B[38;5;124;43m\"\u001B[39;49m\u001B[38;5;124;43mAUTOMATIVE\u001B[39;49m\u001B[38;5;124;43m\"\u001B[39;49m\u001B[43m]\u001B[49m\u001B[43m)\u001B[49m\u001B[43m]\u001B[49m\n\u001B[0;32m      2\u001B[0m train\n",
      "File \u001B[1;32m~\\sktime3.8\\lib\\site-packages\\pandas\\core\\frame.py:3761\u001B[0m, in \u001B[0;36mDataFrame.__getitem__\u001B[1;34m(self, key)\u001B[0m\n\u001B[0;32m   3759\u001B[0m \u001B[38;5;28;01mif\u001B[39;00m \u001B[38;5;28mself\u001B[39m\u001B[38;5;241m.\u001B[39mcolumns\u001B[38;5;241m.\u001B[39mnlevels \u001B[38;5;241m>\u001B[39m \u001B[38;5;241m1\u001B[39m:\n\u001B[0;32m   3760\u001B[0m     \u001B[38;5;28;01mreturn\u001B[39;00m \u001B[38;5;28mself\u001B[39m\u001B[38;5;241m.\u001B[39m_getitem_multilevel(key)\n\u001B[1;32m-> 3761\u001B[0m indexer \u001B[38;5;241m=\u001B[39m \u001B[38;5;28;43mself\u001B[39;49m\u001B[38;5;241;43m.\u001B[39;49m\u001B[43mcolumns\u001B[49m\u001B[38;5;241;43m.\u001B[39;49m\u001B[43mget_loc\u001B[49m\u001B[43m(\u001B[49m\u001B[43mkey\u001B[49m\u001B[43m)\u001B[49m\n\u001B[0;32m   3762\u001B[0m \u001B[38;5;28;01mif\u001B[39;00m is_integer(indexer):\n\u001B[0;32m   3763\u001B[0m     indexer \u001B[38;5;241m=\u001B[39m [indexer]\n",
      "File \u001B[1;32m~\\sktime3.8\\lib\\site-packages\\pandas\\core\\indexes\\base.py:3660\u001B[0m, in \u001B[0;36mIndex.get_loc\u001B[1;34m(self, key)\u001B[0m\n\u001B[0;32m   3655\u001B[0m     \u001B[38;5;28;01mraise\u001B[39;00m \u001B[38;5;167;01mKeyError\u001B[39;00m(key) \u001B[38;5;28;01mfrom\u001B[39;00m \u001B[38;5;21;01merr\u001B[39;00m\n\u001B[0;32m   3656\u001B[0m \u001B[38;5;28;01mexcept\u001B[39;00m \u001B[38;5;167;01mTypeError\u001B[39;00m:\n\u001B[0;32m   3657\u001B[0m     \u001B[38;5;66;03m# If we have a listlike key, _check_indexing_error will raise\u001B[39;00m\n\u001B[0;32m   3658\u001B[0m     \u001B[38;5;66;03m#  InvalidIndexError. Otherwise we fall through and re-raise\u001B[39;00m\n\u001B[0;32m   3659\u001B[0m     \u001B[38;5;66;03m#  the TypeError.\u001B[39;00m\n\u001B[1;32m-> 3660\u001B[0m     \u001B[38;5;28;43mself\u001B[39;49m\u001B[38;5;241;43m.\u001B[39;49m\u001B[43m_check_indexing_error\u001B[49m\u001B[43m(\u001B[49m\u001B[43mkey\u001B[49m\u001B[43m)\u001B[49m\n\u001B[0;32m   3661\u001B[0m     \u001B[38;5;28;01mraise\u001B[39;00m\n",
      "File \u001B[1;32m~\\sktime3.8\\lib\\site-packages\\pandas\\core\\indexes\\base.py:5737\u001B[0m, in \u001B[0;36mIndex._check_indexing_error\u001B[1;34m(self, key)\u001B[0m\n\u001B[0;32m   5733\u001B[0m \u001B[38;5;28;01mdef\u001B[39;00m \u001B[38;5;21m_check_indexing_error\u001B[39m(\u001B[38;5;28mself\u001B[39m, key):\n\u001B[0;32m   5734\u001B[0m     \u001B[38;5;28;01mif\u001B[39;00m \u001B[38;5;129;01mnot\u001B[39;00m is_scalar(key):\n\u001B[0;32m   5735\u001B[0m         \u001B[38;5;66;03m# if key is not a scalar, directly raise an error (the code below\u001B[39;00m\n\u001B[0;32m   5736\u001B[0m         \u001B[38;5;66;03m# would convert to numpy arrays and raise later any way) - GH29926\u001B[39;00m\n\u001B[1;32m-> 5737\u001B[0m         \u001B[38;5;28;01mraise\u001B[39;00m InvalidIndexError(key)\n",
      "\u001B[1;31mInvalidIndexError\u001B[0m: (array([ True,  True,  True, ..., False, False, False]), array([False, False, False, ..., False, False, False]))"
     ]
    }
   ],
   "source": [
    "train = train[np.in1d(train.index.get_level_values(0)==[\"1\",\"2\"])]\n",
    "train"
   ],
   "metadata": {
    "collapsed": false,
    "ExecuteTime": {
     "end_time": "2024-06-10T17:37:23.162348400Z",
     "start_time": "2024-06-10T17:37:22.813805100Z"
    }
   },
   "id": "fe8474cbaf4a836"
  },
  {
   "cell_type": "code",
   "execution_count": 21,
   "outputs": [
    {
     "data": {
      "text/plain": "Empty DataFrame\nColumns: [sales, onpromotion]\nIndex: []",
      "text/html": "<div>\n<style scoped>\n    .dataframe tbody tr th:only-of-type {\n        vertical-align: middle;\n    }\n\n    .dataframe tbody tr th {\n        vertical-align: top;\n    }\n\n    .dataframe thead th {\n        text-align: right;\n    }\n</style>\n<table border=\"1\" class=\"dataframe\">\n  <thead>\n    <tr style=\"text-align: right;\">\n      <th></th>\n      <th></th>\n      <th></th>\n      <th>sales</th>\n      <th>onpromotion</th>\n    </tr>\n    <tr>\n      <th>store_nbr</th>\n      <th>family</th>\n      <th>date</th>\n      <th></th>\n      <th></th>\n    </tr>\n  </thead>\n  <tbody>\n  </tbody>\n</table>\n</div>"
     },
     "execution_count": 21,
     "metadata": {},
     "output_type": "execute_result"
    }
   ],
   "source": [],
   "metadata": {
    "collapsed": false,
    "ExecuteTime": {
     "end_time": "2024-06-10T17:36:35.939235500Z",
     "start_time": "2024-06-10T17:36:35.910686Z"
    }
   },
   "id": "e56f4544c8b7ae5c"
  },
  {
   "cell_type": "code",
   "execution_count": 13,
   "outputs": [
    {
     "data": {
      "text/plain": "Empty DataFrame\nColumns: [sales, onpromotion]\nIndex: []",
      "text/html": "<div>\n<style scoped>\n    .dataframe tbody tr th:only-of-type {\n        vertical-align: middle;\n    }\n\n    .dataframe tbody tr th {\n        vertical-align: top;\n    }\n\n    .dataframe thead th {\n        text-align: right;\n    }\n</style>\n<table border=\"1\" class=\"dataframe\">\n  <thead>\n    <tr style=\"text-align: right;\">\n      <th></th>\n      <th></th>\n      <th></th>\n      <th>sales</th>\n      <th>onpromotion</th>\n    </tr>\n    <tr>\n      <th>store_nbr</th>\n      <th>family</th>\n      <th>date</th>\n      <th></th>\n      <th></th>\n    </tr>\n  </thead>\n  <tbody>\n  </tbody>\n</table>\n</div>"
     },
     "execution_count": 13,
     "metadata": {},
     "output_type": "execute_result"
    }
   ],
   "source": [
    "train = train[np.in1d(train.index.get_level_values(0),[\"1\"])]\n",
    "train"
   ],
   "metadata": {
    "collapsed": false,
    "ExecuteTime": {
     "end_time": "2024-06-10T17:31:24.405353100Z",
     "start_time": "2024-06-10T17:31:24.379224700Z"
    }
   },
   "id": "4c2a47728c2440b3"
  },
  {
   "cell_type": "code",
   "execution_count": 70,
   "id": "23b3122d-764a-427e-a616-636112091d83",
   "metadata": {
    "scrolled": true
   },
   "outputs": [
    {
     "data": {
      "text/html": [
       "<div>\n",
       "<style scoped>\n",
       "    .dataframe tbody tr th:only-of-type {\n",
       "        vertical-align: middle;\n",
       "    }\n",
       "\n",
       "    .dataframe tbody tr th {\n",
       "        vertical-align: top;\n",
       "    }\n",
       "\n",
       "    .dataframe thead th {\n",
       "        text-align: right;\n",
       "    }\n",
       "</style>\n",
       "<table border=\"1\" class=\"dataframe\">\n",
       "  <thead>\n",
       "    <tr style=\"text-align: right;\">\n",
       "      <th></th>\n",
       "      <th></th>\n",
       "      <th></th>\n",
       "      <th>id</th>\n",
       "      <th>onpromotion</th>\n",
       "    </tr>\n",
       "    <tr>\n",
       "      <th>store_nbr</th>\n",
       "      <th>family</th>\n",
       "      <th>date</th>\n",
       "      <th></th>\n",
       "      <th></th>\n",
       "    </tr>\n",
       "  </thead>\n",
       "  <tbody>\n",
       "    <tr>\n",
       "      <th rowspan=\"5\" valign=\"top\">1</th>\n",
       "      <th rowspan=\"5\" valign=\"top\">AUTOMOTIVE</th>\n",
       "      <th>2017-08-16</th>\n",
       "      <td>3000888</td>\n",
       "      <td>0</td>\n",
       "    </tr>\n",
       "    <tr>\n",
       "      <th>2017-08-17</th>\n",
       "      <td>3002670</td>\n",
       "      <td>0</td>\n",
       "    </tr>\n",
       "    <tr>\n",
       "      <th>2017-08-18</th>\n",
       "      <td>3004452</td>\n",
       "      <td>0</td>\n",
       "    </tr>\n",
       "    <tr>\n",
       "      <th>2017-08-19</th>\n",
       "      <td>3006234</td>\n",
       "      <td>0</td>\n",
       "    </tr>\n",
       "    <tr>\n",
       "      <th>2017-08-20</th>\n",
       "      <td>3008016</td>\n",
       "      <td>0</td>\n",
       "    </tr>\n",
       "    <tr>\n",
       "      <th>...</th>\n",
       "      <th>...</th>\n",
       "      <th>...</th>\n",
       "      <td>...</td>\n",
       "      <td>...</td>\n",
       "    </tr>\n",
       "    <tr>\n",
       "      <th rowspan=\"5\" valign=\"top\">2</th>\n",
       "      <th rowspan=\"5\" valign=\"top\">SEAFOOD</th>\n",
       "      <th>2017-08-27</th>\n",
       "      <td>3020885</td>\n",
       "      <td>1</td>\n",
       "    </tr>\n",
       "    <tr>\n",
       "      <th>2017-08-28</th>\n",
       "      <td>3022667</td>\n",
       "      <td>0</td>\n",
       "    </tr>\n",
       "    <tr>\n",
       "      <th>2017-08-29</th>\n",
       "      <td>3024449</td>\n",
       "      <td>1</td>\n",
       "    </tr>\n",
       "    <tr>\n",
       "      <th>2017-08-30</th>\n",
       "      <td>3026231</td>\n",
       "      <td>1</td>\n",
       "    </tr>\n",
       "    <tr>\n",
       "      <th>2017-08-31</th>\n",
       "      <td>3028013</td>\n",
       "      <td>0</td>\n",
       "    </tr>\n",
       "  </tbody>\n",
       "</table>\n",
       "<p>1056 rows × 2 columns</p>\n",
       "</div>"
      ],
      "text/plain": [
       "                                      id  onpromotion\n",
       "store_nbr family     date                            \n",
       "1         AUTOMOTIVE 2017-08-16  3000888            0\n",
       "                     2017-08-17  3002670            0\n",
       "                     2017-08-18  3004452            0\n",
       "                     2017-08-19  3006234            0\n",
       "                     2017-08-20  3008016            0\n",
       "...                                  ...          ...\n",
       "2         SEAFOOD    2017-08-27  3020885            1\n",
       "                     2017-08-28  3022667            0\n",
       "                     2017-08-29  3024449            1\n",
       "                     2017-08-30  3026231            1\n",
       "                     2017-08-31  3028013            0\n",
       "\n",
       "[1056 rows x 2 columns]"
      ]
     },
     "execution_count": 70,
     "metadata": {},
     "output_type": "execute_result"
    }
   ],
   "source": [
    "test = pd.read_csv(dataset_dir/'test.csv',\n",
    "    dtype={\n",
    "        'store_nbr': 'category',\n",
    "        'family': 'category',\n",
    "        'onpromotion': 'uint32',\n",
    "    },\n",
    "    parse_dates=['date'],\n",
    "    infer_datetime_format=True,\n",
    ")\n",
    "test['date'] = test.date.dt.to_period('D')\n",
    "test = test.set_index(['store_nbr','family','date']).sort_index()\n",
    "test = test[test.index.isin(store_nbr_list)]\n",
    "test"
   ]
  },
  {
   "cell_type": "code",
   "execution_count": 96,
   "id": "2647837c-9e21-447a-8ffa-1708815340bf",
   "metadata": {},
   "outputs": [
    {
     "name": "stdout",
     "output_type": "stream",
     "text": [
      "                                      id  onpromotion\n",
      "store_nbr family     date                            \n",
      "1         AUTOMOTIVE 2017-08-16  3000888            0\n",
      "                     2017-08-17  3002670            0\n",
      "                     2017-08-18  3004452            0\n",
      "                     2017-08-19  3006234            0\n",
      "                     2017-08-20  3008016            0\n",
      "...                                  ...          ...\n",
      "          SEAFOOD    2017-08-27  3020522            0\n",
      "                     2017-08-28  3022304            1\n",
      "                     2017-08-29  3024086            0\n",
      "                     2017-08-30  3025868            1\n",
      "                     2017-08-31  3027650            0\n",
      "\n",
      "[528 rows x 2 columns]\n",
      "                                      id  onpromotion\n",
      "store_nbr family     date                            \n",
      "2         AUTOMOTIVE 2017-08-16  3001251            0\n",
      "                     2017-08-17  3003033            0\n",
      "                     2017-08-18  3004815            0\n",
      "                     2017-08-19  3006597            0\n",
      "                     2017-08-20  3008379            0\n",
      "...                                  ...          ...\n",
      "          SEAFOOD    2017-08-27  3020885            1\n",
      "                     2017-08-28  3022667            0\n",
      "                     2017-08-29  3024449            1\n",
      "                     2017-08-30  3026231            1\n",
      "                     2017-08-31  3028013            0\n",
      "\n",
      "[528 rows x 2 columns]\n"
     ]
    }
   ],
   "source": [
    "df_test = pd.DataFrame([])\n",
    "for store_nbr in store_nbr_list:\n",
    "    df = test[test.index.isin([store_nbr])]\n",
    "    "
   ]
  },
  {
   "cell_type": "code",
   "execution_count": null,
   "id": "e99ede83-6be6-4fac-a02b-39b606f11c1a",
   "metadata": {},
   "outputs": [],
   "source": [
    "def split():\n",
    "    "
   ]
  },
  {
   "cell_type": "code",
   "execution_count": null,
   "id": "2ca70eb3-aea7-4ca6-a313-66e1758c70f5",
   "metadata": {},
   "outputs": [],
   "source": [
    "class MODELS:\n",
    "    def __init__(model_name):\n",
    "        pass\n",
    "        "
   ]
  },
  {
   "cell_type": "code",
   "execution_count": 75,
   "id": "f5b12323-ce8d-4125-9090-bcaeaf5e8922",
   "metadata": {},
   "outputs": [],
   "source": [
    "from sktime.forecasting.exp_smoothing import ExponentialSmoothing\n",
    "from sktime.forecasting.sarimax import SARIMAX\n",
    "from sktime.forecasting.arima import AutoARIMA\n",
    "from sktime.split import temporal_train_test_split\n",
    "from sktime.forecasting.base import ForecastingHorizon"
   ]
  },
  {
   "cell_type": "code",
   "execution_count": 86,
   "id": "171d733f-8db9-47de-bcb8-3868ee7964be",
   "metadata": {},
   "outputs": [
    {
     "data": {
      "text/plain": [
       "ForecastingHorizon(['2017-08-16', '2017-08-17', '2017-08-18', '2017-08-19',\n",
       "             '2017-08-20', '2017-08-21', '2017-08-22', '2017-08-23',\n",
       "             '2017-08-24', '2017-08-25', '2017-08-26', '2017-08-27',\n",
       "             '2017-08-28', '2017-08-29', '2017-08-30'],\n",
       "            dtype='period[D]', is_relative=False)"
      ]
     },
     "execution_count": 86,
     "metadata": {},
     "output_type": "execute_result"
    }
   ],
   "source": [
    "fh = ForecastingHorizon(\n",
    "    pd.PeriodIndex(pd.date_range('2017-08-16', periods=15, freq=\"D\")), is_relative=False\n",
    ")\n",
    "fh"
   ]
  },
  {
   "cell_type": "code",
   "execution_count": 88,
   "id": "f29dd1d6-1f56-4d97-9bde-de9c7c6eca8c",
   "metadata": {},
   "outputs": [
    {
     "data": {
      "text/plain": [
       "ForecastingHorizon([1, 2, 3, 4, 5, 6, 7, 8, 9, 10, 11, 12, 13, 14, 15], dtype='int32', is_relative=True)"
      ]
     },
     "execution_count": 88,
     "metadata": {},
     "output_type": "execute_result"
    }
   ],
   "source": [
    "fh2 = ForecastingHorizon(np.arange(1,16))\n",
    "fh2"
   ]
  },
  {
   "cell_type": "code",
   "execution_count": 90,
   "id": "8534a9b2-225f-4126-b3da-49b3734c1764",
   "metadata": {},
   "outputs": [
    {
     "name": "stderr",
     "output_type": "stream",
     "text": [
      "C:\\Users\\takyol\\Desktop\\kaggle_projects\\store_sales\\.venv\\lib\\site-packages\\statsmodels\\tsa\\holtwinters\\model.py:918: ConvergenceWarning: Optimization failed to converge. Check mle_retvals.\n",
      "  warnings.warn(\n",
      "C:\\Users\\takyol\\Desktop\\kaggle_projects\\store_sales\\.venv\\lib\\site-packages\\statsmodels\\tsa\\holtwinters\\model.py:918: ConvergenceWarning: Optimization failed to converge. Check mle_retvals.\n",
      "  warnings.warn(\n",
      "C:\\Users\\takyol\\Desktop\\kaggle_projects\\store_sales\\.venv\\lib\\site-packages\\statsmodels\\tsa\\holtwinters\\model.py:918: ConvergenceWarning: Optimization failed to converge. Check mle_retvals.\n",
      "  warnings.warn(\n",
      "C:\\Users\\takyol\\Desktop\\kaggle_projects\\store_sales\\.venv\\lib\\site-packages\\statsmodels\\tsa\\holtwinters\\model.py:918: ConvergenceWarning: Optimization failed to converge. Check mle_retvals.\n",
      "  warnings.warn(\n",
      "C:\\Users\\takyol\\Desktop\\kaggle_projects\\store_sales\\.venv\\lib\\site-packages\\statsmodels\\tsa\\holtwinters\\model.py:918: ConvergenceWarning: Optimization failed to converge. Check mle_retvals.\n",
      "  warnings.warn(\n",
      "C:\\Users\\takyol\\Desktop\\kaggle_projects\\store_sales\\.venv\\lib\\site-packages\\statsmodels\\tsa\\holtwinters\\model.py:918: ConvergenceWarning: Optimization failed to converge. Check mle_retvals.\n",
      "  warnings.warn(\n",
      "C:\\Users\\takyol\\Desktop\\kaggle_projects\\store_sales\\.venv\\lib\\site-packages\\statsmodels\\tsa\\holtwinters\\model.py:918: ConvergenceWarning: Optimization failed to converge. Check mle_retvals.\n",
      "  warnings.warn(\n",
      "C:\\Users\\takyol\\Desktop\\kaggle_projects\\store_sales\\.venv\\lib\\site-packages\\statsmodels\\tsa\\holtwinters\\model.py:918: ConvergenceWarning: Optimization failed to converge. Check mle_retvals.\n",
      "  warnings.warn(\n",
      "C:\\Users\\takyol\\Desktop\\kaggle_projects\\store_sales\\.venv\\lib\\site-packages\\statsmodels\\tsa\\holtwinters\\model.py:918: ConvergenceWarning: Optimization failed to converge. Check mle_retvals.\n",
      "  warnings.warn(\n",
      "C:\\Users\\takyol\\Desktop\\kaggle_projects\\store_sales\\.venv\\lib\\site-packages\\statsmodels\\tsa\\holtwinters\\model.py:918: ConvergenceWarning: Optimization failed to converge. Check mle_retvals.\n",
      "  warnings.warn(\n"
     ]
    },
    {
     "data": {
      "text/html": [
       "<style>#sk-cea12da8-53f5-412f-8784-012264f3827c {color: black;background-color: white;}#sk-cea12da8-53f5-412f-8784-012264f3827c pre{padding: 0;}#sk-cea12da8-53f5-412f-8784-012264f3827c div.sk-toggleable {background-color: white;}#sk-cea12da8-53f5-412f-8784-012264f3827c label.sk-toggleable__label {cursor: pointer;display: block;width: 100%;margin-bottom: 0;padding: 0.3em;box-sizing: border-box;text-align: center;}#sk-cea12da8-53f5-412f-8784-012264f3827c label.sk-toggleable__label-arrow:before {content: \"▸\";float: left;margin-right: 0.25em;color: #696969;}#sk-cea12da8-53f5-412f-8784-012264f3827c label.sk-toggleable__label-arrow:hover:before {color: black;}#sk-cea12da8-53f5-412f-8784-012264f3827c div.sk-estimator:hover label.sk-toggleable__label-arrow:before {color: black;}#sk-cea12da8-53f5-412f-8784-012264f3827c div.sk-toggleable__content {max-height: 0;max-width: 0;overflow: hidden;text-align: left;background-color: #f0f8ff;}#sk-cea12da8-53f5-412f-8784-012264f3827c div.sk-toggleable__content pre {margin: 0.2em;color: black;border-radius: 0.25em;background-color: #f0f8ff;}#sk-cea12da8-53f5-412f-8784-012264f3827c input.sk-toggleable__control:checked~div.sk-toggleable__content {max-height: 200px;max-width: 100%;overflow: auto;}#sk-cea12da8-53f5-412f-8784-012264f3827c input.sk-toggleable__control:checked~label.sk-toggleable__label-arrow:before {content: \"▾\";}#sk-cea12da8-53f5-412f-8784-012264f3827c div.sk-estimator input.sk-toggleable__control:checked~label.sk-toggleable__label {background-color: #d4ebff;}#sk-cea12da8-53f5-412f-8784-012264f3827c div.sk-label input.sk-toggleable__control:checked~label.sk-toggleable__label {background-color: #d4ebff;}#sk-cea12da8-53f5-412f-8784-012264f3827c input.sk-hidden--visually {border: 0;clip: rect(1px 1px 1px 1px);clip: rect(1px, 1px, 1px, 1px);height: 1px;margin: -1px;overflow: hidden;padding: 0;position: absolute;width: 1px;}#sk-cea12da8-53f5-412f-8784-012264f3827c div.sk-estimator {font-family: monospace;background-color: #f0f8ff;border: 1px dotted black;border-radius: 0.25em;box-sizing: border-box;margin-bottom: 0.5em;}#sk-cea12da8-53f5-412f-8784-012264f3827c div.sk-estimator:hover {background-color: #d4ebff;}#sk-cea12da8-53f5-412f-8784-012264f3827c div.sk-parallel-item::after {content: \"\";width: 100%;border-bottom: 1px solid gray;flex-grow: 1;}#sk-cea12da8-53f5-412f-8784-012264f3827c div.sk-label:hover label.sk-toggleable__label {background-color: #d4ebff;}#sk-cea12da8-53f5-412f-8784-012264f3827c div.sk-serial::before {content: \"\";position: absolute;border-left: 1px solid gray;box-sizing: border-box;top: 2em;bottom: 0;left: 50%;}#sk-cea12da8-53f5-412f-8784-012264f3827c div.sk-serial {display: flex;flex-direction: column;align-items: center;background-color: white;padding-right: 0.2em;padding-left: 0.2em;}#sk-cea12da8-53f5-412f-8784-012264f3827c div.sk-item {z-index: 1;}#sk-cea12da8-53f5-412f-8784-012264f3827c div.sk-parallel {display: flex;align-items: stretch;justify-content: center;background-color: white;}#sk-cea12da8-53f5-412f-8784-012264f3827c div.sk-parallel::before {content: \"\";position: absolute;border-left: 1px solid gray;box-sizing: border-box;top: 2em;bottom: 0;left: 50%;}#sk-cea12da8-53f5-412f-8784-012264f3827c div.sk-parallel-item {display: flex;flex-direction: column;position: relative;background-color: white;}#sk-cea12da8-53f5-412f-8784-012264f3827c div.sk-parallel-item:first-child::after {align-self: flex-end;width: 50%;}#sk-cea12da8-53f5-412f-8784-012264f3827c div.sk-parallel-item:last-child::after {align-self: flex-start;width: 50%;}#sk-cea12da8-53f5-412f-8784-012264f3827c div.sk-parallel-item:only-child::after {width: 0;}#sk-cea12da8-53f5-412f-8784-012264f3827c div.sk-dashed-wrapped {border: 1px dashed gray;margin: 0 0.4em 0.5em 0.4em;box-sizing: border-box;padding-bottom: 0.4em;background-color: white;position: relative;}#sk-cea12da8-53f5-412f-8784-012264f3827c div.sk-label label {font-family: monospace;font-weight: bold;background-color: white;display: inline-block;line-height: 1.2em;}#sk-cea12da8-53f5-412f-8784-012264f3827c div.sk-label-container {position: relative;z-index: 2;text-align: center;}#sk-cea12da8-53f5-412f-8784-012264f3827c div.sk-container {/* jupyter's `normalize.less` sets `[hidden] { display: none; }` but bootstrap.min.css set `[hidden] { display: none !important; }` so we also need the `!important` here to be able to override the default hidden behavior on the sphinx rendered scikit-learn.org. See: https://github.com/scikit-learn/scikit-learn/issues/21755 */display: inline-block !important;position: relative;}#sk-cea12da8-53f5-412f-8784-012264f3827c div.sk-text-repr-fallback {display: none;}</style><div id='sk-cea12da8-53f5-412f-8784-012264f3827c' class=\"sk-top-container\"><div class=\"sk-text-repr-fallback\"><pre>ExponentialSmoothing(seasonal=&#x27;additive&#x27;, sp=12, trend=&#x27;add&#x27;)</pre><b>Please rerun this cell to show the HTML repr or trust the notebook.</b></div><div class=\"sk-container\" hidden><div class='sk-item'><div class=\"sk-estimator sk-toggleable\"><input class=\"sk-toggleable__control sk-hidden--visually\" id=UUID('ac264f4d-a240-4d31-8442-08ffb2fd6da7') type=\"checkbox\" checked><label for=UUID('ac264f4d-a240-4d31-8442-08ffb2fd6da7') class='sk-toggleable__label sk-toggleable__label-arrow'>ExponentialSmoothing</label><div class=\"sk-toggleable__content\"><pre>ExponentialSmoothing(seasonal=&#x27;additive&#x27;, sp=12, trend=&#x27;add&#x27;)</pre></div></div></div></div></div>"
      ],
      "text/plain": [
       "ExponentialSmoothing(seasonal='additive', sp=12, trend='add')"
      ]
     },
     "execution_count": 90,
     "metadata": {},
     "output_type": "execute_result"
    }
   ],
   "source": [
    "forecaster =  ExponentialSmoothing(trend=\"add\", seasonal=\"additive\", sp=12)\n",
    "forecaster.fit(train)"
   ]
  },
  {
   "cell_type": "code",
   "execution_count": 91,
   "id": "d03b3012-5058-4296-8844-d67d9f74c59d",
   "metadata": {},
   "outputs": [],
   "source": [
    "y_pred = forecaster.predict(fh)"
   ]
  },
  {
   "cell_type": "code",
   "execution_count": 92,
   "id": "e36fa3c0-c99f-4634-b904-0721e6467865",
   "metadata": {},
   "outputs": [
    {
     "data": {
      "text/html": [
       "<div>\n",
       "<style scoped>\n",
       "    .dataframe tbody tr th:only-of-type {\n",
       "        vertical-align: middle;\n",
       "    }\n",
       "\n",
       "    .dataframe tbody tr th {\n",
       "        vertical-align: top;\n",
       "    }\n",
       "\n",
       "    .dataframe thead th {\n",
       "        text-align: right;\n",
       "    }\n",
       "</style>\n",
       "<table border=\"1\" class=\"dataframe\">\n",
       "  <thead>\n",
       "    <tr style=\"text-align: right;\">\n",
       "      <th></th>\n",
       "      <th></th>\n",
       "      <th></th>\n",
       "      <th>sales</th>\n",
       "      <th>onpromotion</th>\n",
       "    </tr>\n",
       "    <tr>\n",
       "      <th>store_nbr</th>\n",
       "      <th>family</th>\n",
       "      <th>date</th>\n",
       "      <th></th>\n",
       "      <th></th>\n",
       "    </tr>\n",
       "  </thead>\n",
       "  <tbody>\n",
       "    <tr>\n",
       "      <th rowspan=\"5\" valign=\"top\">1</th>\n",
       "      <th rowspan=\"5\" valign=\"top\">AUTOMOTIVE</th>\n",
       "      <th>2017-08-16</th>\n",
       "      <td>4.184816</td>\n",
       "      <td>-0.008264</td>\n",
       "    </tr>\n",
       "    <tr>\n",
       "      <th>2017-08-17</th>\n",
       "      <td>4.548707</td>\n",
       "      <td>-0.001126</td>\n",
       "    </tr>\n",
       "    <tr>\n",
       "      <th>2017-08-18</th>\n",
       "      <td>4.776941</td>\n",
       "      <td>0.006004</td>\n",
       "    </tr>\n",
       "    <tr>\n",
       "      <th>2017-08-19</th>\n",
       "      <td>4.811494</td>\n",
       "      <td>-0.001111</td>\n",
       "    </tr>\n",
       "    <tr>\n",
       "      <th>2017-08-20</th>\n",
       "      <td>4.825580</td>\n",
       "      <td>-0.008236</td>\n",
       "    </tr>\n",
       "    <tr>\n",
       "      <th>...</th>\n",
       "      <th>...</th>\n",
       "      <th>...</th>\n",
       "      <td>...</td>\n",
       "      <td>...</td>\n",
       "    </tr>\n",
       "    <tr>\n",
       "      <th rowspan=\"5\" valign=\"top\">2</th>\n",
       "      <th rowspan=\"5\" valign=\"top\">SEAFOOD</th>\n",
       "      <th>2017-08-26</th>\n",
       "      <td>35.416426</td>\n",
       "      <td>1.009510</td>\n",
       "    </tr>\n",
       "    <tr>\n",
       "      <th>2017-08-27</th>\n",
       "      <td>35.851301</td>\n",
       "      <td>1.066283</td>\n",
       "    </tr>\n",
       "    <tr>\n",
       "      <th>2017-08-28</th>\n",
       "      <td>34.986016</td>\n",
       "      <td>0.975691</td>\n",
       "    </tr>\n",
       "    <tr>\n",
       "      <th>2017-08-29</th>\n",
       "      <td>35.131448</td>\n",
       "      <td>1.161207</td>\n",
       "    </tr>\n",
       "    <tr>\n",
       "      <th>2017-08-30</th>\n",
       "      <td>33.237516</td>\n",
       "      <td>0.924279</td>\n",
       "    </tr>\n",
       "  </tbody>\n",
       "</table>\n",
       "<p>990 rows × 2 columns</p>\n",
       "</div>"
      ],
      "text/plain": [
       "                                     sales  onpromotion\n",
       "store_nbr family     date                              \n",
       "1         AUTOMOTIVE 2017-08-16   4.184816    -0.008264\n",
       "                     2017-08-17   4.548707    -0.001126\n",
       "                     2017-08-18   4.776941     0.006004\n",
       "                     2017-08-19   4.811494    -0.001111\n",
       "                     2017-08-20   4.825580    -0.008236\n",
       "...                                    ...          ...\n",
       "2         SEAFOOD    2017-08-26  35.416426     1.009510\n",
       "                     2017-08-27  35.851301     1.066283\n",
       "                     2017-08-28  34.986016     0.975691\n",
       "                     2017-08-29  35.131448     1.161207\n",
       "                     2017-08-30  33.237516     0.924279\n",
       "\n",
       "[990 rows x 2 columns]"
      ]
     },
     "execution_count": 92,
     "metadata": {},
     "output_type": "execute_result"
    }
   ],
   "source": [
    "y_pred"
   ]
  },
  {
   "cell_type": "code",
   "execution_count": 37,
   "id": "849fbe3c-1b08-4028-96ba-86154639e6d7",
   "metadata": {},
   "outputs": [
    {
     "data": {
      "text/html": [
       "<div>\n",
       "<style scoped>\n",
       "    .dataframe tbody tr th:only-of-type {\n",
       "        vertical-align: middle;\n",
       "    }\n",
       "\n",
       "    .dataframe tbody tr th {\n",
       "        vertical-align: top;\n",
       "    }\n",
       "\n",
       "    .dataframe thead tr th {\n",
       "        text-align: left;\n",
       "    }\n",
       "\n",
       "    .dataframe thead tr:last-of-type th {\n",
       "        text-align: right;\n",
       "    }\n",
       "</style>\n",
       "<table border=\"1\" class=\"dataframe\">\n",
       "  <thead>\n",
       "    <tr>\n",
       "      <th>family</th>\n",
       "      <th colspan=\"10\" halign=\"left\">AUTOMOTIVE</th>\n",
       "      <th>...</th>\n",
       "      <th colspan=\"10\" halign=\"left\">SEAFOOD</th>\n",
       "    </tr>\n",
       "    <tr>\n",
       "      <th>family</th>\n",
       "      <th colspan=\"10\" halign=\"left\">AUTOMOTIVE</th>\n",
       "      <th>...</th>\n",
       "      <th colspan=\"10\" halign=\"left\">SEAFOOD</th>\n",
       "    </tr>\n",
       "    <tr>\n",
       "      <th>store_nbr</th>\n",
       "      <th>1</th>\n",
       "      <th>10</th>\n",
       "      <th>11</th>\n",
       "      <th>12</th>\n",
       "      <th>13</th>\n",
       "      <th>14</th>\n",
       "      <th>15</th>\n",
       "      <th>16</th>\n",
       "      <th>17</th>\n",
       "      <th>18</th>\n",
       "      <th>...</th>\n",
       "      <th>5</th>\n",
       "      <th>50</th>\n",
       "      <th>51</th>\n",
       "      <th>52</th>\n",
       "      <th>53</th>\n",
       "      <th>54</th>\n",
       "      <th>6</th>\n",
       "      <th>7</th>\n",
       "      <th>8</th>\n",
       "      <th>9</th>\n",
       "    </tr>\n",
       "    <tr>\n",
       "      <th>date</th>\n",
       "      <th></th>\n",
       "      <th></th>\n",
       "      <th></th>\n",
       "      <th></th>\n",
       "      <th></th>\n",
       "      <th></th>\n",
       "      <th></th>\n",
       "      <th></th>\n",
       "      <th></th>\n",
       "      <th></th>\n",
       "      <th></th>\n",
       "      <th></th>\n",
       "      <th></th>\n",
       "      <th></th>\n",
       "      <th></th>\n",
       "      <th></th>\n",
       "      <th></th>\n",
       "      <th></th>\n",
       "      <th></th>\n",
       "      <th></th>\n",
       "      <th></th>\n",
       "    </tr>\n",
       "  </thead>\n",
       "  <tbody>\n",
       "    <tr>\n",
       "      <th>2017-08-25</th>\n",
       "      <td>4.483274</td>\n",
       "      <td>1.811184</td>\n",
       "      <td>7.89436</td>\n",
       "      <td>5.932794</td>\n",
       "      <td>5.003217</td>\n",
       "      <td>3.829323</td>\n",
       "      <td>3.946422</td>\n",
       "      <td>4.902763</td>\n",
       "      <td>9.191286</td>\n",
       "      <td>4.312973</td>\n",
       "      <td>...</td>\n",
       "      <td>9.746943</td>\n",
       "      <td>19.963582</td>\n",
       "      <td>50.982105</td>\n",
       "      <td>9.403427</td>\n",
       "      <td>4.284481</td>\n",
       "      <td>2.579434</td>\n",
       "      <td>37.288262</td>\n",
       "      <td>43.194023</td>\n",
       "      <td>35.799047</td>\n",
       "      <td>17.768955</td>\n",
       "    </tr>\n",
       "  </tbody>\n",
       "</table>\n",
       "<p>1 rows × 1782 columns</p>\n",
       "</div>"
      ],
      "text/plain": [
       "family     AUTOMOTIVE                                                   \\\n",
       "family     AUTOMOTIVE                                                    \n",
       "store_nbr           1        10       11        12        13        14   \n",
       "date                                                                     \n",
       "2017-08-25   4.483274  1.811184  7.89436  5.932794  5.003217  3.829323   \n",
       "\n",
       "family                                              ...   SEAFOOD             \\\n",
       "family                                              ...   SEAFOOD              \n",
       "store_nbr         15        16        17        18  ...         5         50   \n",
       "date                                                ...                        \n",
       "2017-08-25  3.946422  4.902763  9.191286  4.312973  ...  9.746943  19.963582   \n",
       "\n",
       "family                                                                     \\\n",
       "family                                                                      \n",
       "store_nbr          51        52        53        54          6          7   \n",
       "date                                                                        \n",
       "2017-08-25  50.982105  9.403427  4.284481  2.579434  37.288262  43.194023   \n",
       "\n",
       "family                            \n",
       "family                            \n",
       "store_nbr           8          9  \n",
       "date                              \n",
       "2017-08-25  35.799047  17.768955  \n",
       "\n",
       "[1 rows x 1782 columns]"
      ]
     },
     "execution_count": 37,
     "metadata": {},
     "output_type": "execute_result"
    }
   ],
   "source": [
    "y_pred"
   ]
  },
  {
   "cell_type": "code",
   "execution_count": 47,
   "id": "cf452a12-5e6b-4d34-9155-37d3c0feb309",
   "metadata": {},
   "outputs": [
    {
     "data": {
      "text/plain": [
       "MultiIndex([('AUTOMOTIVE', 'AUTOMOTIVE',  '1'),\n",
       "            ('AUTOMOTIVE', 'AUTOMOTIVE', '10'),\n",
       "            ('AUTOMOTIVE', 'AUTOMOTIVE', '11'),\n",
       "            ('AUTOMOTIVE', 'AUTOMOTIVE', '12'),\n",
       "            ('AUTOMOTIVE', 'AUTOMOTIVE', '13'),\n",
       "            ('AUTOMOTIVE', 'AUTOMOTIVE', '14'),\n",
       "            ('AUTOMOTIVE', 'AUTOMOTIVE', '15'),\n",
       "            ('AUTOMOTIVE', 'AUTOMOTIVE', '16'),\n",
       "            ('AUTOMOTIVE', 'AUTOMOTIVE', '17'),\n",
       "            ('AUTOMOTIVE', 'AUTOMOTIVE', '18'),\n",
       "            ...\n",
       "            (   'SEAFOOD',    'SEAFOOD',  '5'),\n",
       "            (   'SEAFOOD',    'SEAFOOD', '50'),\n",
       "            (   'SEAFOOD',    'SEAFOOD', '51'),\n",
       "            (   'SEAFOOD',    'SEAFOOD', '52'),\n",
       "            (   'SEAFOOD',    'SEAFOOD', '53'),\n",
       "            (   'SEAFOOD',    'SEAFOOD', '54'),\n",
       "            (   'SEAFOOD',    'SEAFOOD',  '6'),\n",
       "            (   'SEAFOOD',    'SEAFOOD',  '7'),\n",
       "            (   'SEAFOOD',    'SEAFOOD',  '8'),\n",
       "            (   'SEAFOOD',    'SEAFOOD',  '9')],\n",
       "           names=['family', 'family', 'store_nbr'], length=1782)"
      ]
     },
     "execution_count": 47,
     "metadata": {},
     "output_type": "execute_result"
    }
   ],
   "source": []
  },
  {
   "cell_type": "code",
   "execution_count": null,
   "id": "25671c04-a8f5-408a-9ad7-fc5e85a0cb5d",
   "metadata": {},
   "outputs": [],
   "source": []
  }
 ],
 "metadata": {
  "kernelspec": {
   "display_name": "Python 3 (ipykernel)",
   "language": "python",
   "name": "python3"
  },
  "language_info": {
   "codemirror_mode": {
    "name": "ipython",
    "version": 3
   },
   "file_extension": ".py",
   "mimetype": "text/x-python",
   "name": "python",
   "nbconvert_exporter": "python",
   "pygments_lexer": "ipython3",
   "version": "3.9.7"
  }
 },
 "nbformat": 4,
 "nbformat_minor": 5
}
