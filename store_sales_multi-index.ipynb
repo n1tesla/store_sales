{
 "cells": [
  {
   "cell_type": "code",
   "execution_count": 65,
   "id": "d67c320e-851a-4116-a701-02d3731eb6bd",
   "metadata": {
    "ExecuteTime": {
     "end_time": "2024-06-10T19:03:24.187825900Z",
     "start_time": "2024-06-10T19:03:24.181827800Z"
    }
   },
   "outputs": [],
   "source": [
    "import pandas as pd\n",
    "import numpy as np\n",
    "from pathlib import Path\n",
    "import joblib\n",
    "\n",
    "from sklearn.linear_model import LinearRegression\n",
    "from sklearn.metrics import mean_squared_log_error\n",
    "from sklearn.model_selection import train_test_split\n",
    "from warnings import simplefilter\n",
    "simplefilter(\"ignore\")"
   ]
  },
  {
   "cell_type": "code",
   "execution_count": 66,
   "id": "9ca8eb6f-3a37-4408-97df-dd4bd00c512f",
   "metadata": {
    "ExecuteTime": {
     "end_time": "2024-06-10T19:03:24.511696Z",
     "start_time": "2024-06-10T19:03:24.495808800Z"
    }
   },
   "outputs": [],
   "source": [
    "dataset_dir = Path(\"dataset\")"
   ]
  },
  {
   "cell_type": "markdown",
   "id": "3ee12baf-08f7-4502-9850-f097e7ea2290",
   "metadata": {},
   "source": [
    "## CONFIG "
   ]
  },
  {
   "cell_type": "code",
   "execution_count": 67,
   "id": "6b57b1f4-1d56-4f4b-bb82-c5b8c6eb82a3",
   "metadata": {
    "ExecuteTime": {
     "end_time": "2024-06-10T19:03:24.966883100Z",
     "start_time": "2024-06-10T19:03:24.950307Z"
    }
   },
   "outputs": [],
   "source": [
    "store_nbr_list = [\"1\",\"2\"]\n",
    "family_list = [\"AUTOMATIVE\", \"SEAFOOD\"]\n",
    "val_ratio = 0.2"
   ]
  },
  {
   "cell_type": "code",
   "execution_count": 68,
   "id": "b0056845-2c89-4a1b-aeeb-a9c678694226",
   "metadata": {
    "ExecuteTime": {
     "end_time": "2024-06-10T19:03:26.821958400Z",
     "start_time": "2024-06-10T19:03:25.233958700Z"
    }
   },
   "outputs": [
    {
     "data": {
      "text/plain": "                                     sales  onpromotion\nstore_nbr family     date                              \n1         AUTOMOTIVE 2013-01-01   0.000000            0\n                     2013-01-02   2.000000            0\n                     2013-01-03   3.000000            0\n                     2013-01-04   3.000000            0\n                     2013-01-05   5.000000            0\n...                                    ...          ...\n9         SEAFOOD    2017-08-11  23.830999            0\n                     2017-08-12  16.859001            4\n                     2017-08-13  20.000000            0\n                     2017-08-14  17.000000            0\n                     2017-08-15  16.000000            0\n\n[3000888 rows x 2 columns]",
      "text/html": "<div>\n<style scoped>\n    .dataframe tbody tr th:only-of-type {\n        vertical-align: middle;\n    }\n\n    .dataframe tbody tr th {\n        vertical-align: top;\n    }\n\n    .dataframe thead th {\n        text-align: right;\n    }\n</style>\n<table border=\"1\" class=\"dataframe\">\n  <thead>\n    <tr style=\"text-align: right;\">\n      <th></th>\n      <th></th>\n      <th></th>\n      <th>sales</th>\n      <th>onpromotion</th>\n    </tr>\n    <tr>\n      <th>store_nbr</th>\n      <th>family</th>\n      <th>date</th>\n      <th></th>\n      <th></th>\n    </tr>\n  </thead>\n  <tbody>\n    <tr>\n      <th rowspan=\"5\" valign=\"top\">1</th>\n      <th rowspan=\"5\" valign=\"top\">AUTOMOTIVE</th>\n      <th>2013-01-01</th>\n      <td>0.000000</td>\n      <td>0</td>\n    </tr>\n    <tr>\n      <th>2013-01-02</th>\n      <td>2.000000</td>\n      <td>0</td>\n    </tr>\n    <tr>\n      <th>2013-01-03</th>\n      <td>3.000000</td>\n      <td>0</td>\n    </tr>\n    <tr>\n      <th>2013-01-04</th>\n      <td>3.000000</td>\n      <td>0</td>\n    </tr>\n    <tr>\n      <th>2013-01-05</th>\n      <td>5.000000</td>\n      <td>0</td>\n    </tr>\n    <tr>\n      <th>...</th>\n      <th>...</th>\n      <th>...</th>\n      <td>...</td>\n      <td>...</td>\n    </tr>\n    <tr>\n      <th rowspan=\"5\" valign=\"top\">9</th>\n      <th rowspan=\"5\" valign=\"top\">SEAFOOD</th>\n      <th>2017-08-11</th>\n      <td>23.830999</td>\n      <td>0</td>\n    </tr>\n    <tr>\n      <th>2017-08-12</th>\n      <td>16.859001</td>\n      <td>4</td>\n    </tr>\n    <tr>\n      <th>2017-08-13</th>\n      <td>20.000000</td>\n      <td>0</td>\n    </tr>\n    <tr>\n      <th>2017-08-14</th>\n      <td>17.000000</td>\n      <td>0</td>\n    </tr>\n    <tr>\n      <th>2017-08-15</th>\n      <td>16.000000</td>\n      <td>0</td>\n    </tr>\n  </tbody>\n</table>\n<p>3000888 rows × 2 columns</p>\n</div>"
     },
     "execution_count": 68,
     "metadata": {},
     "output_type": "execute_result"
    }
   ],
   "source": [
    "train = pd.read_csv(dataset_dir / 'train.csv',                            \n",
    "    usecols=['store_nbr', 'family', 'date', 'sales', 'onpromotion'],\n",
    "    dtype={\n",
    "        'store_nbr': 'category',\n",
    "        'family': 'category',\n",
    "        'sales': 'float32',\n",
    "        'onpromotion': 'uint32'\n",
    "    },\n",
    "    parse_dates=['date'],\n",
    "    infer_datetime_format=True,\n",
    ")\n",
    "train['date'] = train.date.dt.to_period('D')\n",
    "\n",
    "train = (train\n",
    "       .set_index(['store_nbr','family','date'])         # Setting MultiIndex to make unique identifiers for each 'sales' item\n",
    "       .sort_index()\n",
    "      )\n",
    "# train = train[train.index.isin(store_nbr_list)]\n",
    "train"
   ]
  },
  {
   "cell_type": "markdown",
   "source": [
    "## MULTI-INDEX FILTERING"
   ],
   "metadata": {
    "collapsed": false
   },
   "id": "bdaab4452f943089"
  },
  {
   "cell_type": "code",
   "execution_count": 69,
   "outputs": [],
   "source": [
    "c1=train.index.get_level_values(0).isin(['1', '2', '3'])\n",
    "c2 = train.index.get_level_values(1).isin([\"AUTOMOTIVE\",\"SEAFOOD\"])\n",
    "train = train[c1 & c2]"
   ],
   "metadata": {
    "collapsed": false,
    "ExecuteTime": {
     "end_time": "2024-06-10T19:03:28.554719400Z",
     "start_time": "2024-06-10T19:03:28.517846400Z"
    }
   },
   "id": "8b1bd64a5d7c2e33"
  },
  {
   "cell_type": "markdown",
   "source": [
    "## DATE FILTERING"
   ],
   "metadata": {
    "collapsed": false
   },
   "id": "f9117c281a2bb7a5"
  },
  {
   "cell_type": "code",
   "execution_count": 70,
   "outputs": [],
   "source": [
    "# start_date = \"2013-01-02\"\n",
    "# end_date = \"2013-01-06\"\n",
    "# filtered_df = train[(train.index.get_level_values('date') >= start_date) & (train.index.get_level_values('date') <= end_date)]\n",
    "# filtered_df.to_csv('filtered_df.csv')"
   ],
   "metadata": {
    "collapsed": false,
    "ExecuteTime": {
     "end_time": "2024-06-10T19:03:30.324958500Z",
     "start_time": "2024-06-10T19:03:30.309833900Z"
    }
   },
   "id": "4921036777e4c373"
  },
  {
   "cell_type": "code",
   "execution_count": 71,
   "id": "23b3122d-764a-427e-a616-636112091d83",
   "metadata": {
    "scrolled": true,
    "ExecuteTime": {
     "end_time": "2024-06-10T19:03:30.688217900Z",
     "start_time": "2024-06-10T19:03:30.655896700Z"
    }
   },
   "outputs": [
    {
     "data": {
      "text/plain": "                                      id  onpromotion\nstore_nbr family     date                            \n1         AUTOMOTIVE 2017-08-16  3000888            0\n                     2017-08-17  3002670            0\n                     2017-08-18  3004452            0\n                     2017-08-19  3006234            0\n                     2017-08-20  3008016            0\n...                                  ...          ...\n2         SEAFOOD    2017-08-27  3020885            1\n                     2017-08-28  3022667            0\n                     2017-08-29  3024449            1\n                     2017-08-30  3026231            1\n                     2017-08-31  3028013            0\n\n[1056 rows x 2 columns]",
      "text/html": "<div>\n<style scoped>\n    .dataframe tbody tr th:only-of-type {\n        vertical-align: middle;\n    }\n\n    .dataframe tbody tr th {\n        vertical-align: top;\n    }\n\n    .dataframe thead th {\n        text-align: right;\n    }\n</style>\n<table border=\"1\" class=\"dataframe\">\n  <thead>\n    <tr style=\"text-align: right;\">\n      <th></th>\n      <th></th>\n      <th></th>\n      <th>id</th>\n      <th>onpromotion</th>\n    </tr>\n    <tr>\n      <th>store_nbr</th>\n      <th>family</th>\n      <th>date</th>\n      <th></th>\n      <th></th>\n    </tr>\n  </thead>\n  <tbody>\n    <tr>\n      <th rowspan=\"5\" valign=\"top\">1</th>\n      <th rowspan=\"5\" valign=\"top\">AUTOMOTIVE</th>\n      <th>2017-08-16</th>\n      <td>3000888</td>\n      <td>0</td>\n    </tr>\n    <tr>\n      <th>2017-08-17</th>\n      <td>3002670</td>\n      <td>0</td>\n    </tr>\n    <tr>\n      <th>2017-08-18</th>\n      <td>3004452</td>\n      <td>0</td>\n    </tr>\n    <tr>\n      <th>2017-08-19</th>\n      <td>3006234</td>\n      <td>0</td>\n    </tr>\n    <tr>\n      <th>2017-08-20</th>\n      <td>3008016</td>\n      <td>0</td>\n    </tr>\n    <tr>\n      <th>...</th>\n      <th>...</th>\n      <th>...</th>\n      <td>...</td>\n      <td>...</td>\n    </tr>\n    <tr>\n      <th rowspan=\"5\" valign=\"top\">2</th>\n      <th rowspan=\"5\" valign=\"top\">SEAFOOD</th>\n      <th>2017-08-27</th>\n      <td>3020885</td>\n      <td>1</td>\n    </tr>\n    <tr>\n      <th>2017-08-28</th>\n      <td>3022667</td>\n      <td>0</td>\n    </tr>\n    <tr>\n      <th>2017-08-29</th>\n      <td>3024449</td>\n      <td>1</td>\n    </tr>\n    <tr>\n      <th>2017-08-30</th>\n      <td>3026231</td>\n      <td>1</td>\n    </tr>\n    <tr>\n      <th>2017-08-31</th>\n      <td>3028013</td>\n      <td>0</td>\n    </tr>\n  </tbody>\n</table>\n<p>1056 rows × 2 columns</p>\n</div>"
     },
     "execution_count": 71,
     "metadata": {},
     "output_type": "execute_result"
    }
   ],
   "source": [
    "test = pd.read_csv(dataset_dir/'test.csv',\n",
    "    dtype={\n",
    "        'store_nbr': 'category',\n",
    "        'family': 'category',\n",
    "        'onpromotion': 'uint32',\n",
    "    },\n",
    "    parse_dates=['date'],\n",
    "    infer_datetime_format=True,\n",
    ")\n",
    "test['date'] = test.date.dt.to_period('D')\n",
    "test = test.set_index(['store_nbr','family','date']).sort_index()\n",
    "test = test[test.index.isin(store_nbr_list)]\n",
    "test"
   ]
  },
  {
   "cell_type": "code",
   "execution_count": 72,
   "outputs": [
    {
     "data": {
      "text/plain": "                                      id  onpromotion\nstore_nbr family     date                            \n1         AUTOMOTIVE 2017-08-16  3000888            0\n                     2017-08-17  3002670            0\n                     2017-08-18  3004452            0\n                     2017-08-19  3006234            0\n                     2017-08-20  3008016            0\n...                                  ...          ...\n2         SEAFOOD    2017-08-27  3020885            1\n                     2017-08-28  3022667            0\n                     2017-08-29  3024449            1\n                     2017-08-30  3026231            1\n                     2017-08-31  3028013            0\n\n[64 rows x 2 columns]",
      "text/html": "<div>\n<style scoped>\n    .dataframe tbody tr th:only-of-type {\n        vertical-align: middle;\n    }\n\n    .dataframe tbody tr th {\n        vertical-align: top;\n    }\n\n    .dataframe thead th {\n        text-align: right;\n    }\n</style>\n<table border=\"1\" class=\"dataframe\">\n  <thead>\n    <tr style=\"text-align: right;\">\n      <th></th>\n      <th></th>\n      <th></th>\n      <th>id</th>\n      <th>onpromotion</th>\n    </tr>\n    <tr>\n      <th>store_nbr</th>\n      <th>family</th>\n      <th>date</th>\n      <th></th>\n      <th></th>\n    </tr>\n  </thead>\n  <tbody>\n    <tr>\n      <th rowspan=\"5\" valign=\"top\">1</th>\n      <th rowspan=\"5\" valign=\"top\">AUTOMOTIVE</th>\n      <th>2017-08-16</th>\n      <td>3000888</td>\n      <td>0</td>\n    </tr>\n    <tr>\n      <th>2017-08-17</th>\n      <td>3002670</td>\n      <td>0</td>\n    </tr>\n    <tr>\n      <th>2017-08-18</th>\n      <td>3004452</td>\n      <td>0</td>\n    </tr>\n    <tr>\n      <th>2017-08-19</th>\n      <td>3006234</td>\n      <td>0</td>\n    </tr>\n    <tr>\n      <th>2017-08-20</th>\n      <td>3008016</td>\n      <td>0</td>\n    </tr>\n    <tr>\n      <th>...</th>\n      <th>...</th>\n      <th>...</th>\n      <td>...</td>\n      <td>...</td>\n    </tr>\n    <tr>\n      <th rowspan=\"5\" valign=\"top\">2</th>\n      <th rowspan=\"5\" valign=\"top\">SEAFOOD</th>\n      <th>2017-08-27</th>\n      <td>3020885</td>\n      <td>1</td>\n    </tr>\n    <tr>\n      <th>2017-08-28</th>\n      <td>3022667</td>\n      <td>0</td>\n    </tr>\n    <tr>\n      <th>2017-08-29</th>\n      <td>3024449</td>\n      <td>1</td>\n    </tr>\n    <tr>\n      <th>2017-08-30</th>\n      <td>3026231</td>\n      <td>1</td>\n    </tr>\n    <tr>\n      <th>2017-08-31</th>\n      <td>3028013</td>\n      <td>0</td>\n    </tr>\n  </tbody>\n</table>\n<p>64 rows × 2 columns</p>\n</div>"
     },
     "execution_count": 72,
     "metadata": {},
     "output_type": "execute_result"
    }
   ],
   "source": [
    "c1=test.index.get_level_values(0).isin(['1', '2', '3'])\n",
    "c2 = test.index.get_level_values(1).isin([\"AUTOMOTIVE\",\"SEAFOOD\"])\n",
    "test = test[c1 & c2]\n",
    "test"
   ],
   "metadata": {
    "collapsed": false,
    "ExecuteTime": {
     "end_time": "2024-06-10T19:03:31.911446700Z",
     "start_time": "2024-06-10T19:03:31.901845700Z"
    }
   },
   "id": "a7a2546647e63704"
  },
  {
   "cell_type": "code",
   "execution_count": 96,
   "id": "2647837c-9e21-447a-8ffa-1708815340bf",
   "metadata": {},
   "outputs": [
    {
     "name": "stdout",
     "output_type": "stream",
     "text": [
      "                                      id  onpromotion\n",
      "store_nbr family     date                            \n",
      "1         AUTOMOTIVE 2017-08-16  3000888            0\n",
      "                     2017-08-17  3002670            0\n",
      "                     2017-08-18  3004452            0\n",
      "                     2017-08-19  3006234            0\n",
      "                     2017-08-20  3008016            0\n",
      "...                                  ...          ...\n",
      "          SEAFOOD    2017-08-27  3020522            0\n",
      "                     2017-08-28  3022304            1\n",
      "                     2017-08-29  3024086            0\n",
      "                     2017-08-30  3025868            1\n",
      "                     2017-08-31  3027650            0\n",
      "\n",
      "[528 rows x 2 columns]\n",
      "                                      id  onpromotion\n",
      "store_nbr family     date                            \n",
      "2         AUTOMOTIVE 2017-08-16  3001251            0\n",
      "                     2017-08-17  3003033            0\n",
      "                     2017-08-18  3004815            0\n",
      "                     2017-08-19  3006597            0\n",
      "                     2017-08-20  3008379            0\n",
      "...                                  ...          ...\n",
      "          SEAFOOD    2017-08-27  3020885            1\n",
      "                     2017-08-28  3022667            0\n",
      "                     2017-08-29  3024449            1\n",
      "                     2017-08-30  3026231            1\n",
      "                     2017-08-31  3028013            0\n",
      "\n",
      "[528 rows x 2 columns]\n"
     ]
    }
   ],
   "source": [
    "df_test = pd.DataFrame([])\n",
    "for store_nbr in store_nbr_list:\n",
    "    df = test[test.index.isin([store_nbr])]\n",
    "    "
   ]
  },
  {
   "cell_type": "code",
   "execution_count": 73,
   "id": "e99ede83-6be6-4fac-a02b-39b606f11c1a",
   "metadata": {
    "ExecuteTime": {
     "end_time": "2024-06-10T19:04:41.485763600Z",
     "start_time": "2024-06-10T19:04:41.467231Z"
    }
   },
   "outputs": [],
   "source": [
    "def split():\n",
    "    pass"
   ]
  },
  {
   "cell_type": "code",
   "execution_count": 74,
   "id": "2ca70eb3-aea7-4ca6-a313-66e1758c70f5",
   "metadata": {
    "ExecuteTime": {
     "end_time": "2024-06-10T19:04:43.521122700Z",
     "start_time": "2024-06-10T19:04:43.515122600Z"
    }
   },
   "outputs": [],
   "source": [
    "class MODELS:\n",
    "    def __init__(model_name):\n",
    "        pass\n",
    "        "
   ]
  },
  {
   "cell_type": "code",
   "execution_count": 75,
   "id": "f5b12323-ce8d-4125-9090-bcaeaf5e8922",
   "metadata": {
    "ExecuteTime": {
     "end_time": "2024-06-10T19:04:44.903078400Z",
     "start_time": "2024-06-10T19:04:43.969249300Z"
    }
   },
   "outputs": [],
   "source": [
    "from sktime.forecasting.exp_smoothing import ExponentialSmoothing\n",
    "from sktime.forecasting.sarimax import SARIMAX\n",
    "from sktime.forecasting.arima import AutoARIMA\n",
    "from sktime.forecasting.base import ForecastingHorizon"
   ]
  },
  {
   "cell_type": "code",
   "execution_count": 76,
   "id": "171d733f-8db9-47de-bcb8-3868ee7964be",
   "metadata": {
    "ExecuteTime": {
     "end_time": "2024-06-10T19:04:46.550043Z",
     "start_time": "2024-06-10T19:04:46.541039300Z"
    }
   },
   "outputs": [
    {
     "data": {
      "text/plain": "ForecastingHorizon(['2017-08-16', '2017-08-17', '2017-08-18', '2017-08-19',\n             '2017-08-20', '2017-08-21', '2017-08-22', '2017-08-23',\n             '2017-08-24', '2017-08-25', '2017-08-26', '2017-08-27',\n             '2017-08-28', '2017-08-29', '2017-08-30'],\n            dtype='period[D]', is_relative=False)"
     },
     "execution_count": 76,
     "metadata": {},
     "output_type": "execute_result"
    }
   ],
   "source": [
    "fh = ForecastingHorizon(\n",
    "    pd.PeriodIndex(pd.date_range('2017-08-16', periods=15, freq=\"D\")), is_relative=False\n",
    ")\n",
    "fh"
   ]
  },
  {
   "cell_type": "code",
   "execution_count": 77,
   "id": "f29dd1d6-1f56-4d97-9bde-de9c7c6eca8c",
   "metadata": {
    "ExecuteTime": {
     "end_time": "2024-06-10T19:04:47.194409800Z",
     "start_time": "2024-06-10T19:04:47.178292900Z"
    }
   },
   "outputs": [
    {
     "data": {
      "text/plain": "ForecastingHorizon([1, 2, 3, 4, 5, 6, 7, 8, 9, 10, 11, 12, 13, 14, 15], dtype='int32', is_relative=True)"
     },
     "execution_count": 77,
     "metadata": {},
     "output_type": "execute_result"
    }
   ],
   "source": [
    "fh2 = ForecastingHorizon(np.arange(1,16))\n",
    "fh2"
   ]
  },
  {
   "cell_type": "code",
   "execution_count": 78,
   "id": "8534a9b2-225f-4126-b3da-49b3734c1764",
   "metadata": {
    "ExecuteTime": {
     "end_time": "2024-06-10T19:07:23.225723500Z",
     "start_time": "2024-06-10T19:04:57.434724600Z"
    }
   },
   "outputs": [
    {
     "name": "stderr",
     "output_type": "stream",
     "text": [
      "C:\\Users\\TnAky\\sktime3.8\\lib\\site-packages\\statsmodels\\base\\model.py:607: ConvergenceWarning: Maximum Likelihood optimization failed to converge. Check mle_retvals\n",
      "  warnings.warn(\"Maximum Likelihood optimization failed to \"\n",
      "C:\\Users\\TnAky\\sktime3.8\\lib\\site-packages\\statsmodels\\base\\model.py:607: ConvergenceWarning: Maximum Likelihood optimization failed to converge. Check mle_retvals\n",
      "  warnings.warn(\"Maximum Likelihood optimization failed to \"\n",
      "C:\\Users\\TnAky\\sktime3.8\\lib\\site-packages\\statsmodels\\base\\model.py:607: ConvergenceWarning: Maximum Likelihood optimization failed to converge. Check mle_retvals\n",
      "  warnings.warn(\"Maximum Likelihood optimization failed to \"\n",
      "C:\\Users\\TnAky\\sktime3.8\\lib\\site-packages\\statsmodels\\base\\model.py:607: ConvergenceWarning: Maximum Likelihood optimization failed to converge. Check mle_retvals\n",
      "  warnings.warn(\"Maximum Likelihood optimization failed to \"\n",
      "C:\\Users\\TnAky\\sktime3.8\\lib\\site-packages\\statsmodels\\base\\model.py:607: ConvergenceWarning: Maximum Likelihood optimization failed to converge. Check mle_retvals\n",
      "  warnings.warn(\"Maximum Likelihood optimization failed to \"\n",
      "C:\\Users\\TnAky\\sktime3.8\\lib\\site-packages\\statsmodels\\base\\model.py:607: ConvergenceWarning: Maximum Likelihood optimization failed to converge. Check mle_retvals\n",
      "  warnings.warn(\"Maximum Likelihood optimization failed to \"\n",
      "C:\\Users\\TnAky\\sktime3.8\\lib\\site-packages\\statsmodels\\base\\model.py:607: ConvergenceWarning: Maximum Likelihood optimization failed to converge. Check mle_retvals\n",
      "  warnings.warn(\"Maximum Likelihood optimization failed to \"\n",
      "C:\\Users\\TnAky\\sktime3.8\\lib\\site-packages\\statsmodels\\base\\model.py:607: ConvergenceWarning: Maximum Likelihood optimization failed to converge. Check mle_retvals\n",
      "  warnings.warn(\"Maximum Likelihood optimization failed to \"\n",
      "C:\\Users\\TnAky\\sktime3.8\\lib\\site-packages\\statsmodels\\base\\model.py:607: ConvergenceWarning: Maximum Likelihood optimization failed to converge. Check mle_retvals\n",
      "  warnings.warn(\"Maximum Likelihood optimization failed to \"\n",
      "C:\\Users\\TnAky\\sktime3.8\\lib\\site-packages\\statsmodels\\base\\model.py:607: ConvergenceWarning: Maximum Likelihood optimization failed to converge. Check mle_retvals\n",
      "  warnings.warn(\"Maximum Likelihood optimization failed to \"\n",
      "C:\\Users\\TnAky\\sktime3.8\\lib\\site-packages\\statsmodels\\base\\model.py:607: ConvergenceWarning: Maximum Likelihood optimization failed to converge. Check mle_retvals\n",
      "  warnings.warn(\"Maximum Likelihood optimization failed to \"\n",
      "C:\\Users\\TnAky\\sktime3.8\\lib\\site-packages\\statsmodels\\base\\model.py:607: ConvergenceWarning: Maximum Likelihood optimization failed to converge. Check mle_retvals\n",
      "  warnings.warn(\"Maximum Likelihood optimization failed to \"\n",
      "C:\\Users\\TnAky\\sktime3.8\\lib\\site-packages\\statsmodels\\base\\model.py:607: ConvergenceWarning: Maximum Likelihood optimization failed to converge. Check mle_retvals\n",
      "  warnings.warn(\"Maximum Likelihood optimization failed to \"\n",
      "C:\\Users\\TnAky\\sktime3.8\\lib\\site-packages\\statsmodels\\base\\model.py:607: ConvergenceWarning: Maximum Likelihood optimization failed to converge. Check mle_retvals\n",
      "  warnings.warn(\"Maximum Likelihood optimization failed to \"\n",
      "C:\\Users\\TnAky\\sktime3.8\\lib\\site-packages\\statsmodels\\base\\model.py:607: ConvergenceWarning: Maximum Likelihood optimization failed to converge. Check mle_retvals\n",
      "  warnings.warn(\"Maximum Likelihood optimization failed to \"\n",
      "C:\\Users\\TnAky\\sktime3.8\\lib\\site-packages\\statsmodels\\base\\model.py:607: ConvergenceWarning: Maximum Likelihood optimization failed to converge. Check mle_retvals\n",
      "  warnings.warn(\"Maximum Likelihood optimization failed to \"\n",
      "C:\\Users\\TnAky\\sktime3.8\\lib\\site-packages\\statsmodels\\base\\model.py:607: ConvergenceWarning: Maximum Likelihood optimization failed to converge. Check mle_retvals\n",
      "  warnings.warn(\"Maximum Likelihood optimization failed to \"\n",
      "C:\\Users\\TnAky\\sktime3.8\\lib\\site-packages\\statsmodels\\base\\model.py:607: ConvergenceWarning: Maximum Likelihood optimization failed to converge. Check mle_retvals\n",
      "  warnings.warn(\"Maximum Likelihood optimization failed to \"\n",
      "C:\\Users\\TnAky\\sktime3.8\\lib\\site-packages\\statsmodels\\base\\model.py:607: ConvergenceWarning: Maximum Likelihood optimization failed to converge. Check mle_retvals\n",
      "  warnings.warn(\"Maximum Likelihood optimization failed to \"\n",
      "C:\\Users\\TnAky\\sktime3.8\\lib\\site-packages\\statsmodels\\base\\model.py:607: ConvergenceWarning: Maximum Likelihood optimization failed to converge. Check mle_retvals\n",
      "  warnings.warn(\"Maximum Likelihood optimization failed to \"\n",
      "C:\\Users\\TnAky\\sktime3.8\\lib\\site-packages\\statsmodels\\base\\model.py:607: ConvergenceWarning: Maximum Likelihood optimization failed to converge. Check mle_retvals\n",
      "  warnings.warn(\"Maximum Likelihood optimization failed to \"\n",
      "C:\\Users\\TnAky\\sktime3.8\\lib\\site-packages\\statsmodels\\base\\model.py:607: ConvergenceWarning: Maximum Likelihood optimization failed to converge. Check mle_retvals\n",
      "  warnings.warn(\"Maximum Likelihood optimization failed to \"\n",
      "C:\\Users\\TnAky\\sktime3.8\\lib\\site-packages\\statsmodels\\base\\model.py:607: ConvergenceWarning: Maximum Likelihood optimization failed to converge. Check mle_retvals\n",
      "  warnings.warn(\"Maximum Likelihood optimization failed to \"\n",
      "C:\\Users\\TnAky\\sktime3.8\\lib\\site-packages\\statsmodels\\base\\model.py:607: ConvergenceWarning: Maximum Likelihood optimization failed to converge. Check mle_retvals\n",
      "  warnings.warn(\"Maximum Likelihood optimization failed to \"\n",
      "C:\\Users\\TnAky\\sktime3.8\\lib\\site-packages\\statsmodels\\base\\model.py:607: ConvergenceWarning: Maximum Likelihood optimization failed to converge. Check mle_retvals\n",
      "  warnings.warn(\"Maximum Likelihood optimization failed to \"\n",
      "C:\\Users\\TnAky\\sktime3.8\\lib\\site-packages\\statsmodels\\base\\model.py:607: ConvergenceWarning: Maximum Likelihood optimization failed to converge. Check mle_retvals\n",
      "  warnings.warn(\"Maximum Likelihood optimization failed to \"\n",
      "C:\\Users\\TnAky\\sktime3.8\\lib\\site-packages\\statsmodels\\base\\model.py:607: ConvergenceWarning: Maximum Likelihood optimization failed to converge. Check mle_retvals\n",
      "  warnings.warn(\"Maximum Likelihood optimization failed to \"\n",
      "C:\\Users\\TnAky\\sktime3.8\\lib\\site-packages\\statsmodels\\base\\model.py:607: ConvergenceWarning: Maximum Likelihood optimization failed to converge. Check mle_retvals\n",
      "  warnings.warn(\"Maximum Likelihood optimization failed to \"\n",
      "C:\\Users\\TnAky\\sktime3.8\\lib\\site-packages\\statsmodels\\base\\model.py:607: ConvergenceWarning: Maximum Likelihood optimization failed to converge. Check mle_retvals\n",
      "  warnings.warn(\"Maximum Likelihood optimization failed to \"\n",
      "C:\\Users\\TnAky\\sktime3.8\\lib\\site-packages\\statsmodels\\base\\model.py:607: ConvergenceWarning: Maximum Likelihood optimization failed to converge. Check mle_retvals\n",
      "  warnings.warn(\"Maximum Likelihood optimization failed to \"\n",
      "C:\\Users\\TnAky\\sktime3.8\\lib\\site-packages\\statsmodels\\base\\model.py:607: ConvergenceWarning: Maximum Likelihood optimization failed to converge. Check mle_retvals\n",
      "  warnings.warn(\"Maximum Likelihood optimization failed to \"\n",
      "C:\\Users\\TnAky\\sktime3.8\\lib\\site-packages\\statsmodels\\base\\model.py:607: ConvergenceWarning: Maximum Likelihood optimization failed to converge. Check mle_retvals\n",
      "  warnings.warn(\"Maximum Likelihood optimization failed to \"\n",
      "C:\\Users\\TnAky\\sktime3.8\\lib\\site-packages\\statsmodels\\base\\model.py:607: ConvergenceWarning: Maximum Likelihood optimization failed to converge. Check mle_retvals\n",
      "  warnings.warn(\"Maximum Likelihood optimization failed to \"\n",
      "C:\\Users\\TnAky\\sktime3.8\\lib\\site-packages\\statsmodels\\base\\model.py:607: ConvergenceWarning: Maximum Likelihood optimization failed to converge. Check mle_retvals\n",
      "  warnings.warn(\"Maximum Likelihood optimization failed to \"\n",
      "C:\\Users\\TnAky\\sktime3.8\\lib\\site-packages\\statsmodels\\base\\model.py:607: ConvergenceWarning: Maximum Likelihood optimization failed to converge. Check mle_retvals\n",
      "  warnings.warn(\"Maximum Likelihood optimization failed to \"\n",
      "C:\\Users\\TnAky\\sktime3.8\\lib\\site-packages\\statsmodels\\base\\model.py:607: ConvergenceWarning: Maximum Likelihood optimization failed to converge. Check mle_retvals\n",
      "  warnings.warn(\"Maximum Likelihood optimization failed to \"\n",
      "C:\\Users\\TnAky\\sktime3.8\\lib\\site-packages\\statsmodels\\base\\model.py:607: ConvergenceWarning: Maximum Likelihood optimization failed to converge. Check mle_retvals\n",
      "  warnings.warn(\"Maximum Likelihood optimization failed to \"\n",
      "C:\\Users\\TnAky\\sktime3.8\\lib\\site-packages\\statsmodels\\base\\model.py:607: ConvergenceWarning: Maximum Likelihood optimization failed to converge. Check mle_retvals\n",
      "  warnings.warn(\"Maximum Likelihood optimization failed to \"\n",
      "C:\\Users\\TnAky\\sktime3.8\\lib\\site-packages\\statsmodels\\base\\model.py:607: ConvergenceWarning: Maximum Likelihood optimization failed to converge. Check mle_retvals\n",
      "  warnings.warn(\"Maximum Likelihood optimization failed to \"\n",
      "C:\\Users\\TnAky\\sktime3.8\\lib\\site-packages\\statsmodels\\base\\model.py:607: ConvergenceWarning: Maximum Likelihood optimization failed to converge. Check mle_retvals\n",
      "  warnings.warn(\"Maximum Likelihood optimization failed to \"\n",
      "C:\\Users\\TnAky\\sktime3.8\\lib\\site-packages\\statsmodels\\base\\model.py:607: ConvergenceWarning: Maximum Likelihood optimization failed to converge. Check mle_retvals\n",
      "  warnings.warn(\"Maximum Likelihood optimization failed to \"\n",
      "C:\\Users\\TnAky\\sktime3.8\\lib\\site-packages\\statsmodels\\base\\model.py:607: ConvergenceWarning: Maximum Likelihood optimization failed to converge. Check mle_retvals\n",
      "  warnings.warn(\"Maximum Likelihood optimization failed to \"\n",
      "C:\\Users\\TnAky\\sktime3.8\\lib\\site-packages\\statsmodels\\base\\model.py:607: ConvergenceWarning: Maximum Likelihood optimization failed to converge. Check mle_retvals\n",
      "  warnings.warn(\"Maximum Likelihood optimization failed to \"\n",
      "C:\\Users\\TnAky\\sktime3.8\\lib\\site-packages\\statsmodels\\base\\model.py:607: ConvergenceWarning: Maximum Likelihood optimization failed to converge. Check mle_retvals\n",
      "  warnings.warn(\"Maximum Likelihood optimization failed to \"\n",
      "C:\\Users\\TnAky\\sktime3.8\\lib\\site-packages\\statsmodels\\base\\model.py:607: ConvergenceWarning: Maximum Likelihood optimization failed to converge. Check mle_retvals\n",
      "  warnings.warn(\"Maximum Likelihood optimization failed to \"\n",
      "C:\\Users\\TnAky\\sktime3.8\\lib\\site-packages\\statsmodels\\base\\model.py:607: ConvergenceWarning: Maximum Likelihood optimization failed to converge. Check mle_retvals\n",
      "  warnings.warn(\"Maximum Likelihood optimization failed to \"\n",
      "C:\\Users\\TnAky\\sktime3.8\\lib\\site-packages\\statsmodels\\base\\model.py:607: ConvergenceWarning: Maximum Likelihood optimization failed to converge. Check mle_retvals\n",
      "  warnings.warn(\"Maximum Likelihood optimization failed to \"\n",
      "C:\\Users\\TnAky\\sktime3.8\\lib\\site-packages\\statsmodels\\base\\model.py:607: ConvergenceWarning: Maximum Likelihood optimization failed to converge. Check mle_retvals\n",
      "  warnings.warn(\"Maximum Likelihood optimization failed to \"\n",
      "C:\\Users\\TnAky\\sktime3.8\\lib\\site-packages\\statsmodels\\base\\model.py:607: ConvergenceWarning: Maximum Likelihood optimization failed to converge. Check mle_retvals\n",
      "  warnings.warn(\"Maximum Likelihood optimization failed to \"\n",
      "C:\\Users\\TnAky\\sktime3.8\\lib\\site-packages\\statsmodels\\base\\model.py:607: ConvergenceWarning: Maximum Likelihood optimization failed to converge. Check mle_retvals\n",
      "  warnings.warn(\"Maximum Likelihood optimization failed to \"\n",
      "C:\\Users\\TnAky\\sktime3.8\\lib\\site-packages\\statsmodels\\base\\model.py:607: ConvergenceWarning: Maximum Likelihood optimization failed to converge. Check mle_retvals\n",
      "  warnings.warn(\"Maximum Likelihood optimization failed to \"\n",
      "C:\\Users\\TnAky\\sktime3.8\\lib\\site-packages\\statsmodels\\base\\model.py:607: ConvergenceWarning: Maximum Likelihood optimization failed to converge. Check mle_retvals\n",
      "  warnings.warn(\"Maximum Likelihood optimization failed to \"\n",
      "C:\\Users\\TnAky\\sktime3.8\\lib\\site-packages\\statsmodels\\base\\model.py:607: ConvergenceWarning: Maximum Likelihood optimization failed to converge. Check mle_retvals\n",
      "  warnings.warn(\"Maximum Likelihood optimization failed to \"\n",
      "C:\\Users\\TnAky\\sktime3.8\\lib\\site-packages\\statsmodels\\base\\model.py:607: ConvergenceWarning: Maximum Likelihood optimization failed to converge. Check mle_retvals\n",
      "  warnings.warn(\"Maximum Likelihood optimization failed to \"\n",
      "C:\\Users\\TnAky\\sktime3.8\\lib\\site-packages\\statsmodels\\base\\model.py:607: ConvergenceWarning: Maximum Likelihood optimization failed to converge. Check mle_retvals\n",
      "  warnings.warn(\"Maximum Likelihood optimization failed to \"\n",
      "C:\\Users\\TnAky\\sktime3.8\\lib\\site-packages\\statsmodels\\base\\model.py:607: ConvergenceWarning: Maximum Likelihood optimization failed to converge. Check mle_retvals\n",
      "  warnings.warn(\"Maximum Likelihood optimization failed to \"\n",
      "C:\\Users\\TnAky\\sktime3.8\\lib\\site-packages\\statsmodels\\base\\model.py:607: ConvergenceWarning: Maximum Likelihood optimization failed to converge. Check mle_retvals\n",
      "  warnings.warn(\"Maximum Likelihood optimization failed to \"\n",
      "C:\\Users\\TnAky\\sktime3.8\\lib\\site-packages\\statsmodels\\base\\model.py:607: ConvergenceWarning: Maximum Likelihood optimization failed to converge. Check mle_retvals\n",
      "  warnings.warn(\"Maximum Likelihood optimization failed to \"\n",
      "C:\\Users\\TnAky\\sktime3.8\\lib\\site-packages\\statsmodels\\base\\model.py:607: ConvergenceWarning: Maximum Likelihood optimization failed to converge. Check mle_retvals\n",
      "  warnings.warn(\"Maximum Likelihood optimization failed to \"\n",
      "C:\\Users\\TnAky\\sktime3.8\\lib\\site-packages\\statsmodels\\base\\model.py:607: ConvergenceWarning: Maximum Likelihood optimization failed to converge. Check mle_retvals\n",
      "  warnings.warn(\"Maximum Likelihood optimization failed to \"\n",
      "C:\\Users\\TnAky\\sktime3.8\\lib\\site-packages\\statsmodels\\base\\model.py:607: ConvergenceWarning: Maximum Likelihood optimization failed to converge. Check mle_retvals\n",
      "  warnings.warn(\"Maximum Likelihood optimization failed to \"\n",
      "C:\\Users\\TnAky\\sktime3.8\\lib\\site-packages\\statsmodels\\base\\model.py:607: ConvergenceWarning: Maximum Likelihood optimization failed to converge. Check mle_retvals\n",
      "  warnings.warn(\"Maximum Likelihood optimization failed to \"\n",
      "C:\\Users\\TnAky\\sktime3.8\\lib\\site-packages\\statsmodels\\base\\model.py:607: ConvergenceWarning: Maximum Likelihood optimization failed to converge. Check mle_retvals\n",
      "  warnings.warn(\"Maximum Likelihood optimization failed to \"\n",
      "C:\\Users\\TnAky\\sktime3.8\\lib\\site-packages\\statsmodels\\base\\model.py:607: ConvergenceWarning: Maximum Likelihood optimization failed to converge. Check mle_retvals\n",
      "  warnings.warn(\"Maximum Likelihood optimization failed to \"\n",
      "C:\\Users\\TnAky\\sktime3.8\\lib\\site-packages\\statsmodels\\base\\model.py:607: ConvergenceWarning: Maximum Likelihood optimization failed to converge. Check mle_retvals\n",
      "  warnings.warn(\"Maximum Likelihood optimization failed to \"\n",
      "C:\\Users\\TnAky\\sktime3.8\\lib\\site-packages\\statsmodels\\base\\model.py:607: ConvergenceWarning: Maximum Likelihood optimization failed to converge. Check mle_retvals\n",
      "  warnings.warn(\"Maximum Likelihood optimization failed to \"\n",
      "C:\\Users\\TnAky\\sktime3.8\\lib\\site-packages\\statsmodels\\base\\model.py:607: ConvergenceWarning: Maximum Likelihood optimization failed to converge. Check mle_retvals\n",
      "  warnings.warn(\"Maximum Likelihood optimization failed to \"\n",
      "C:\\Users\\TnAky\\sktime3.8\\lib\\site-packages\\statsmodels\\base\\model.py:607: ConvergenceWarning: Maximum Likelihood optimization failed to converge. Check mle_retvals\n",
      "  warnings.warn(\"Maximum Likelihood optimization failed to \"\n",
      "C:\\Users\\TnAky\\sktime3.8\\lib\\site-packages\\statsmodels\\base\\model.py:607: ConvergenceWarning: Maximum Likelihood optimization failed to converge. Check mle_retvals\n",
      "  warnings.warn(\"Maximum Likelihood optimization failed to \"\n",
      "C:\\Users\\TnAky\\sktime3.8\\lib\\site-packages\\statsmodels\\base\\model.py:607: ConvergenceWarning: Maximum Likelihood optimization failed to converge. Check mle_retvals\n",
      "  warnings.warn(\"Maximum Likelihood optimization failed to \"\n",
      "C:\\Users\\TnAky\\sktime3.8\\lib\\site-packages\\statsmodels\\base\\model.py:607: ConvergenceWarning: Maximum Likelihood optimization failed to converge. Check mle_retvals\n",
      "  warnings.warn(\"Maximum Likelihood optimization failed to \"\n",
      "C:\\Users\\TnAky\\sktime3.8\\lib\\site-packages\\statsmodels\\base\\model.py:607: ConvergenceWarning: Maximum Likelihood optimization failed to converge. Check mle_retvals\n",
      "  warnings.warn(\"Maximum Likelihood optimization failed to \"\n",
      "C:\\Users\\TnAky\\sktime3.8\\lib\\site-packages\\statsmodels\\base\\model.py:607: ConvergenceWarning: Maximum Likelihood optimization failed to converge. Check mle_retvals\n",
      "  warnings.warn(\"Maximum Likelihood optimization failed to \"\n",
      "C:\\Users\\TnAky\\sktime3.8\\lib\\site-packages\\statsmodels\\base\\model.py:607: ConvergenceWarning: Maximum Likelihood optimization failed to converge. Check mle_retvals\n",
      "  warnings.warn(\"Maximum Likelihood optimization failed to \"\n",
      "C:\\Users\\TnAky\\sktime3.8\\lib\\site-packages\\statsmodels\\base\\model.py:607: ConvergenceWarning: Maximum Likelihood optimization failed to converge. Check mle_retvals\n",
      "  warnings.warn(\"Maximum Likelihood optimization failed to \"\n",
      "C:\\Users\\TnAky\\sktime3.8\\lib\\site-packages\\statsmodels\\base\\model.py:607: ConvergenceWarning: Maximum Likelihood optimization failed to converge. Check mle_retvals\n",
      "  warnings.warn(\"Maximum Likelihood optimization failed to \"\n",
      "C:\\Users\\TnAky\\sktime3.8\\lib\\site-packages\\statsmodels\\base\\model.py:607: ConvergenceWarning: Maximum Likelihood optimization failed to converge. Check mle_retvals\n",
      "  warnings.warn(\"Maximum Likelihood optimization failed to \"\n",
      "C:\\Users\\TnAky\\sktime3.8\\lib\\site-packages\\statsmodels\\base\\model.py:607: ConvergenceWarning: Maximum Likelihood optimization failed to converge. Check mle_retvals\n",
      "  warnings.warn(\"Maximum Likelihood optimization failed to \"\n",
      "C:\\Users\\TnAky\\sktime3.8\\lib\\site-packages\\statsmodels\\base\\model.py:607: ConvergenceWarning: Maximum Likelihood optimization failed to converge. Check mle_retvals\n",
      "  warnings.warn(\"Maximum Likelihood optimization failed to \"\n",
      "C:\\Users\\TnAky\\sktime3.8\\lib\\site-packages\\statsmodels\\base\\model.py:607: ConvergenceWarning: Maximum Likelihood optimization failed to converge. Check mle_retvals\n",
      "  warnings.warn(\"Maximum Likelihood optimization failed to \"\n",
      "C:\\Users\\TnAky\\sktime3.8\\lib\\site-packages\\statsmodels\\base\\model.py:607: ConvergenceWarning: Maximum Likelihood optimization failed to converge. Check mle_retvals\n",
      "  warnings.warn(\"Maximum Likelihood optimization failed to \"\n"
     ]
    },
    {
     "data": {
      "text/plain": "AutoARIMA()",
      "text/html": "<style>#sk-588bb8af-a82b-4061-aa9b-bf9deee663e5 {color: black;background-color: white;}#sk-588bb8af-a82b-4061-aa9b-bf9deee663e5 pre{padding: 0;}#sk-588bb8af-a82b-4061-aa9b-bf9deee663e5 div.sk-toggleable {background-color: white;}#sk-588bb8af-a82b-4061-aa9b-bf9deee663e5 label.sk-toggleable__label {cursor: pointer;display: block;width: 100%;margin-bottom: 0;padding: 0.3em;box-sizing: border-box;text-align: center;}#sk-588bb8af-a82b-4061-aa9b-bf9deee663e5 label.sk-toggleable__label-arrow:before {content: \"▸\";float: left;margin-right: 0.25em;color: #696969;}#sk-588bb8af-a82b-4061-aa9b-bf9deee663e5 label.sk-toggleable__label-arrow:hover:before {color: black;}#sk-588bb8af-a82b-4061-aa9b-bf9deee663e5 div.sk-estimator:hover label.sk-toggleable__label-arrow:before {color: black;}#sk-588bb8af-a82b-4061-aa9b-bf9deee663e5 div.sk-toggleable__content {max-height: 0;max-width: 0;overflow: hidden;text-align: left;background-color: #f0f8ff;}#sk-588bb8af-a82b-4061-aa9b-bf9deee663e5 div.sk-toggleable__content pre {margin: 0.2em;color: black;border-radius: 0.25em;background-color: #f0f8ff;}#sk-588bb8af-a82b-4061-aa9b-bf9deee663e5 input.sk-toggleable__control:checked~div.sk-toggleable__content {max-height: 200px;max-width: 100%;overflow: auto;}#sk-588bb8af-a82b-4061-aa9b-bf9deee663e5 input.sk-toggleable__control:checked~label.sk-toggleable__label-arrow:before {content: \"▾\";}#sk-588bb8af-a82b-4061-aa9b-bf9deee663e5 div.sk-estimator input.sk-toggleable__control:checked~label.sk-toggleable__label {background-color: #d4ebff;}#sk-588bb8af-a82b-4061-aa9b-bf9deee663e5 div.sk-label input.sk-toggleable__control:checked~label.sk-toggleable__label {background-color: #d4ebff;}#sk-588bb8af-a82b-4061-aa9b-bf9deee663e5 input.sk-hidden--visually {border: 0;clip: rect(1px 1px 1px 1px);clip: rect(1px, 1px, 1px, 1px);height: 1px;margin: -1px;overflow: hidden;padding: 0;position: absolute;width: 1px;}#sk-588bb8af-a82b-4061-aa9b-bf9deee663e5 div.sk-estimator {font-family: monospace;background-color: #f0f8ff;border: 1px dotted black;border-radius: 0.25em;box-sizing: border-box;margin-bottom: 0.5em;}#sk-588bb8af-a82b-4061-aa9b-bf9deee663e5 div.sk-estimator:hover {background-color: #d4ebff;}#sk-588bb8af-a82b-4061-aa9b-bf9deee663e5 div.sk-parallel-item::after {content: \"\";width: 100%;border-bottom: 1px solid gray;flex-grow: 1;}#sk-588bb8af-a82b-4061-aa9b-bf9deee663e5 div.sk-label:hover label.sk-toggleable__label {background-color: #d4ebff;}#sk-588bb8af-a82b-4061-aa9b-bf9deee663e5 div.sk-serial::before {content: \"\";position: absolute;border-left: 1px solid gray;box-sizing: border-box;top: 2em;bottom: 0;left: 50%;}#sk-588bb8af-a82b-4061-aa9b-bf9deee663e5 div.sk-serial {display: flex;flex-direction: column;align-items: center;background-color: white;padding-right: 0.2em;padding-left: 0.2em;}#sk-588bb8af-a82b-4061-aa9b-bf9deee663e5 div.sk-item {z-index: 1;}#sk-588bb8af-a82b-4061-aa9b-bf9deee663e5 div.sk-parallel {display: flex;align-items: stretch;justify-content: center;background-color: white;}#sk-588bb8af-a82b-4061-aa9b-bf9deee663e5 div.sk-parallel::before {content: \"\";position: absolute;border-left: 1px solid gray;box-sizing: border-box;top: 2em;bottom: 0;left: 50%;}#sk-588bb8af-a82b-4061-aa9b-bf9deee663e5 div.sk-parallel-item {display: flex;flex-direction: column;position: relative;background-color: white;}#sk-588bb8af-a82b-4061-aa9b-bf9deee663e5 div.sk-parallel-item:first-child::after {align-self: flex-end;width: 50%;}#sk-588bb8af-a82b-4061-aa9b-bf9deee663e5 div.sk-parallel-item:last-child::after {align-self: flex-start;width: 50%;}#sk-588bb8af-a82b-4061-aa9b-bf9deee663e5 div.sk-parallel-item:only-child::after {width: 0;}#sk-588bb8af-a82b-4061-aa9b-bf9deee663e5 div.sk-dashed-wrapped {border: 1px dashed gray;margin: 0 0.4em 0.5em 0.4em;box-sizing: border-box;padding-bottom: 0.4em;background-color: white;position: relative;}#sk-588bb8af-a82b-4061-aa9b-bf9deee663e5 div.sk-label label {font-family: monospace;font-weight: bold;background-color: white;display: inline-block;line-height: 1.2em;}#sk-588bb8af-a82b-4061-aa9b-bf9deee663e5 div.sk-label-container {position: relative;z-index: 2;text-align: center;}#sk-588bb8af-a82b-4061-aa9b-bf9deee663e5 div.sk-container {/* jupyter's `normalize.less` sets `[hidden] { display: none; }` but bootstrap.min.css set `[hidden] { display: none !important; }` so we also need the `!important` here to be able to override the default hidden behavior on the sphinx rendered scikit-learn.org. See: https://github.com/scikit-learn/scikit-learn/issues/21755 */display: inline-block !important;position: relative;}#sk-588bb8af-a82b-4061-aa9b-bf9deee663e5 div.sk-text-repr-fallback {display: none;}</style><div id='sk-588bb8af-a82b-4061-aa9b-bf9deee663e5' class=\"sk-top-container\"><div class=\"sk-text-repr-fallback\"><pre>AutoARIMA()</pre><b>Please rerun this cell to show the HTML repr or trust the notebook.</b></div><div class=\"sk-container\" hidden><div class='sk-item'><div class=\"sk-estimator sk-toggleable\"><input class=\"sk-toggleable__control sk-hidden--visually\" id=UUID('e4a91d66-794f-4e9b-a901-f9e24d6d51ad') type=\"checkbox\" checked><label for=UUID('e4a91d66-794f-4e9b-a901-f9e24d6d51ad') class='sk-toggleable__label sk-toggleable__label-arrow'>AutoARIMA</label><div class=\"sk-toggleable__content\"><pre>AutoARIMA()</pre></div></div></div></div></div>"
     },
     "execution_count": 78,
     "metadata": {},
     "output_type": "execute_result"
    }
   ],
   "source": [
    "forecaster =  AutoARIMA()\n",
    "forecaster.fit(train)"
   ]
  },
  {
   "cell_type": "code",
   "execution_count": 79,
   "id": "d03b3012-5058-4296-8844-d67d9f74c59d",
   "metadata": {
    "ExecuteTime": {
     "end_time": "2024-06-10T19:07:30.686845900Z",
     "start_time": "2024-06-10T19:07:30.605270300Z"
    }
   },
   "outputs": [],
   "source": [
    "y_pred = forecaster.predict(fh2)"
   ]
  },
  {
   "cell_type": "code",
   "execution_count": 80,
   "id": "e36fa3c0-c99f-4634-b904-0721e6467865",
   "metadata": {
    "ExecuteTime": {
     "end_time": "2024-06-10T19:07:31.551421100Z",
     "start_time": "2024-06-10T19:07:31.530044300Z"
    }
   },
   "outputs": [
    {
     "data": {
      "text/plain": "                                      sales    onpromotion\nstore_nbr family     date                                 \n1         AUTOMOTIVE 2017-08-16    4.704427  6.991693e-274\n                     2017-08-17    4.541561  3.674356e-274\n                     2017-08-18    4.497597  5.258373e-275\n                     2017-08-19    4.497597  1.081728e-274\n                     2017-08-20    4.497597  1.806772e-274\n...                                     ...            ...\n3         SEAFOOD    2017-08-26   87.628143   1.697403e+00\n                     2017-08-27  103.236091   8.315984e-01\n                     2017-08-28   74.746845  -6.047275e-01\n                     2017-08-29   75.150595  -7.486686e-01\n                     2017-08-30   76.124690   6.900410e-01\n\n[90 rows x 2 columns]",
      "text/html": "<div>\n<style scoped>\n    .dataframe tbody tr th:only-of-type {\n        vertical-align: middle;\n    }\n\n    .dataframe tbody tr th {\n        vertical-align: top;\n    }\n\n    .dataframe thead th {\n        text-align: right;\n    }\n</style>\n<table border=\"1\" class=\"dataframe\">\n  <thead>\n    <tr style=\"text-align: right;\">\n      <th></th>\n      <th></th>\n      <th></th>\n      <th>sales</th>\n      <th>onpromotion</th>\n    </tr>\n    <tr>\n      <th>store_nbr</th>\n      <th>family</th>\n      <th>date</th>\n      <th></th>\n      <th></th>\n    </tr>\n  </thead>\n  <tbody>\n    <tr>\n      <th rowspan=\"5\" valign=\"top\">1</th>\n      <th rowspan=\"5\" valign=\"top\">AUTOMOTIVE</th>\n      <th>2017-08-16</th>\n      <td>4.704427</td>\n      <td>6.991693e-274</td>\n    </tr>\n    <tr>\n      <th>2017-08-17</th>\n      <td>4.541561</td>\n      <td>3.674356e-274</td>\n    </tr>\n    <tr>\n      <th>2017-08-18</th>\n      <td>4.497597</td>\n      <td>5.258373e-275</td>\n    </tr>\n    <tr>\n      <th>2017-08-19</th>\n      <td>4.497597</td>\n      <td>1.081728e-274</td>\n    </tr>\n    <tr>\n      <th>2017-08-20</th>\n      <td>4.497597</td>\n      <td>1.806772e-274</td>\n    </tr>\n    <tr>\n      <th>...</th>\n      <th>...</th>\n      <th>...</th>\n      <td>...</td>\n      <td>...</td>\n    </tr>\n    <tr>\n      <th rowspan=\"5\" valign=\"top\">3</th>\n      <th rowspan=\"5\" valign=\"top\">SEAFOOD</th>\n      <th>2017-08-26</th>\n      <td>87.628143</td>\n      <td>1.697403e+00</td>\n    </tr>\n    <tr>\n      <th>2017-08-27</th>\n      <td>103.236091</td>\n      <td>8.315984e-01</td>\n    </tr>\n    <tr>\n      <th>2017-08-28</th>\n      <td>74.746845</td>\n      <td>-6.047275e-01</td>\n    </tr>\n    <tr>\n      <th>2017-08-29</th>\n      <td>75.150595</td>\n      <td>-7.486686e-01</td>\n    </tr>\n    <tr>\n      <th>2017-08-30</th>\n      <td>76.124690</td>\n      <td>6.900410e-01</td>\n    </tr>\n  </tbody>\n</table>\n<p>90 rows × 2 columns</p>\n</div>"
     },
     "execution_count": 80,
     "metadata": {},
     "output_type": "execute_result"
    }
   ],
   "source": [
    "y_pred"
   ]
  },
  {
   "cell_type": "code",
   "execution_count": 37,
   "id": "849fbe3c-1b08-4028-96ba-86154639e6d7",
   "metadata": {},
   "outputs": [
    {
     "data": {
      "text/html": [
       "<div>\n",
       "<style scoped>\n",
       "    .dataframe tbody tr th:only-of-type {\n",
       "        vertical-align: middle;\n",
       "    }\n",
       "\n",
       "    .dataframe tbody tr th {\n",
       "        vertical-align: top;\n",
       "    }\n",
       "\n",
       "    .dataframe thead tr th {\n",
       "        text-align: left;\n",
       "    }\n",
       "\n",
       "    .dataframe thead tr:last-of-type th {\n",
       "        text-align: right;\n",
       "    }\n",
       "</style>\n",
       "<table border=\"1\" class=\"dataframe\">\n",
       "  <thead>\n",
       "    <tr>\n",
       "      <th>family</th>\n",
       "      <th colspan=\"10\" halign=\"left\">AUTOMOTIVE</th>\n",
       "      <th>...</th>\n",
       "      <th colspan=\"10\" halign=\"left\">SEAFOOD</th>\n",
       "    </tr>\n",
       "    <tr>\n",
       "      <th>family</th>\n",
       "      <th colspan=\"10\" halign=\"left\">AUTOMOTIVE</th>\n",
       "      <th>...</th>\n",
       "      <th colspan=\"10\" halign=\"left\">SEAFOOD</th>\n",
       "    </tr>\n",
       "    <tr>\n",
       "      <th>store_nbr</th>\n",
       "      <th>1</th>\n",
       "      <th>10</th>\n",
       "      <th>11</th>\n",
       "      <th>12</th>\n",
       "      <th>13</th>\n",
       "      <th>14</th>\n",
       "      <th>15</th>\n",
       "      <th>16</th>\n",
       "      <th>17</th>\n",
       "      <th>18</th>\n",
       "      <th>...</th>\n",
       "      <th>5</th>\n",
       "      <th>50</th>\n",
       "      <th>51</th>\n",
       "      <th>52</th>\n",
       "      <th>53</th>\n",
       "      <th>54</th>\n",
       "      <th>6</th>\n",
       "      <th>7</th>\n",
       "      <th>8</th>\n",
       "      <th>9</th>\n",
       "    </tr>\n",
       "    <tr>\n",
       "      <th>date</th>\n",
       "      <th></th>\n",
       "      <th></th>\n",
       "      <th></th>\n",
       "      <th></th>\n",
       "      <th></th>\n",
       "      <th></th>\n",
       "      <th></th>\n",
       "      <th></th>\n",
       "      <th></th>\n",
       "      <th></th>\n",
       "      <th></th>\n",
       "      <th></th>\n",
       "      <th></th>\n",
       "      <th></th>\n",
       "      <th></th>\n",
       "      <th></th>\n",
       "      <th></th>\n",
       "      <th></th>\n",
       "      <th></th>\n",
       "      <th></th>\n",
       "      <th></th>\n",
       "    </tr>\n",
       "  </thead>\n",
       "  <tbody>\n",
       "    <tr>\n",
       "      <th>2017-08-25</th>\n",
       "      <td>4.483274</td>\n",
       "      <td>1.811184</td>\n",
       "      <td>7.89436</td>\n",
       "      <td>5.932794</td>\n",
       "      <td>5.003217</td>\n",
       "      <td>3.829323</td>\n",
       "      <td>3.946422</td>\n",
       "      <td>4.902763</td>\n",
       "      <td>9.191286</td>\n",
       "      <td>4.312973</td>\n",
       "      <td>...</td>\n",
       "      <td>9.746943</td>\n",
       "      <td>19.963582</td>\n",
       "      <td>50.982105</td>\n",
       "      <td>9.403427</td>\n",
       "      <td>4.284481</td>\n",
       "      <td>2.579434</td>\n",
       "      <td>37.288262</td>\n",
       "      <td>43.194023</td>\n",
       "      <td>35.799047</td>\n",
       "      <td>17.768955</td>\n",
       "    </tr>\n",
       "  </tbody>\n",
       "</table>\n",
       "<p>1 rows × 1782 columns</p>\n",
       "</div>"
      ],
      "text/plain": [
       "family     AUTOMOTIVE                                                   \\\n",
       "family     AUTOMOTIVE                                                    \n",
       "store_nbr           1        10       11        12        13        14   \n",
       "date                                                                     \n",
       "2017-08-25   4.483274  1.811184  7.89436  5.932794  5.003217  3.829323   \n",
       "\n",
       "family                                              ...   SEAFOOD             \\\n",
       "family                                              ...   SEAFOOD              \n",
       "store_nbr         15        16        17        18  ...         5         50   \n",
       "date                                                ...                        \n",
       "2017-08-25  3.946422  4.902763  9.191286  4.312973  ...  9.746943  19.963582   \n",
       "\n",
       "family                                                                     \\\n",
       "family                                                                      \n",
       "store_nbr          51        52        53        54          6          7   \n",
       "date                                                                        \n",
       "2017-08-25  50.982105  9.403427  4.284481  2.579434  37.288262  43.194023   \n",
       "\n",
       "family                            \n",
       "family                            \n",
       "store_nbr           8          9  \n",
       "date                              \n",
       "2017-08-25  35.799047  17.768955  \n",
       "\n",
       "[1 rows x 1782 columns]"
      ]
     },
     "execution_count": 37,
     "metadata": {},
     "output_type": "execute_result"
    }
   ],
   "source": [
    "y_pred"
   ]
  },
  {
   "cell_type": "code",
   "execution_count": 47,
   "id": "cf452a12-5e6b-4d34-9155-37d3c0feb309",
   "metadata": {},
   "outputs": [
    {
     "data": {
      "text/plain": [
       "MultiIndex([('AUTOMOTIVE', 'AUTOMOTIVE',  '1'),\n",
       "            ('AUTOMOTIVE', 'AUTOMOTIVE', '10'),\n",
       "            ('AUTOMOTIVE', 'AUTOMOTIVE', '11'),\n",
       "            ('AUTOMOTIVE', 'AUTOMOTIVE', '12'),\n",
       "            ('AUTOMOTIVE', 'AUTOMOTIVE', '13'),\n",
       "            ('AUTOMOTIVE', 'AUTOMOTIVE', '14'),\n",
       "            ('AUTOMOTIVE', 'AUTOMOTIVE', '15'),\n",
       "            ('AUTOMOTIVE', 'AUTOMOTIVE', '16'),\n",
       "            ('AUTOMOTIVE', 'AUTOMOTIVE', '17'),\n",
       "            ('AUTOMOTIVE', 'AUTOMOTIVE', '18'),\n",
       "            ...\n",
       "            (   'SEAFOOD',    'SEAFOOD',  '5'),\n",
       "            (   'SEAFOOD',    'SEAFOOD', '50'),\n",
       "            (   'SEAFOOD',    'SEAFOOD', '51'),\n",
       "            (   'SEAFOOD',    'SEAFOOD', '52'),\n",
       "            (   'SEAFOOD',    'SEAFOOD', '53'),\n",
       "            (   'SEAFOOD',    'SEAFOOD', '54'),\n",
       "            (   'SEAFOOD',    'SEAFOOD',  '6'),\n",
       "            (   'SEAFOOD',    'SEAFOOD',  '7'),\n",
       "            (   'SEAFOOD',    'SEAFOOD',  '8'),\n",
       "            (   'SEAFOOD',    'SEAFOOD',  '9')],\n",
       "           names=['family', 'family', 'store_nbr'], length=1782)"
      ]
     },
     "execution_count": 47,
     "metadata": {},
     "output_type": "execute_result"
    }
   ],
   "source": []
  },
  {
   "cell_type": "code",
   "execution_count": null,
   "id": "25671c04-a8f5-408a-9ad7-fc5e85a0cb5d",
   "metadata": {},
   "outputs": [],
   "source": []
  }
 ],
 "metadata": {
  "kernelspec": {
   "display_name": "Python 3 (ipykernel)",
   "language": "python",
   "name": "python3"
  },
  "language_info": {
   "codemirror_mode": {
    "name": "ipython",
    "version": 3
   },
   "file_extension": ".py",
   "mimetype": "text/x-python",
   "name": "python",
   "nbconvert_exporter": "python",
   "pygments_lexer": "ipython3",
   "version": "3.9.7"
  }
 },
 "nbformat": 4,
 "nbformat_minor": 5
}
